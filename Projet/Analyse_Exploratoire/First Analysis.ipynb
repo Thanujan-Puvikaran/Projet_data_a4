{
 "cells": [
  {
   "cell_type": "markdown",
   "id": "fa6762fa",
   "metadata": {},
   "source": [
    "# Library"
   ]
  },
  {
   "cell_type": "code",
   "execution_count": 1,
   "id": "8365c942",
   "metadata": {},
   "outputs": [],
   "source": [
    "import pandas as pd\n",
    "from IPython.display import HTML, display\n",
    "import matplotlib.pyplot as plt\n",
    "import seaborn as sns\n",
    "import numpy as np\n",
    "import plotly.express as px"
   ]
  },
  {
   "cell_type": "code",
   "execution_count": 2,
   "id": "bbd099c3",
   "metadata": {},
   "outputs": [],
   "source": [
    "#Reading csv file preprocessed\n",
    "df = pd.read_csv(\"data_preproc.csv\")"
   ]
  },
  {
   "cell_type": "code",
   "execution_count": 3,
   "id": "c5cc6ca9",
   "metadata": {},
   "outputs": [
    {
     "data": {
      "text/html": [
       "<div>\n",
       "<style scoped>\n",
       "    .dataframe tbody tr th:only-of-type {\n",
       "        vertical-align: middle;\n",
       "    }\n",
       "\n",
       "    .dataframe tbody tr th {\n",
       "        vertical-align: top;\n",
       "    }\n",
       "\n",
       "    .dataframe thead th {\n",
       "        text-align: right;\n",
       "    }\n",
       "</style>\n",
       "<table border=\"1\" class=\"dataframe\">\n",
       "  <thead>\n",
       "    <tr style=\"text-align: right;\">\n",
       "      <th></th>\n",
       "      <th>Age</th>\n",
       "      <th>Gender</th>\n",
       "      <th>Education</th>\n",
       "      <th>Ethnicity</th>\n",
       "      <th>Nscore</th>\n",
       "      <th>Escore</th>\n",
       "      <th>Oscore</th>\n",
       "      <th>Ascore</th>\n",
       "      <th>Cscore</th>\n",
       "      <th>Impulsive</th>\n",
       "      <th>...</th>\n",
       "      <th>Heroin</th>\n",
       "      <th>Ketamine</th>\n",
       "      <th>Legalh</th>\n",
       "      <th>LSD</th>\n",
       "      <th>Meth</th>\n",
       "      <th>Mushrooms</th>\n",
       "      <th>Nicotine</th>\n",
       "      <th>Semer</th>\n",
       "      <th>VSA</th>\n",
       "      <th>Addiction</th>\n",
       "    </tr>\n",
       "  </thead>\n",
       "  <tbody>\n",
       "    <tr>\n",
       "      <th>0</th>\n",
       "      <td>0.49788</td>\n",
       "      <td>0.48246</td>\n",
       "      <td>-0.05921</td>\n",
       "      <td>0.12600</td>\n",
       "      <td>0.31287</td>\n",
       "      <td>-0.57545</td>\n",
       "      <td>-0.58331</td>\n",
       "      <td>-0.91699</td>\n",
       "      <td>-0.00665</td>\n",
       "      <td>-0.21712</td>\n",
       "      <td>...</td>\n",
       "      <td>0</td>\n",
       "      <td>0</td>\n",
       "      <td>0</td>\n",
       "      <td>0</td>\n",
       "      <td>0</td>\n",
       "      <td>0</td>\n",
       "      <td>1</td>\n",
       "      <td>0</td>\n",
       "      <td>0</td>\n",
       "      <td>0</td>\n",
       "    </tr>\n",
       "    <tr>\n",
       "      <th>1</th>\n",
       "      <td>-0.07854</td>\n",
       "      <td>-0.48246</td>\n",
       "      <td>1.98437</td>\n",
       "      <td>-0.31685</td>\n",
       "      <td>-0.67825</td>\n",
       "      <td>1.93886</td>\n",
       "      <td>1.43533</td>\n",
       "      <td>0.76096</td>\n",
       "      <td>-0.14277</td>\n",
       "      <td>-0.71126</td>\n",
       "      <td>...</td>\n",
       "      <td>0</td>\n",
       "      <td>1</td>\n",
       "      <td>0</td>\n",
       "      <td>1</td>\n",
       "      <td>1</td>\n",
       "      <td>0</td>\n",
       "      <td>1</td>\n",
       "      <td>0</td>\n",
       "      <td>0</td>\n",
       "      <td>2</td>\n",
       "    </tr>\n",
       "    <tr>\n",
       "      <th>2</th>\n",
       "      <td>0.49788</td>\n",
       "      <td>-0.48246</td>\n",
       "      <td>-0.05921</td>\n",
       "      <td>-0.31685</td>\n",
       "      <td>-0.46725</td>\n",
       "      <td>0.80523</td>\n",
       "      <td>-0.84732</td>\n",
       "      <td>-1.62090</td>\n",
       "      <td>-1.01450</td>\n",
       "      <td>-1.37983</td>\n",
       "      <td>...</td>\n",
       "      <td>0</td>\n",
       "      <td>0</td>\n",
       "      <td>0</td>\n",
       "      <td>0</td>\n",
       "      <td>0</td>\n",
       "      <td>0</td>\n",
       "      <td>0</td>\n",
       "      <td>0</td>\n",
       "      <td>0</td>\n",
       "      <td>0</td>\n",
       "    </tr>\n",
       "    <tr>\n",
       "      <th>3</th>\n",
       "      <td>-0.95197</td>\n",
       "      <td>0.48246</td>\n",
       "      <td>1.16365</td>\n",
       "      <td>-0.31685</td>\n",
       "      <td>-0.14882</td>\n",
       "      <td>-0.80615</td>\n",
       "      <td>-0.01928</td>\n",
       "      <td>0.59042</td>\n",
       "      <td>0.58489</td>\n",
       "      <td>-1.37983</td>\n",
       "      <td>...</td>\n",
       "      <td>0</td>\n",
       "      <td>1</td>\n",
       "      <td>0</td>\n",
       "      <td>0</td>\n",
       "      <td>0</td>\n",
       "      <td>0</td>\n",
       "      <td>1</td>\n",
       "      <td>0</td>\n",
       "      <td>0</td>\n",
       "      <td>0</td>\n",
       "    </tr>\n",
       "    <tr>\n",
       "      <th>4</th>\n",
       "      <td>0.49788</td>\n",
       "      <td>0.48246</td>\n",
       "      <td>1.98437</td>\n",
       "      <td>-0.31685</td>\n",
       "      <td>0.73545</td>\n",
       "      <td>-1.63340</td>\n",
       "      <td>-0.45174</td>\n",
       "      <td>-0.30172</td>\n",
       "      <td>1.30612</td>\n",
       "      <td>-0.21712</td>\n",
       "      <td>...</td>\n",
       "      <td>0</td>\n",
       "      <td>0</td>\n",
       "      <td>0</td>\n",
       "      <td>0</td>\n",
       "      <td>0</td>\n",
       "      <td>1</td>\n",
       "      <td>1</td>\n",
       "      <td>0</td>\n",
       "      <td>0</td>\n",
       "      <td>0</td>\n",
       "    </tr>\n",
       "    <tr>\n",
       "      <th>...</th>\n",
       "      <td>...</td>\n",
       "      <td>...</td>\n",
       "      <td>...</td>\n",
       "      <td>...</td>\n",
       "      <td>...</td>\n",
       "      <td>...</td>\n",
       "      <td>...</td>\n",
       "      <td>...</td>\n",
       "      <td>...</td>\n",
       "      <td>...</td>\n",
       "      <td>...</td>\n",
       "      <td>...</td>\n",
       "      <td>...</td>\n",
       "      <td>...</td>\n",
       "      <td>...</td>\n",
       "      <td>...</td>\n",
       "      <td>...</td>\n",
       "      <td>...</td>\n",
       "      <td>...</td>\n",
       "      <td>...</td>\n",
       "      <td>...</td>\n",
       "    </tr>\n",
       "    <tr>\n",
       "      <th>1880</th>\n",
       "      <td>-0.95197</td>\n",
       "      <td>0.48246</td>\n",
       "      <td>-0.61113</td>\n",
       "      <td>-0.31685</td>\n",
       "      <td>-1.19430</td>\n",
       "      <td>1.74091</td>\n",
       "      <td>1.88511</td>\n",
       "      <td>0.76096</td>\n",
       "      <td>-1.13788</td>\n",
       "      <td>0.88113</td>\n",
       "      <td>...</td>\n",
       "      <td>0</td>\n",
       "      <td>0</td>\n",
       "      <td>1</td>\n",
       "      <td>1</td>\n",
       "      <td>0</td>\n",
       "      <td>0</td>\n",
       "      <td>0</td>\n",
       "      <td>0</td>\n",
       "      <td>1</td>\n",
       "      <td>2</td>\n",
       "    </tr>\n",
       "    <tr>\n",
       "      <th>1881</th>\n",
       "      <td>-0.95197</td>\n",
       "      <td>-0.48246</td>\n",
       "      <td>-0.61113</td>\n",
       "      <td>-0.31685</td>\n",
       "      <td>-0.24649</td>\n",
       "      <td>1.74091</td>\n",
       "      <td>0.58331</td>\n",
       "      <td>0.76096</td>\n",
       "      <td>-1.51840</td>\n",
       "      <td>0.88113</td>\n",
       "      <td>...</td>\n",
       "      <td>0</td>\n",
       "      <td>0</td>\n",
       "      <td>1</td>\n",
       "      <td>1</td>\n",
       "      <td>1</td>\n",
       "      <td>1</td>\n",
       "      <td>1</td>\n",
       "      <td>0</td>\n",
       "      <td>0</td>\n",
       "      <td>2</td>\n",
       "    </tr>\n",
       "    <tr>\n",
       "      <th>1882</th>\n",
       "      <td>-0.07854</td>\n",
       "      <td>0.48246</td>\n",
       "      <td>0.45468</td>\n",
       "      <td>-0.31685</td>\n",
       "      <td>1.13281</td>\n",
       "      <td>-1.37639</td>\n",
       "      <td>-1.27553</td>\n",
       "      <td>-1.77200</td>\n",
       "      <td>-1.38502</td>\n",
       "      <td>0.52975</td>\n",
       "      <td>...</td>\n",
       "      <td>0</td>\n",
       "      <td>1</td>\n",
       "      <td>0</td>\n",
       "      <td>1</td>\n",
       "      <td>0</td>\n",
       "      <td>1</td>\n",
       "      <td>1</td>\n",
       "      <td>0</td>\n",
       "      <td>0</td>\n",
       "      <td>1</td>\n",
       "    </tr>\n",
       "    <tr>\n",
       "      <th>1883</th>\n",
       "      <td>-0.95197</td>\n",
       "      <td>0.48246</td>\n",
       "      <td>-0.61113</td>\n",
       "      <td>-0.31685</td>\n",
       "      <td>0.91093</td>\n",
       "      <td>-1.92173</td>\n",
       "      <td>0.29338</td>\n",
       "      <td>-1.62090</td>\n",
       "      <td>-2.57309</td>\n",
       "      <td>1.29221</td>\n",
       "      <td>...</td>\n",
       "      <td>0</td>\n",
       "      <td>0</td>\n",
       "      <td>1</td>\n",
       "      <td>1</td>\n",
       "      <td>0</td>\n",
       "      <td>1</td>\n",
       "      <td>1</td>\n",
       "      <td>0</td>\n",
       "      <td>0</td>\n",
       "      <td>1</td>\n",
       "    </tr>\n",
       "    <tr>\n",
       "      <th>1884</th>\n",
       "      <td>-0.95197</td>\n",
       "      <td>-0.48246</td>\n",
       "      <td>-0.61113</td>\n",
       "      <td>-0.31685</td>\n",
       "      <td>-0.46725</td>\n",
       "      <td>2.12700</td>\n",
       "      <td>1.65653</td>\n",
       "      <td>1.11406</td>\n",
       "      <td>0.41594</td>\n",
       "      <td>0.88113</td>\n",
       "      <td>...</td>\n",
       "      <td>0</td>\n",
       "      <td>0</td>\n",
       "      <td>1</td>\n",
       "      <td>1</td>\n",
       "      <td>0</td>\n",
       "      <td>1</td>\n",
       "      <td>1</td>\n",
       "      <td>0</td>\n",
       "      <td>1</td>\n",
       "      <td>2</td>\n",
       "    </tr>\n",
       "  </tbody>\n",
       "</table>\n",
       "<p>1885 rows × 31 columns</p>\n",
       "</div>"
      ],
      "text/plain": [
       "          Age   Gender  Education  Ethnicity   Nscore   Escore   Oscore  \\\n",
       "0     0.49788  0.48246   -0.05921    0.12600  0.31287 -0.57545 -0.58331   \n",
       "1    -0.07854 -0.48246    1.98437   -0.31685 -0.67825  1.93886  1.43533   \n",
       "2     0.49788 -0.48246   -0.05921   -0.31685 -0.46725  0.80523 -0.84732   \n",
       "3    -0.95197  0.48246    1.16365   -0.31685 -0.14882 -0.80615 -0.01928   \n",
       "4     0.49788  0.48246    1.98437   -0.31685  0.73545 -1.63340 -0.45174   \n",
       "...       ...      ...        ...        ...      ...      ...      ...   \n",
       "1880 -0.95197  0.48246   -0.61113   -0.31685 -1.19430  1.74091  1.88511   \n",
       "1881 -0.95197 -0.48246   -0.61113   -0.31685 -0.24649  1.74091  0.58331   \n",
       "1882 -0.07854  0.48246    0.45468   -0.31685  1.13281 -1.37639 -1.27553   \n",
       "1883 -0.95197  0.48246   -0.61113   -0.31685  0.91093 -1.92173  0.29338   \n",
       "1884 -0.95197 -0.48246   -0.61113   -0.31685 -0.46725  2.12700  1.65653   \n",
       "\n",
       "       Ascore   Cscore  Impulsive  ...  Heroin  Ketamine  Legalh  LSD  Meth  \\\n",
       "0    -0.91699 -0.00665   -0.21712  ...       0         0       0    0     0   \n",
       "1     0.76096 -0.14277   -0.71126  ...       0         1       0    1     1   \n",
       "2    -1.62090 -1.01450   -1.37983  ...       0         0       0    0     0   \n",
       "3     0.59042  0.58489   -1.37983  ...       0         1       0    0     0   \n",
       "4    -0.30172  1.30612   -0.21712  ...       0         0       0    0     0   \n",
       "...       ...      ...        ...  ...     ...       ...     ...  ...   ...   \n",
       "1880  0.76096 -1.13788    0.88113  ...       0         0       1    1     0   \n",
       "1881  0.76096 -1.51840    0.88113  ...       0         0       1    1     1   \n",
       "1882 -1.77200 -1.38502    0.52975  ...       0         1       0    1     0   \n",
       "1883 -1.62090 -2.57309    1.29221  ...       0         0       1    1     0   \n",
       "1884  1.11406  0.41594    0.88113  ...       0         0       1    1     0   \n",
       "\n",
       "      Mushrooms  Nicotine  Semer  VSA  Addiction  \n",
       "0             0         1      0    0          0  \n",
       "1             0         1      0    0          2  \n",
       "2             0         0      0    0          0  \n",
       "3             0         1      0    0          0  \n",
       "4             1         1      0    0          0  \n",
       "...         ...       ...    ...  ...        ...  \n",
       "1880          0         0      0    1          2  \n",
       "1881          1         1      0    0          2  \n",
       "1882          1         1      0    0          1  \n",
       "1883          1         1      0    0          1  \n",
       "1884          1         1      0    1          2  \n",
       "\n",
       "[1885 rows x 31 columns]"
      ]
     },
     "execution_count": 3,
     "metadata": {},
     "output_type": "execute_result"
    }
   ],
   "source": [
    "df"
   ]
  },
  {
   "cell_type": "code",
   "execution_count": 4,
   "id": "befcd69f",
   "metadata": {},
   "outputs": [
    {
     "data": {
      "text/plain": [
       "(1885, 31)"
      ]
     },
     "execution_count": 4,
     "metadata": {},
     "output_type": "execute_result"
    }
   ],
   "source": [
    "df.shape"
   ]
  },
  {
   "cell_type": "markdown",
   "id": "a87fe0cb",
   "metadata": {},
   "source": [
    "# Target analysis"
   ]
  },
  {
   "cell_type": "code",
   "execution_count": 5,
   "id": "d8e5369c",
   "metadata": {},
   "outputs": [
    {
     "data": {
      "text/plain": [
       "0    0.448806\n",
       "1    0.278515\n",
       "2    0.272679\n",
       "Name: Addiction, dtype: float64"
      ]
     },
     "execution_count": 5,
     "metadata": {},
     "output_type": "execute_result"
    }
   ],
   "source": [
    "df[\"Addiction\"].value_counts(normalize = True)"
   ]
  },
  {
   "cell_type": "code",
   "execution_count": 6,
   "id": "4c4c1d17",
   "metadata": {},
   "outputs": [],
   "source": [
    "target_per = pd.DataFrame(df[\"Addiction\"].value_counts(normalize = True))"
   ]
  },
  {
   "cell_type": "code",
   "execution_count": 7,
   "id": "938db517",
   "metadata": {},
   "outputs": [
    {
     "data": {
      "text/html": [
       "<div>\n",
       "<style scoped>\n",
       "    .dataframe tbody tr th:only-of-type {\n",
       "        vertical-align: middle;\n",
       "    }\n",
       "\n",
       "    .dataframe tbody tr th {\n",
       "        vertical-align: top;\n",
       "    }\n",
       "\n",
       "    .dataframe thead th {\n",
       "        text-align: right;\n",
       "    }\n",
       "</style>\n",
       "<table border=\"1\" class=\"dataframe\">\n",
       "  <thead>\n",
       "    <tr style=\"text-align: right;\">\n",
       "      <th></th>\n",
       "      <th>Addiction</th>\n",
       "    </tr>\n",
       "  </thead>\n",
       "  <tbody>\n",
       "    <tr>\n",
       "      <th>0</th>\n",
       "      <td>0.448806</td>\n",
       "    </tr>\n",
       "    <tr>\n",
       "      <th>1</th>\n",
       "      <td>0.278515</td>\n",
       "    </tr>\n",
       "    <tr>\n",
       "      <th>2</th>\n",
       "      <td>0.272679</td>\n",
       "    </tr>\n",
       "  </tbody>\n",
       "</table>\n",
       "</div>"
      ],
      "text/plain": [
       "   Addiction\n",
       "0   0.448806\n",
       "1   0.278515\n",
       "2   0.272679"
      ]
     },
     "execution_count": 7,
     "metadata": {},
     "output_type": "execute_result"
    }
   ],
   "source": [
    "target_per"
   ]
  },
  {
   "cell_type": "code",
   "execution_count": 8,
   "id": "5ed66cd6",
   "metadata": {},
   "outputs": [
    {
     "data": {
      "text/plain": [
       "<matplotlib.legend.Legend at 0x1d705baf6a0>"
      ]
     },
     "execution_count": 8,
     "metadata": {},
     "output_type": "execute_result"
    },
    {
     "data": {
      "image/png": "[encoded data removed]",
      "text/plain": [
       "<Figure size 576x576 with 1 Axes>"
      ]
     },
     "metadata": {},
     "output_type": "display_data"
    }
   ],
   "source": [
    "plt.rcParams['axes.labelsize'] = 15\n",
    "plt.rcParams['xtick.labelsize'] = 11\n",
    "plt.rcParams['ytick.labelsize'] = 11\n",
    "plt.rcParams['font.size'] = 22\n",
    "plt.figure(figsize=(8, 8))\n",
    "\n",
    "plt.pie(x = target_per[\"Addiction\"], startangle=45, autopct='%.1f%%', pctdistance = 1.18)\n",
    "\n",
    "plt.title('Target Composition', fontsize=18)\n",
    "plt.legend(labels=target_per.index.sort_values(), loc='upper right', prop={'size': 20},\\\n",
    "bbox_to_anchor=(1.5, 0.7))"
   ]
  },
  {
   "cell_type": "markdown",
   "id": "6bebf7c4",
   "metadata": {},
   "source": [
    "# Univariate"
   ]
  },
  {
   "cell_type": "markdown",
   "id": "423646c9",
   "metadata": {},
   "source": [
    "## Age"
   ]
  },
  {
   "cell_type": "code",
   "execution_count": 9,
   "id": "45c2137e",
   "metadata": {},
   "outputs": [
    {
     "data": {
      "text/plain": [
       "Text(0, 0.5, 'Age')"
      ]
     },
     "execution_count": 9,
     "metadata": {},
     "output_type": "execute_result"
    },
    {
     "data": {
      "image/png": "[encoded data removed]",
      "text/plain": [
       "<Figure size 720x504 with 1 Axes>"
      ]
     },
     "metadata": {
      "needs_background": "light"
     },
     "output_type": "display_data"
    }
   ],
   "source": [
    "# Boxplot Age\n",
    "\n",
    "plt.rcParams['axes.labelsize'] = 20\n",
    "plt.rcParams['xtick.labelsize'] = 20\n",
    "plt.rcParams['ytick.labelsize'] = 18\n",
    "plt.rcParams['font.size'] = 26\n",
    "plt.figure(figsize=(10, 7))\n",
    "\n",
    "plt.title('Age', fontsize=20)\n",
    "\n",
    "sns.boxplot(y ='Age', data = df)\n",
    "\n",
    "plt.ylabel('Age')"
   ]
  },
  {
   "cell_type": "code",
   "execution_count": 10,
   "id": "615c54ca",
   "metadata": {},
   "outputs": [
    {
     "data": {
      "text/plain": [
       "Text(0, 0.5, 'Age')"
      ]
     },
     "execution_count": 10,
     "metadata": {},
     "output_type": "execute_result"
    },
    {
     "data": {
      "image/png": "[encoded data removed]",
      "text/plain": [
       "<Figure size 720x504 with 1 Axes>"
      ]
     },
     "metadata": {
      "needs_background": "light"
     },
     "output_type": "display_data"
    }
   ],
   "source": [
    "# Boxplot Age vs Target\n",
    "\n",
    "plt.rcParams['axes.labelsize'] = 20\n",
    "plt.rcParams['xtick.labelsize'] = 20\n",
    "plt.rcParams['ytick.labelsize'] = 18\n",
    "plt.rcParams['font.size'] = 26\n",
    "plt.figure(figsize=(10, 7))\n",
    "\n",
    "plt.title('Age and Addiction', fontsize=20)\n",
    "\n",
    "sns.boxplot(x = \"Addiction\", y ='Age', data = df)\n",
    "\n",
    "plt.ylabel('Age')"
   ]
  },
  {
   "cell_type": "markdown",
   "id": "0a525238",
   "metadata": {},
   "source": [
    "## Gender"
   ]
  },
  {
   "cell_type": "code",
   "execution_count": 11,
   "id": "48699b46",
   "metadata": {},
   "outputs": [
    {
     "data": {
      "text/plain": [
       "Text(0, 0.5, 'Gender')"
      ]
     },
     "execution_count": 11,
     "metadata": {},
     "output_type": "execute_result"
    },
    {
     "data": {
      "image/png": "[encoded data removed]",
      "text/plain": [
       "<Figure size 720x504 with 1 Axes>"
      ]
     },
     "metadata": {
      "needs_background": "light"
     },
     "output_type": "display_data"
    }
   ],
   "source": [
    "# Boxplot Age\n",
    "\n",
    "plt.rcParams['axes.labelsize'] = 20\n",
    "plt.rcParams['xtick.labelsize'] = 20\n",
    "plt.rcParams['ytick.labelsize'] = 18\n",
    "plt.rcParams['font.size'] = 26\n",
    "plt.figure(figsize=(10, 7))\n",
    "\n",
    "plt.title('Gender', fontsize=20)\n",
    "\n",
    "sns.boxplot(y ='Gender', data = df)\n",
    "\n",
    "plt.ylabel('Gender')"
   ]
  },
  {
   "cell_type": "code",
   "execution_count": 12,
   "id": "90c8eb55",
   "metadata": {},
   "outputs": [
    {
     "data": {
      "text/plain": [
       "Text(0, 0.5, 'Gender')"
      ]
     },
     "execution_count": 12,
     "metadata": {},
     "output_type": "execute_result"
    },
    {
     "data": {
      "image/png": "[encoded data removed]",
      "text/plain": [
       "<Figure size 720x504 with 1 Axes>"
      ]
     },
     "metadata": {
      "needs_background": "light"
     },
     "output_type": "display_data"
    }
   ],
   "source": [
    "# Boxplot Age vs Target\n",
    "\n",
    "plt.rcParams['axes.labelsize'] = 20\n",
    "plt.rcParams['xtick.labelsize'] = 20\n",
    "plt.rcParams['ytick.labelsize'] = 18\n",
    "plt.rcParams['font.size'] = 26\n",
    "plt.figure(figsize=(10, 7))\n",
    "\n",
    "plt.title('Gender and Addiction', fontsize=20)\n",
    "\n",
    "sns.boxplot(x = \"Addiction\", y ='Gender', data = df)\n",
    "\n",
    "plt.ylabel('Gender')"
   ]
  },
  {
   "cell_type": "markdown",
   "id": "a3d83ddd",
   "metadata": {},
   "source": [
    "## Education"
   ]
  },
  {
   "cell_type": "code",
   "execution_count": 13,
   "id": "edd4bc95",
   "metadata": {},
   "outputs": [
    {
     "data": {
      "text/plain": [
       "Text(0, 0.5, 'Education')"
      ]
     },
     "execution_count": 13,
     "metadata": {},
     "output_type": "execute_result"
    },
    {
     "data": {
      "image/png": "[encoded data removed]",
      "text/plain": [
       "<Figure size 720x504 with 1 Axes>"
      ]
     },
     "metadata": {
      "needs_background": "light"
     },
     "output_type": "display_data"
    }
   ],
   "source": [
    "# Boxplot Education\n",
    "\n",
    "plt.rcParams['axes.labelsize'] = 20\n",
    "plt.rcParams['xtick.labelsize'] = 20\n",
    "plt.rcParams['ytick.labelsize'] = 18\n",
    "plt.rcParams['font.size'] = 26\n",
    "plt.figure(figsize=(10, 7))\n",
    "\n",
    "plt.title('Education', fontsize=20)\n",
    "\n",
    "sns.boxplot(y ='Education', data = df)\n",
    "\n",
    "plt.ylabel('Education')"
   ]
  },
  {
   "cell_type": "code",
   "execution_count": 14,
   "id": "4031047a",
   "metadata": {},
   "outputs": [
    {
     "data": {
      "text/plain": [
       "Text(0, 0.5, 'Education')"
      ]
     },
     "execution_count": 14,
     "metadata": {},
     "output_type": "execute_result"
    },
    {
     "data": {
      "image/png": "[encoded data removed]",
      "text/plain": [
       "<Figure size 720x504 with 1 Axes>"
      ]
     },
     "metadata": {
      "needs_background": "light"
     },
     "output_type": "display_data"
    }
   ],
   "source": [
    "# Boxplot Education vs Target\n",
    "\n",
    "plt.rcParams['axes.labelsize'] = 20\n",
    "plt.rcParams['xtick.labelsize'] = 20\n",
    "plt.rcParams['ytick.labelsize'] = 18\n",
    "plt.rcParams['font.size'] = 26\n",
    "plt.figure(figsize=(10, 7))\n",
    "\n",
    "plt.title('Education and Addiction', fontsize=20)\n",
    "\n",
    "sns.boxplot(x = \"Addiction\", y ='Education', data = df)\n",
    "\n",
    "plt.ylabel('Education')"
   ]
  },
  {
   "cell_type": "markdown",
   "id": "ae7ca8f2",
   "metadata": {},
   "source": [
    "## Ethnicity"
   ]
  },
  {
   "cell_type": "code",
   "execution_count": 15,
   "id": "0fe3e14a",
   "metadata": {},
   "outputs": [
    {
     "data": {
      "text/plain": [
       "Text(0, 0.5, 'Ethnicity')"
      ]
     },
     "execution_count": 15,
     "metadata": {},
     "output_type": "execute_result"
    },
    {
     "data": {
      "image/png": "[encoded data removed]",
      "text/plain": [
       "<Figure size 720x504 with 1 Axes>"
      ]
     },
     "metadata": {
      "needs_background": "light"
     },
     "output_type": "display_data"
    }
   ],
   "source": [
    "# Boxplot Education\n",
    "\n",
    "plt.rcParams['axes.labelsize'] = 20\n",
    "plt.rcParams['xtick.labelsize'] = 20\n",
    "plt.rcParams['ytick.labelsize'] = 18\n",
    "plt.rcParams['font.size'] = 26\n",
    "plt.figure(figsize=(10, 7))\n",
    "\n",
    "plt.title('Ethnicity', fontsize=20)\n",
    "\n",
    "sns.boxplot(y ='Ethnicity', data = df, showfliers = False)\n",
    "\n",
    "plt.ylabel('Ethnicity')"
   ]
  },
  {
   "cell_type": "code",
   "execution_count": 16,
   "id": "c52ee961",
   "metadata": {},
   "outputs": [
    {
     "data": {
      "text/plain": [
       "Text(0, 0.5, 'Ethnicity')"
      ]
     },
     "execution_count": 16,
     "metadata": {},
     "output_type": "execute_result"
    },
    {
     "data": {
      "image/png": "[encoded data removed]",
      "text/plain": [
       "<Figure size 720x504 with 1 Axes>"
      ]
     },
     "metadata": {
      "needs_background": "light"
     },
     "output_type": "display_data"
    }
   ],
   "source": [
    "# Boxplot Education vs Target\n",
    "\n",
    "plt.rcParams['axes.labelsize'] = 20\n",
    "plt.rcParams['xtick.labelsize'] = 20\n",
    "plt.rcParams['ytick.labelsize'] = 18\n",
    "plt.rcParams['font.size'] = 26\n",
    "plt.figure(figsize=(10, 7))\n",
    "\n",
    "plt.title('Ethnicity and Addiction', fontsize=20)\n",
    "\n",
    "sns.boxplot(x = \"Addiction\", y ='Ethnicity', data = df, showfliers = False)\n",
    "\n",
    "plt.ylabel('Ethnicity')"
   ]
  },
  {
   "cell_type": "markdown",
   "id": "6f966436",
   "metadata": {},
   "source": [
    "## NScore"
   ]
  },
  {
   "cell_type": "markdown",
   "id": "500316ec",
   "metadata": {},
   "source": [
    "- NEO PI-R a personality survey\n",
    "- Neurotism score: Anxiety, Angry/Hostility, Depression, Timidity, Impulsivity, Vulnerability"
   ]
  },
  {
   "cell_type": "code",
   "execution_count": 17,
   "id": "b44dd8e5",
   "metadata": {},
   "outputs": [
    {
     "data": {
      "text/plain": [
       "Text(0, 0.5, 'Nscore')"
      ]
     },
     "execution_count": 17,
     "metadata": {},
     "output_type": "execute_result"
    },
    {
     "data": {
      "image/png": "[encoded data removed]",
      "text/plain": [
       "<Figure size 720x504 with 1 Axes>"
      ]
     },
     "metadata": {
      "needs_background": "light"
     },
     "output_type": "display_data"
    }
   ],
   "source": [
    "# Boxplot NScore\n",
    "\n",
    "plt.rcParams['axes.labelsize'] = 20\n",
    "plt.rcParams['xtick.labelsize'] = 20\n",
    "plt.rcParams['ytick.labelsize'] = 18\n",
    "plt.rcParams['font.size'] = 26\n",
    "plt.figure(figsize=(10, 7))\n",
    "\n",
    "plt.title('Nscore', fontsize=20)\n",
    "\n",
    "sns.boxplot(y ='Nscore', data = df)\n",
    "\n",
    "plt.ylabel('Nscore')"
   ]
  },
  {
   "cell_type": "code",
   "execution_count": 18,
   "id": "782db7c2",
   "metadata": {},
   "outputs": [
    {
     "data": {
      "text/plain": [
       "Text(0, 0.5, 'Nscore')"
      ]
     },
     "execution_count": 18,
     "metadata": {},
     "output_type": "execute_result"
    },
    {
     "data": {
      "image/png": "[encoded data removed]",
      "text/plain": [
       "<Figure size 720x504 with 1 Axes>"
      ]
     },
     "metadata": {
      "needs_background": "light"
     },
     "output_type": "display_data"
    }
   ],
   "source": [
    "# Boxplot NScore vs Target\n",
    "\n",
    "plt.rcParams['axes.labelsize'] = 20\n",
    "plt.rcParams['xtick.labelsize'] = 20\n",
    "plt.rcParams['ytick.labelsize'] = 18\n",
    "plt.rcParams['font.size'] = 26\n",
    "plt.figure(figsize=(10, 7))\n",
    "\n",
    "plt.title('Nscore and Addiction', fontsize=20)\n",
    "\n",
    "sns.boxplot(x = \"Addiction\", y ='Nscore', data = df)\n",
    "\n",
    "plt.ylabel('Nscore')"
   ]
  },
  {
   "cell_type": "markdown",
   "id": "080084bf",
   "metadata": {},
   "source": [
    "# Escore"
   ]
  },
  {
   "cell_type": "markdown",
   "id": "a3e0a339",
   "metadata": {},
   "source": [
    "- Extraversion level: Warmth/kindness, Gregariousness, Assertiveness, Activity, Excitment Seeking, Positive Emotion"
   ]
  },
  {
   "cell_type": "code",
   "execution_count": 19,
   "id": "e82850c0",
   "metadata": {},
   "outputs": [
    {
     "data": {
      "text/plain": [
       "Text(0, 0.5, 'Escore')"
      ]
     },
     "execution_count": 19,
     "metadata": {},
     "output_type": "execute_result"
    },
    {
     "data": {
      "image/png": "[encoded data removed]",
      "text/plain": [
       "<Figure size 720x504 with 1 Axes>"
      ]
     },
     "metadata": {
      "needs_background": "light"
     },
     "output_type": "display_data"
    }
   ],
   "source": [
    "# Boxplot Escore\n",
    "\n",
    "plt.rcParams['axes.labelsize'] = 20\n",
    "plt.rcParams['xtick.labelsize'] = 20\n",
    "plt.rcParams['ytick.labelsize'] = 18\n",
    "plt.rcParams['font.size'] = 26\n",
    "plt.figure(figsize=(10, 7))\n",
    "\n",
    "plt.title('Escore', fontsize=20)\n",
    "\n",
    "sns.boxplot(y ='Escore', data = df)\n",
    "\n",
    "plt.ylabel('Escore')"
   ]
  },
  {
   "cell_type": "code",
   "execution_count": 20,
   "id": "4feb20d9",
   "metadata": {},
   "outputs": [
    {
     "data": {
      "text/plain": [
       "Text(0, 0.5, 'Escore')"
      ]
     },
     "execution_count": 20,
     "metadata": {},
     "output_type": "execute_result"
    },
    {
     "data": {
      "image/png": "[encoded data removed]",
      "text/plain": [
       "<Figure size 720x504 with 1 Axes>"
      ]
     },
     "metadata": {
      "needs_background": "light"
     },
     "output_type": "display_data"
    }
   ],
   "source": [
    "# Boxplot Escore vs Target\n",
    "\n",
    "plt.rcParams['axes.labelsize'] = 20\n",
    "plt.rcParams['xtick.labelsize'] = 20\n",
    "plt.rcParams['ytick.labelsize'] = 18\n",
    "plt.rcParams['font.size'] = 26\n",
    "plt.figure(figsize=(10, 7))\n",
    "\n",
    "plt.title('Escore and Addiction', fontsize=20)\n",
    "\n",
    "sns.boxplot(x = \"Addiction\", y ='Escore', data = df)\n",
    "\n",
    "plt.ylabel('Escore')"
   ]
  },
  {
   "cell_type": "markdown",
   "id": "3f6cf52c",
   "metadata": {},
   "source": [
    "# Oscore"
   ]
  },
  {
   "cell_type": "markdown",
   "id": "fb82dfd0",
   "metadata": {},
   "source": [
    "- Open minded level: Fantasy, Aesthetics, Feelings, Actions, Ideas, Values/liberalism"
   ]
  },
  {
   "cell_type": "code",
   "execution_count": 21,
   "id": "0b1b4b26",
   "metadata": {},
   "outputs": [
    {
     "data": {
      "text/plain": [
       "Text(0, 0.5, 'Oscore')"
      ]
     },
     "execution_count": 21,
     "metadata": {},
     "output_type": "execute_result"
    },
    {
     "data": {
      "image/png": "[encoded data removed]",
      "text/plain": [
       "<Figure size 720x504 with 1 Axes>"
      ]
     },
     "metadata": {
      "needs_background": "light"
     },
     "output_type": "display_data"
    }
   ],
   "source": [
    "# Boxplot Oscore\n",
    "\n",
    "plt.rcParams['axes.labelsize'] = 20\n",
    "plt.rcParams['xtick.labelsize'] = 20\n",
    "plt.rcParams['ytick.labelsize'] = 18\n",
    "plt.rcParams['font.size'] = 26\n",
    "plt.figure(figsize=(10, 7))\n",
    "\n",
    "plt.title('Oscore', fontsize=20)\n",
    "\n",
    "sns.boxplot(y ='Oscore', data = df)\n",
    "\n",
    "plt.ylabel('Oscore')"
   ]
  },
  {
   "cell_type": "code",
   "execution_count": 22,
   "id": "3ff636de",
   "metadata": {},
   "outputs": [
    {
     "data": {
      "text/plain": [
       "Text(0, 0.5, 'Oscore')"
      ]
     },
     "execution_count": 22,
     "metadata": {},
     "output_type": "execute_result"
    },
    {
     "data": {
      "image/png": "[encoded data removed]",
      "text/plain": [
       "<Figure size 720x504 with 1 Axes>"
      ]
     },
     "metadata": {
      "needs_background": "light"
     },
     "output_type": "display_data"
    }
   ],
   "source": [
    "# Boxplot Oscore vs Target\n",
    "\n",
    "plt.rcParams['axes.labelsize'] = 20\n",
    "plt.rcParams['xtick.labelsize'] = 20\n",
    "plt.rcParams['ytick.labelsize'] = 18\n",
    "plt.rcParams['font.size'] = 26\n",
    "plt.figure(figsize=(10, 7))\n",
    "\n",
    "plt.title('Oscore and Addiction', fontsize=20)\n",
    "\n",
    "sns.boxplot(x = \"Addiction\", y ='Oscore', data = df)\n",
    "\n",
    "plt.ylabel('Oscore')"
   ]
  },
  {
   "cell_type": "markdown",
   "id": "261197b0",
   "metadata": {},
   "source": [
    "## Ascore"
   ]
  },
  {
   "cell_type": "markdown",
   "id": "54553b47",
   "metadata": {},
   "source": [
    "- Agreeableness level: Trust, Straightforwardness, Altruism, Compliance, Modesty, Tendermindedness"
   ]
  },
  {
   "cell_type": "code",
   "execution_count": 23,
   "id": "a1f4e4fc",
   "metadata": {},
   "outputs": [
    {
     "data": {
      "text/plain": [
       "Text(0, 0.5, 'Ascore')"
      ]
     },
     "execution_count": 23,
     "metadata": {},
     "output_type": "execute_result"
    },
    {
     "data": {
      "image/png": "[encoded data removed]",
      "text/plain": [
       "<Figure size 720x504 with 1 Axes>"
      ]
     },
     "metadata": {
      "needs_background": "light"
     },
     "output_type": "display_data"
    }
   ],
   "source": [
    "# Boxplot Ascore\n",
    "\n",
    "plt.rcParams['axes.labelsize'] = 20\n",
    "plt.rcParams['xtick.labelsize'] = 20\n",
    "plt.rcParams['ytick.labelsize'] = 18\n",
    "plt.rcParams['font.size'] = 26\n",
    "plt.figure(figsize=(10, 7))\n",
    "\n",
    "plt.title('Ascore', fontsize=20)\n",
    "\n",
    "sns.boxplot(y ='Ascore', data = df)\n",
    "\n",
    "plt.ylabel('Ascore')"
   ]
  },
  {
   "cell_type": "code",
   "execution_count": 24,
   "id": "5c4778c7",
   "metadata": {},
   "outputs": [
    {
     "data": {
      "text/plain": [
       "Text(0, 0.5, 'Ascore')"
      ]
     },
     "execution_count": 24,
     "metadata": {},
     "output_type": "execute_result"
    },
    {
     "data": {
      "image/png": "[encoded data removed]",
      "text/plain": [
       "<Figure size 720x504 with 1 Axes>"
      ]
     },
     "metadata": {
      "needs_background": "light"
     },
     "output_type": "display_data"
    }
   ],
   "source": [
    "# Boxplot Oscore vs Target\n",
    "\n",
    "plt.rcParams['axes.labelsize'] = 20\n",
    "plt.rcParams['xtick.labelsize'] = 20\n",
    "plt.rcParams['ytick.labelsize'] = 18\n",
    "plt.rcParams['font.size'] = 26\n",
    "plt.figure(figsize=(10, 7))\n",
    "\n",
    "plt.title('Ascore and Addiction', fontsize=20)\n",
    "\n",
    "sns.boxplot(x = \"Addiction\", y ='Ascore', data = df)\n",
    "\n",
    "plt.ylabel('Ascore')"
   ]
  },
  {
   "cell_type": "markdown",
   "id": "cb6e985c",
   "metadata": {},
   "source": [
    "## Cscore"
   ]
  },
  {
   "cell_type": "markdown",
   "id": "fe2898f3",
   "metadata": {},
   "source": [
    "- Conscientiousness: Competence, Order, Dutifulness, Achievement Striving, Self-Discipline, Deliberation"
   ]
  },
  {
   "cell_type": "code",
   "execution_count": 25,
   "id": "5d33525c",
   "metadata": {},
   "outputs": [
    {
     "data": {
      "text/plain": [
       "Text(0, 0.5, 'Cscore')"
      ]
     },
     "execution_count": 25,
     "metadata": {},
     "output_type": "execute_result"
    },
    {
     "data": {
      "image/png": "[encoded data removed]",
      "text/plain": [
       "<Figure size 720x504 with 1 Axes>"
      ]
     },
     "metadata": {
      "needs_background": "light"
     },
     "output_type": "display_data"
    }
   ],
   "source": [
    "# Boxplot Cscore\n",
    "\n",
    "plt.rcParams['axes.labelsize'] = 20\n",
    "plt.rcParams['xtick.labelsize'] = 20\n",
    "plt.rcParams['ytick.labelsize'] = 18\n",
    "plt.rcParams['font.size'] = 26\n",
    "plt.figure(figsize=(10, 7))\n",
    "\n",
    "plt.title('Cscore', fontsize=20)\n",
    "\n",
    "sns.boxplot(y ='Cscore', data = df)\n",
    "\n",
    "plt.ylabel('Cscore')"
   ]
  },
  {
   "cell_type": "code",
   "execution_count": 26,
   "id": "e1f60a50",
   "metadata": {},
   "outputs": [
    {
     "data": {
      "text/plain": [
       "Text(0, 0.5, 'Cscore')"
      ]
     },
     "execution_count": 26,
     "metadata": {},
     "output_type": "execute_result"
    },
    {
     "data": {
      "image/png": "[encoded data removed]",
      "text/plain": [
       "<Figure size 720x504 with 1 Axes>"
      ]
     },
     "metadata": {
      "needs_background": "light"
     },
     "output_type": "display_data"
    }
   ],
   "source": [
    "# Boxplot Oscore vs Target\n",
    "\n",
    "plt.rcParams['axes.labelsize'] = 20\n",
    "plt.rcParams['xtick.labelsize'] = 20\n",
    "plt.rcParams['ytick.labelsize'] = 18\n",
    "plt.rcParams['font.size'] = 26\n",
    "plt.figure(figsize=(10, 7))\n",
    "\n",
    "plt.title('Cscore and Addiction', fontsize=20)\n",
    "\n",
    "sns.boxplot(x = \"Addiction\", y ='Cscore', data = df)\n",
    "\n",
    "plt.ylabel('Cscore')"
   ]
  },
  {
   "cell_type": "markdown",
   "id": "32d569e8",
   "metadata": {},
   "source": [
    "## Impulsive"
   ]
  },
  {
   "cell_type": "markdown",
   "id": "ded201d5",
   "metadata": {},
   "source": [
    "- Barrat Impulsiveness Test\n",
    "- Factors: Attention, Cognitvity, Motor, Perseverance, Self-Control."
   ]
  },
  {
   "cell_type": "code",
   "execution_count": 27,
   "id": "bbf76276",
   "metadata": {},
   "outputs": [
    {
     "data": {
      "text/plain": [
       "Text(0, 0.5, 'Impulsive')"
      ]
     },
     "execution_count": 27,
     "metadata": {},
     "output_type": "execute_result"
    },
    {
     "data": {
      "image/png": "[encoded data removed]",
      "text/plain": [
       "<Figure size 720x504 with 1 Axes>"
      ]
     },
     "metadata": {
      "needs_background": "light"
     },
     "output_type": "display_data"
    }
   ],
   "source": [
    "# Boxplot Impulsive\n",
    "\n",
    "plt.rcParams['axes.labelsize'] = 20\n",
    "plt.rcParams['xtick.labelsize'] = 20\n",
    "plt.rcParams['ytick.labelsize'] = 18\n",
    "plt.rcParams['font.size'] = 26\n",
    "plt.figure(figsize=(10, 7))\n",
    "\n",
    "plt.title('Impulsive', fontsize=20)\n",
    "\n",
    "sns.boxplot(y ='Impulsive', data = df)\n",
    "\n",
    "plt.ylabel('Impulsive')"
   ]
  },
  {
   "cell_type": "code",
   "execution_count": 28,
   "id": "688e6443",
   "metadata": {},
   "outputs": [
    {
     "data": {
      "text/plain": [
       "Text(0, 0.5, 'Impulsive')"
      ]
     },
     "execution_count": 28,
     "metadata": {},
     "output_type": "execute_result"
    },
    {
     "data": {
      "image/png": "[encoded data removed]",
      "text/plain": [
       "<Figure size 720x504 with 1 Axes>"
      ]
     },
     "metadata": {
      "needs_background": "light"
     },
     "output_type": "display_data"
    }
   ],
   "source": [
    "# Boxplot Impulsive vs Target\n",
    "\n",
    "plt.rcParams['axes.labelsize'] = 20\n",
    "plt.rcParams['xtick.labelsize'] = 20\n",
    "plt.rcParams['ytick.labelsize'] = 18\n",
    "plt.rcParams['font.size'] = 26\n",
    "plt.figure(figsize=(10, 7))\n",
    "\n",
    "plt.title('Impulsive and Addiction', fontsize=20)\n",
    "\n",
    "sns.boxplot(x = \"Addiction\", y ='Impulsive', data = df)\n",
    "\n",
    "plt.ylabel('Impulsive')"
   ]
  },
  {
   "cell_type": "markdown",
   "id": "f42e12c3",
   "metadata": {},
   "source": [
    "## SS"
   ]
  },
  {
   "cell_type": "markdown",
   "id": "6c103a96",
   "metadata": {},
   "source": [
    "- ImpSS: Impulsive Sensation Seeking"
   ]
  },
  {
   "cell_type": "code",
   "execution_count": 29,
   "id": "120411d5",
   "metadata": {},
   "outputs": [
    {
     "data": {
      "text/plain": [
       "Text(0, 0.5, 'SS')"
      ]
     },
     "execution_count": 29,
     "metadata": {},
     "output_type": "execute_result"
    },
    {
     "data": {
      "image/png": "[encoded data removed]",
      "text/plain": [
       "<Figure size 720x504 with 1 Axes>"
      ]
     },
     "metadata": {
      "needs_background": "light"
     },
     "output_type": "display_data"
    }
   ],
   "source": [
    "# Boxplot SS\n",
    "\n",
    "plt.rcParams['axes.labelsize'] = 20\n",
    "plt.rcParams['xtick.labelsize'] = 20\n",
    "plt.rcParams['ytick.labelsize'] = 18\n",
    "plt.rcParams['font.size'] = 26\n",
    "plt.figure(figsize=(10, 7))\n",
    "\n",
    "plt.title('SS', fontsize=20)\n",
    "\n",
    "sns.boxplot(y ='SS', data = df)\n",
    "\n",
    "plt.ylabel('SS')"
   ]
  },
  {
   "cell_type": "code",
   "execution_count": 30,
   "id": "17f35a61",
   "metadata": {},
   "outputs": [
    {
     "data": {
      "text/plain": [
       "Text(0, 0.5, 'SS')"
      ]
     },
     "execution_count": 30,
     "metadata": {},
     "output_type": "execute_result"
    },
    {
     "data": {
      "image/png": "[encoded data removed]",
      "text/plain": [
       "<Figure size 720x504 with 1 Axes>"
      ]
     },
     "metadata": {
      "needs_background": "light"
     },
     "output_type": "display_data"
    }
   ],
   "source": [
    "# Boxplot SS vs Target\n",
    "\n",
    "plt.rcParams['axes.labelsize'] = 20\n",
    "plt.rcParams['xtick.labelsize'] = 20\n",
    "plt.rcParams['ytick.labelsize'] = 18\n",
    "plt.rcParams['font.size'] = 26\n",
    "plt.figure(figsize=(10, 7))\n",
    "\n",
    "plt.title('SS and Addiction', fontsize=20)\n",
    "\n",
    "sns.boxplot(x = \"Addiction\", y ='SS', data = df)\n",
    "\n",
    "plt.ylabel('SS')"
   ]
  },
  {
   "cell_type": "markdown",
   "id": "48127057",
   "metadata": {},
   "source": [
    "## Semer"
   ]
  },
  {
   "cell_type": "markdown",
   "id": "3de3a8fe",
   "metadata": {},
   "source": [
    "fictional drug"
   ]
  },
  {
   "cell_type": "code",
   "execution_count": 31,
   "id": "7f29e898",
   "metadata": {},
   "outputs": [
    {
     "data": {
      "text/plain": [
       "0    1879\n",
       "1       6\n",
       "Name: Semer, dtype: int64"
      ]
     },
     "execution_count": 31,
     "metadata": {},
     "output_type": "execute_result"
    }
   ],
   "source": [
    "df[\"Semer\"].value_counts()"
   ]
  },
  {
   "cell_type": "code",
   "execution_count": 32,
   "id": "69bc7c2d",
   "metadata": {},
   "outputs": [
    {
     "data": {
      "text/html": [
       "<div>\n",
       "<style scoped>\n",
       "    .dataframe tbody tr th:only-of-type {\n",
       "        vertical-align: middle;\n",
       "    }\n",
       "\n",
       "    .dataframe tbody tr th {\n",
       "        vertical-align: top;\n",
       "    }\n",
       "\n",
       "    .dataframe thead th {\n",
       "        text-align: right;\n",
       "    }\n",
       "</style>\n",
       "<table border=\"1\" class=\"dataframe\">\n",
       "  <thead>\n",
       "    <tr style=\"text-align: right;\">\n",
       "      <th></th>\n",
       "      <th>0</th>\n",
       "      <th>1</th>\n",
       "    </tr>\n",
       "  </thead>\n",
       "  <tbody>\n",
       "    <tr>\n",
       "      <th>0</th>\n",
       "      <td>846.0</td>\n",
       "      <td>0.0</td>\n",
       "    </tr>\n",
       "    <tr>\n",
       "      <th>1</th>\n",
       "      <td>523.0</td>\n",
       "      <td>2.0</td>\n",
       "    </tr>\n",
       "    <tr>\n",
       "      <th>2</th>\n",
       "      <td>510.0</td>\n",
       "      <td>4.0</td>\n",
       "    </tr>\n",
       "  </tbody>\n",
       "</table>\n",
       "</div>"
      ],
      "text/plain": [
       "       0    1\n",
       "0  846.0  0.0\n",
       "1  523.0  2.0\n",
       "2  510.0  4.0"
      ]
     },
     "execution_count": 32,
     "metadata": {},
     "output_type": "execute_result"
    }
   ],
   "source": [
    "semer = pd.DataFrame({\"0\":df[df[\"Addiction\"] == 0][\"Semer\"].value_counts(), \n",
    "              \"1\":df[df[\"Addiction\"] == 1][\"Semer\"].value_counts(), \n",
    "              \"2\":df[df[\"Addiction\"] == 2][\"Semer\"].value_counts()}).fillna(0).transpose()\n",
    "semer"
   ]
  },
  {
   "cell_type": "code",
   "execution_count": 33,
   "id": "894574b7",
   "metadata": {},
   "outputs": [
    {
     "data": {
      "text/plain": [
       "<AxesSubplot:>"
      ]
     },
     "execution_count": 33,
     "metadata": {},
     "output_type": "execute_result"
    },
    {
     "data": {
      "image/png": "[encoded data removed]",
      "text/plain": [
       "<Figure size 432x288 with 1 Axes>"
      ]
     },
     "metadata": {
      "needs_background": "light"
     },
     "output_type": "display_data"
    }
   ],
   "source": [
    "semer.plot.bar()"
   ]
  },
  {
   "cell_type": "markdown",
   "id": "43e3f4b8",
   "metadata": {},
   "source": [
    "## Alcohol"
   ]
  },
  {
   "cell_type": "code",
   "execution_count": 34,
   "id": "0e8f10f0",
   "metadata": {},
   "outputs": [
    {
     "data": {
      "text/plain": [
       "1    1817\n",
       "0      68\n",
       "Name: Alcohol, dtype: int64"
      ]
     },
     "execution_count": 34,
     "metadata": {},
     "output_type": "execute_result"
    }
   ],
   "source": [
    "df[\"Alcohol\"].value_counts()"
   ]
  },
  {
   "cell_type": "code",
   "execution_count": 35,
   "id": "a3bb846d",
   "metadata": {},
   "outputs": [
    {
     "data": {
      "text/html": [
       "<div>\n",
       "<style scoped>\n",
       "    .dataframe tbody tr th:only-of-type {\n",
       "        vertical-align: middle;\n",
       "    }\n",
       "\n",
       "    .dataframe tbody tr th {\n",
       "        vertical-align: top;\n",
       "    }\n",
       "\n",
       "    .dataframe thead th {\n",
       "        text-align: right;\n",
       "    }\n",
       "</style>\n",
       "<table border=\"1\" class=\"dataframe\">\n",
       "  <thead>\n",
       "    <tr style=\"text-align: right;\">\n",
       "      <th></th>\n",
       "      <th>1</th>\n",
       "      <th>0</th>\n",
       "    </tr>\n",
       "  </thead>\n",
       "  <tbody>\n",
       "    <tr>\n",
       "      <th>0</th>\n",
       "      <td>799</td>\n",
       "      <td>47</td>\n",
       "    </tr>\n",
       "    <tr>\n",
       "      <th>1</th>\n",
       "      <td>514</td>\n",
       "      <td>11</td>\n",
       "    </tr>\n",
       "    <tr>\n",
       "      <th>2</th>\n",
       "      <td>504</td>\n",
       "      <td>10</td>\n",
       "    </tr>\n",
       "  </tbody>\n",
       "</table>\n",
       "</div>"
      ],
      "text/plain": [
       "     1   0\n",
       "0  799  47\n",
       "1  514  11\n",
       "2  504  10"
      ]
     },
     "execution_count": 35,
     "metadata": {},
     "output_type": "execute_result"
    }
   ],
   "source": [
    "alco = pd.DataFrame({\"0\":df[df[\"Addiction\"] == 0][\"Alcohol\"].value_counts(), \n",
    "              \"1\":df[df[\"Addiction\"] == 1][\"Alcohol\"].value_counts(), \n",
    "              \"2\":df[df[\"Addiction\"] == 2][\"Alcohol\"].value_counts()}).fillna(0).transpose()\n",
    "alco"
   ]
  },
  {
   "cell_type": "code",
   "execution_count": 36,
   "id": "be3a61b7",
   "metadata": {},
   "outputs": [
    {
     "data": {
      "text/plain": [
       "<AxesSubplot:>"
      ]
     },
     "execution_count": 36,
     "metadata": {},
     "output_type": "execute_result"
    },
    {
     "data": {
      "image/png": "[encoded data removed]",
      "text/plain": [
       "<Figure size 432x288 with 1 Axes>"
      ]
     },
     "metadata": {
      "needs_background": "light"
     },
     "output_type": "display_data"
    }
   ],
   "source": [
    "alco.plot.bar()"
   ]
  },
  {
   "cell_type": "markdown",
   "id": "f3214ee4",
   "metadata": {},
   "source": [
    "## Amphet"
   ]
  },
  {
   "cell_type": "markdown",
   "id": "5e9c33ba",
   "metadata": {},
   "source": [
    "amphetamine"
   ]
  },
  {
   "cell_type": "code",
   "execution_count": 37,
   "id": "d0eac3ea",
   "metadata": {},
   "outputs": [
    {
     "data": {
      "text/plain": [
       "0    1206\n",
       "1     679\n",
       "Name: Amphet, dtype: int64"
      ]
     },
     "execution_count": 37,
     "metadata": {},
     "output_type": "execute_result"
    }
   ],
   "source": [
    "df[\"Amphet\"].value_counts()"
   ]
  },
  {
   "cell_type": "code",
   "execution_count": 38,
   "id": "db8ca0ad",
   "metadata": {},
   "outputs": [
    {
     "data": {
      "text/html": [
       "<div>\n",
       "<style scoped>\n",
       "    .dataframe tbody tr th:only-of-type {\n",
       "        vertical-align: middle;\n",
       "    }\n",
       "\n",
       "    .dataframe tbody tr th {\n",
       "        vertical-align: top;\n",
       "    }\n",
       "\n",
       "    .dataframe thead th {\n",
       "        text-align: right;\n",
       "    }\n",
       "</style>\n",
       "<table border=\"1\" class=\"dataframe\">\n",
       "  <thead>\n",
       "    <tr style=\"text-align: right;\">\n",
       "      <th></th>\n",
       "      <th>0</th>\n",
       "      <th>1</th>\n",
       "    </tr>\n",
       "  </thead>\n",
       "  <tbody>\n",
       "    <tr>\n",
       "      <th>0</th>\n",
       "      <td>787</td>\n",
       "      <td>59</td>\n",
       "    </tr>\n",
       "    <tr>\n",
       "      <th>1</th>\n",
       "      <td>217</td>\n",
       "      <td>308</td>\n",
       "    </tr>\n",
       "    <tr>\n",
       "      <th>2</th>\n",
       "      <td>202</td>\n",
       "      <td>312</td>\n",
       "    </tr>\n",
       "  </tbody>\n",
       "</table>\n",
       "</div>"
      ],
      "text/plain": [
       "     0    1\n",
       "0  787   59\n",
       "1  217  308\n",
       "2  202  312"
      ]
     },
     "execution_count": 38,
     "metadata": {},
     "output_type": "execute_result"
    }
   ],
   "source": [
    "amph = pd.DataFrame({\"0\":df[df[\"Addiction\"] == 0][\"Amphet\"].value_counts(), \n",
    "              \"1\":df[df[\"Addiction\"] == 1][\"Amphet\"].value_counts(), \n",
    "              \"2\":df[df[\"Addiction\"] == 2][\"Amphet\"].value_counts()}).fillna(0).transpose()\n",
    "amph"
   ]
  },
  {
   "cell_type": "code",
   "execution_count": 39,
   "id": "98ffb00a",
   "metadata": {},
   "outputs": [
    {
     "data": {
      "text/plain": [
       "<AxesSubplot:>"
      ]
     },
     "execution_count": 39,
     "metadata": {},
     "output_type": "execute_result"
    },
    {
     "data": {
      "image/png": "[encoded data removed]",
      "text/plain": [
       "<Figure size 432x288 with 1 Axes>"
      ]
     },
     "metadata": {
      "needs_background": "light"
     },
     "output_type": "display_data"
    }
   ],
   "source": [
    "amph.plot.bar()"
   ]
  },
  {
   "cell_type": "markdown",
   "id": "f782aec1",
   "metadata": {},
   "source": [
    "## Amyl"
   ]
  },
  {
   "cell_type": "markdown",
   "id": "953007fc",
   "metadata": {},
   "source": [
    "like poppers"
   ]
  },
  {
   "cell_type": "code",
   "execution_count": 40,
   "id": "e42d04c3",
   "metadata": {},
   "outputs": [
    {
     "data": {
      "text/plain": [
       "0    1515\n",
       "1     370\n",
       "Name: Amyl, dtype: int64"
      ]
     },
     "execution_count": 40,
     "metadata": {},
     "output_type": "execute_result"
    }
   ],
   "source": [
    "df[\"Amyl\"].value_counts()"
   ]
  },
  {
   "cell_type": "code",
   "execution_count": 41,
   "id": "2750a395",
   "metadata": {},
   "outputs": [
    {
     "data": {
      "text/html": [
       "<div>\n",
       "<style scoped>\n",
       "    .dataframe tbody tr th:only-of-type {\n",
       "        vertical-align: middle;\n",
       "    }\n",
       "\n",
       "    .dataframe tbody tr th {\n",
       "        vertical-align: top;\n",
       "    }\n",
       "\n",
       "    .dataframe thead th {\n",
       "        text-align: right;\n",
       "    }\n",
       "</style>\n",
       "<table border=\"1\" class=\"dataframe\">\n",
       "  <thead>\n",
       "    <tr style=\"text-align: right;\">\n",
       "      <th></th>\n",
       "      <th>0</th>\n",
       "      <th>1</th>\n",
       "    </tr>\n",
       "  </thead>\n",
       "  <tbody>\n",
       "    <tr>\n",
       "      <th>0</th>\n",
       "      <td>789</td>\n",
       "      <td>57</td>\n",
       "    </tr>\n",
       "    <tr>\n",
       "      <th>1</th>\n",
       "      <td>381</td>\n",
       "      <td>144</td>\n",
       "    </tr>\n",
       "    <tr>\n",
       "      <th>2</th>\n",
       "      <td>345</td>\n",
       "      <td>169</td>\n",
       "    </tr>\n",
       "  </tbody>\n",
       "</table>\n",
       "</div>"
      ],
      "text/plain": [
       "     0    1\n",
       "0  789   57\n",
       "1  381  144\n",
       "2  345  169"
      ]
     },
     "execution_count": 41,
     "metadata": {},
     "output_type": "execute_result"
    }
   ],
   "source": [
    "amyl = pd.DataFrame({\"0\":df[df[\"Addiction\"] == 0][\"Amyl\"].value_counts(), \n",
    "              \"1\":df[df[\"Addiction\"] == 1][\"Amyl\"].value_counts(), \n",
    "              \"2\":df[df[\"Addiction\"] == 2][\"Amyl\"].value_counts()}).fillna(0).transpose()\n",
    "amyl"
   ]
  },
  {
   "cell_type": "code",
   "execution_count": 42,
   "id": "c236d90e",
   "metadata": {},
   "outputs": [
    {
     "data": {
      "text/plain": [
       "<AxesSubplot:>"
      ]
     },
     "execution_count": 42,
     "metadata": {},
     "output_type": "execute_result"
    },
    {
     "data": {
      "image/png": "[encoded data removed]",
      "text/plain": [
       "<Figure size 432x288 with 1 Axes>"
      ]
     },
     "metadata": {
      "needs_background": "light"
     },
     "output_type": "display_data"
    }
   ],
   "source": [
    "amyl.plot.bar()"
   ]
  },
  {
   "cell_type": "markdown",
   "id": "648f9f48",
   "metadata": {},
   "source": [
    "## Benzos"
   ]
  },
  {
   "cell_type": "code",
   "execution_count": 43,
   "id": "5f13557b",
   "metadata": {},
   "outputs": [
    {
     "data": {
      "text/plain": [
       "0    1116\n",
       "1     769\n",
       "Name: Benzos, dtype: int64"
      ]
     },
     "execution_count": 43,
     "metadata": {},
     "output_type": "execute_result"
    }
   ],
   "source": [
    "df[\"Benzos\"].value_counts()"
   ]
  },
  {
   "cell_type": "code",
   "execution_count": 44,
   "id": "d56741b3",
   "metadata": {},
   "outputs": [
    {
     "data": {
      "text/html": [
       "<div>\n",
       "<style scoped>\n",
       "    .dataframe tbody tr th:only-of-type {\n",
       "        vertical-align: middle;\n",
       "    }\n",
       "\n",
       "    .dataframe tbody tr th {\n",
       "        vertical-align: top;\n",
       "    }\n",
       "\n",
       "    .dataframe thead th {\n",
       "        text-align: right;\n",
       "    }\n",
       "</style>\n",
       "<table border=\"1\" class=\"dataframe\">\n",
       "  <thead>\n",
       "    <tr style=\"text-align: right;\">\n",
       "      <th></th>\n",
       "      <th>0</th>\n",
       "      <th>1</th>\n",
       "    </tr>\n",
       "  </thead>\n",
       "  <tbody>\n",
       "    <tr>\n",
       "      <th>0</th>\n",
       "      <td>689</td>\n",
       "      <td>157</td>\n",
       "    </tr>\n",
       "    <tr>\n",
       "      <th>1</th>\n",
       "      <td>191</td>\n",
       "      <td>334</td>\n",
       "    </tr>\n",
       "    <tr>\n",
       "      <th>2</th>\n",
       "      <td>236</td>\n",
       "      <td>278</td>\n",
       "    </tr>\n",
       "  </tbody>\n",
       "</table>\n",
       "</div>"
      ],
      "text/plain": [
       "     0    1\n",
       "0  689  157\n",
       "1  191  334\n",
       "2  236  278"
      ]
     },
     "execution_count": 44,
     "metadata": {},
     "output_type": "execute_result"
    }
   ],
   "source": [
    "benzos = pd.DataFrame({\"0\":df[df[\"Addiction\"] == 0][\"Benzos\"].value_counts(), \n",
    "              \"1\":df[df[\"Addiction\"] == 1][\"Benzos\"].value_counts(), \n",
    "              \"2\":df[df[\"Addiction\"] == 2][\"Benzos\"].value_counts()}).fillna(0).transpose()\n",
    "benzos"
   ]
  },
  {
   "cell_type": "code",
   "execution_count": 45,
   "id": "010c6322",
   "metadata": {},
   "outputs": [
    {
     "data": {
      "text/plain": [
       "<AxesSubplot:>"
      ]
     },
     "execution_count": 45,
     "metadata": {},
     "output_type": "execute_result"
    },
    {
     "data": {
      "image/png": "[encoded data removed]",
      "text/plain": [
       "<Figure size 432x288 with 1 Axes>"
      ]
     },
     "metadata": {
      "needs_background": "light"
     },
     "output_type": "display_data"
    }
   ],
   "source": [
    "benzos.plot.bar()"
   ]
  },
  {
   "cell_type": "markdown",
   "id": "022fad05",
   "metadata": {},
   "source": [
    "## Caff"
   ]
  },
  {
   "cell_type": "code",
   "execution_count": 46,
   "id": "cb67e47d",
   "metadata": {},
   "outputs": [
    {
     "data": {
      "text/plain": [
       "1    1848\n",
       "0      37\n",
       "Name: Caff, dtype: int64"
      ]
     },
     "execution_count": 46,
     "metadata": {},
     "output_type": "execute_result"
    }
   ],
   "source": [
    "df[\"Caff\"].value_counts()"
   ]
  },
  {
   "cell_type": "code",
   "execution_count": 47,
   "id": "e4aaa8bd",
   "metadata": {},
   "outputs": [
    {
     "data": {
      "text/html": [
       "<div>\n",
       "<style scoped>\n",
       "    .dataframe tbody tr th:only-of-type {\n",
       "        vertical-align: middle;\n",
       "    }\n",
       "\n",
       "    .dataframe tbody tr th {\n",
       "        vertical-align: top;\n",
       "    }\n",
       "\n",
       "    .dataframe thead th {\n",
       "        text-align: right;\n",
       "    }\n",
       "</style>\n",
       "<table border=\"1\" class=\"dataframe\">\n",
       "  <thead>\n",
       "    <tr style=\"text-align: right;\">\n",
       "      <th></th>\n",
       "      <th>1</th>\n",
       "      <th>0</th>\n",
       "    </tr>\n",
       "  </thead>\n",
       "  <tbody>\n",
       "    <tr>\n",
       "      <th>0</th>\n",
       "      <td>816</td>\n",
       "      <td>30</td>\n",
       "    </tr>\n",
       "    <tr>\n",
       "      <th>1</th>\n",
       "      <td>519</td>\n",
       "      <td>6</td>\n",
       "    </tr>\n",
       "    <tr>\n",
       "      <th>2</th>\n",
       "      <td>513</td>\n",
       "      <td>1</td>\n",
       "    </tr>\n",
       "  </tbody>\n",
       "</table>\n",
       "</div>"
      ],
      "text/plain": [
       "     1   0\n",
       "0  816  30\n",
       "1  519   6\n",
       "2  513   1"
      ]
     },
     "execution_count": 47,
     "metadata": {},
     "output_type": "execute_result"
    }
   ],
   "source": [
    "caff = pd.DataFrame({\"0\":df[df[\"Addiction\"] == 0][\"Caff\"].value_counts(), \n",
    "              \"1\":df[df[\"Addiction\"] == 1][\"Caff\"].value_counts(), \n",
    "              \"2\":df[df[\"Addiction\"] == 2][\"Caff\"].value_counts()}).fillna(0).transpose()\n",
    "caff"
   ]
  },
  {
   "cell_type": "code",
   "execution_count": 48,
   "id": "87386bc8",
   "metadata": {},
   "outputs": [
    {
     "data": {
      "text/plain": [
       "<AxesSubplot:>"
      ]
     },
     "execution_count": 48,
     "metadata": {},
     "output_type": "execute_result"
    },
    {
     "data": {
      "image/png": "[encoded data removed]",
      "text/plain": [
       "<Figure size 432x288 with 1 Axes>"
      ]
     },
     "metadata": {
      "needs_background": "light"
     },
     "output_type": "display_data"
    }
   ],
   "source": [
    "caff.plot.bar()"
   ]
  },
  {
   "cell_type": "markdown",
   "id": "fe8c70e0",
   "metadata": {},
   "source": [
    "## Cannabis"
   ]
  },
  {
   "cell_type": "code",
   "execution_count": 49,
   "id": "f40336a7",
   "metadata": {},
   "outputs": [
    {
     "data": {
      "text/plain": [
       "1    1265\n",
       "0     620\n",
       "Name: Cannabis, dtype: int64"
      ]
     },
     "execution_count": 49,
     "metadata": {},
     "output_type": "execute_result"
    }
   ],
   "source": [
    "df[\"Cannabis\"].value_counts()"
   ]
  },
  {
   "cell_type": "code",
   "execution_count": 50,
   "id": "9c9993f6",
   "metadata": {},
   "outputs": [
    {
     "data": {
      "text/html": [
       "<div>\n",
       "<style scoped>\n",
       "    .dataframe tbody tr th:only-of-type {\n",
       "        vertical-align: middle;\n",
       "    }\n",
       "\n",
       "    .dataframe tbody tr th {\n",
       "        vertical-align: top;\n",
       "    }\n",
       "\n",
       "    .dataframe thead th {\n",
       "        text-align: right;\n",
       "    }\n",
       "</style>\n",
       "<table border=\"1\" class=\"dataframe\">\n",
       "  <thead>\n",
       "    <tr style=\"text-align: right;\">\n",
       "      <th></th>\n",
       "      <th>0</th>\n",
       "      <th>1</th>\n",
       "    </tr>\n",
       "  </thead>\n",
       "  <tbody>\n",
       "    <tr>\n",
       "      <th>0</th>\n",
       "      <td>558</td>\n",
       "      <td>288</td>\n",
       "    </tr>\n",
       "    <tr>\n",
       "      <th>1</th>\n",
       "      <td>32</td>\n",
       "      <td>493</td>\n",
       "    </tr>\n",
       "    <tr>\n",
       "      <th>2</th>\n",
       "      <td>30</td>\n",
       "      <td>484</td>\n",
       "    </tr>\n",
       "  </tbody>\n",
       "</table>\n",
       "</div>"
      ],
      "text/plain": [
       "     0    1\n",
       "0  558  288\n",
       "1   32  493\n",
       "2   30  484"
      ]
     },
     "execution_count": 50,
     "metadata": {},
     "output_type": "execute_result"
    }
   ],
   "source": [
    "cannabis = pd.DataFrame({\"0\":df[df[\"Addiction\"] == 0][\"Cannabis\"].value_counts(), \n",
    "              \"1\":df[df[\"Addiction\"] == 1][\"Cannabis\"].value_counts(), \n",
    "              \"2\":df[df[\"Addiction\"] == 2][\"Cannabis\"].value_counts()}).fillna(0).transpose()\n",
    "cannabis"
   ]
  },
  {
   "cell_type": "code",
   "execution_count": 51,
   "id": "a5d80554",
   "metadata": {},
   "outputs": [
    {
     "data": {
      "text/plain": [
       "<AxesSubplot:>"
      ]
     },
     "execution_count": 51,
     "metadata": {},
     "output_type": "execute_result"
    },
    {
     "data": {
      "image/png": "[encoded data removed]",
      "text/plain": [
       "<Figure size 432x288 with 1 Axes>"
      ]
     },
     "metadata": {
      "needs_background": "light"
     },
     "output_type": "display_data"
    }
   ],
   "source": [
    "cannabis.plot.bar()"
   ]
  },
  {
   "cell_type": "markdown",
   "id": "65bc4f76",
   "metadata": {},
   "source": [
    "## Choc"
   ]
  },
  {
   "cell_type": "code",
   "execution_count": 52,
   "id": "a6b182c6",
   "metadata": {},
   "outputs": [
    {
     "data": {
      "text/plain": [
       "1    1850\n",
       "0      35\n",
       "Name: Choc, dtype: int64"
      ]
     },
     "execution_count": 52,
     "metadata": {},
     "output_type": "execute_result"
    }
   ],
   "source": [
    "df[\"Choc\"].value_counts()"
   ]
  },
  {
   "cell_type": "code",
   "execution_count": 53,
   "id": "9cc3bf0c",
   "metadata": {},
   "outputs": [
    {
     "data": {
      "text/html": [
       "<div>\n",
       "<style scoped>\n",
       "    .dataframe tbody tr th:only-of-type {\n",
       "        vertical-align: middle;\n",
       "    }\n",
       "\n",
       "    .dataframe tbody tr th {\n",
       "        vertical-align: top;\n",
       "    }\n",
       "\n",
       "    .dataframe thead th {\n",
       "        text-align: right;\n",
       "    }\n",
       "</style>\n",
       "<table border=\"1\" class=\"dataframe\">\n",
       "  <thead>\n",
       "    <tr style=\"text-align: right;\">\n",
       "      <th></th>\n",
       "      <th>1</th>\n",
       "      <th>0</th>\n",
       "    </tr>\n",
       "  </thead>\n",
       "  <tbody>\n",
       "    <tr>\n",
       "      <th>0</th>\n",
       "      <td>826</td>\n",
       "      <td>20</td>\n",
       "    </tr>\n",
       "    <tr>\n",
       "      <th>1</th>\n",
       "      <td>515</td>\n",
       "      <td>10</td>\n",
       "    </tr>\n",
       "    <tr>\n",
       "      <th>2</th>\n",
       "      <td>509</td>\n",
       "      <td>5</td>\n",
       "    </tr>\n",
       "  </tbody>\n",
       "</table>\n",
       "</div>"
      ],
      "text/plain": [
       "     1   0\n",
       "0  826  20\n",
       "1  515  10\n",
       "2  509   5"
      ]
     },
     "execution_count": 53,
     "metadata": {},
     "output_type": "execute_result"
    }
   ],
   "source": [
    "Choc = pd.DataFrame({\"0\":df[df[\"Addiction\"] == 0][\"Choc\"].value_counts(), \n",
    "              \"1\":df[df[\"Addiction\"] == 1][\"Choc\"].value_counts(), \n",
    "              \"2\":df[df[\"Addiction\"] == 2][\"Choc\"].value_counts()}).fillna(0).transpose()\n",
    "Choc"
   ]
  },
  {
   "cell_type": "code",
   "execution_count": 54,
   "id": "a5fac74b",
   "metadata": {},
   "outputs": [
    {
     "data": {
      "text/plain": [
       "<AxesSubplot:>"
      ]
     },
     "execution_count": 54,
     "metadata": {},
     "output_type": "execute_result"
    },
    {
     "data": {
      "image/png": "[encoded data removed]",
      "text/plain": [
       "<Figure size 432x288 with 1 Axes>"
      ]
     },
     "metadata": {
      "needs_background": "light"
     },
     "output_type": "display_data"
    }
   ],
   "source": [
    "Choc.plot.bar()"
   ]
  },
  {
   "cell_type": "markdown",
   "id": "9b67f07f",
   "metadata": {},
   "source": [
    "## Coke"
   ]
  },
  {
   "cell_type": "code",
   "execution_count": 55,
   "id": "7f8c74e3",
   "metadata": {},
   "outputs": [
    {
     "data": {
      "text/plain": [
       "0    1198\n",
       "1     687\n",
       "Name: Coke, dtype: int64"
      ]
     },
     "execution_count": 55,
     "metadata": {},
     "output_type": "execute_result"
    }
   ],
   "source": [
    "df[\"Coke\"].value_counts()"
   ]
  },
  {
   "cell_type": "code",
   "execution_count": 56,
   "id": "7ca5630b",
   "metadata": {},
   "outputs": [
    {
     "data": {
      "text/html": [
       "<div>\n",
       "<style scoped>\n",
       "    .dataframe tbody tr th:only-of-type {\n",
       "        vertical-align: middle;\n",
       "    }\n",
       "\n",
       "    .dataframe tbody tr th {\n",
       "        vertical-align: top;\n",
       "    }\n",
       "\n",
       "    .dataframe thead th {\n",
       "        text-align: right;\n",
       "    }\n",
       "</style>\n",
       "<table border=\"1\" class=\"dataframe\">\n",
       "  <thead>\n",
       "    <tr style=\"text-align: right;\">\n",
       "      <th></th>\n",
       "      <th>0</th>\n",
       "      <th>1</th>\n",
       "    </tr>\n",
       "  </thead>\n",
       "  <tbody>\n",
       "    <tr>\n",
       "      <th>0</th>\n",
       "      <td>760</td>\n",
       "      <td>86</td>\n",
       "    </tr>\n",
       "    <tr>\n",
       "      <th>1</th>\n",
       "      <td>219</td>\n",
       "      <td>306</td>\n",
       "    </tr>\n",
       "    <tr>\n",
       "      <th>2</th>\n",
       "      <td>219</td>\n",
       "      <td>295</td>\n",
       "    </tr>\n",
       "  </tbody>\n",
       "</table>\n",
       "</div>"
      ],
      "text/plain": [
       "     0    1\n",
       "0  760   86\n",
       "1  219  306\n",
       "2  219  295"
      ]
     },
     "execution_count": 56,
     "metadata": {},
     "output_type": "execute_result"
    }
   ],
   "source": [
    "coke = pd.DataFrame({\"0\":df[df[\"Addiction\"] == 0][\"Coke\"].value_counts(), \n",
    "              \"1\":df[df[\"Addiction\"] == 1][\"Coke\"].value_counts(), \n",
    "              \"2\":df[df[\"Addiction\"] == 2][\"Coke\"].value_counts()}).fillna(0).transpose()\n",
    "coke"
   ]
  },
  {
   "cell_type": "code",
   "execution_count": 57,
   "id": "41913725",
   "metadata": {},
   "outputs": [
    {
     "data": {
      "text/plain": [
       "<AxesSubplot:>"
      ]
     },
     "execution_count": 57,
     "metadata": {},
     "output_type": "execute_result"
    },
    {
     "data": {
      "image/png": "[encoded data removed]",
      "text/plain": [
       "<Figure size 432x288 with 1 Axes>"
      ]
     },
     "metadata": {
      "needs_background": "light"
     },
     "output_type": "display_data"
    }
   ],
   "source": [
    "coke.plot.bar()"
   ]
  },
  {
   "cell_type": "markdown",
   "id": "06b92f96",
   "metadata": {},
   "source": [
    "## Crack"
   ]
  },
  {
   "cell_type": "code",
   "execution_count": 58,
   "id": "75303231",
   "metadata": {},
   "outputs": [
    {
     "data": {
      "text/plain": [
       "0    1694\n",
       "1     191\n",
       "Name: Crack, dtype: int64"
      ]
     },
     "execution_count": 58,
     "metadata": {},
     "output_type": "execute_result"
    }
   ],
   "source": [
    "df[\"Crack\"].value_counts()"
   ]
  },
  {
   "cell_type": "code",
   "execution_count": 59,
   "id": "04a2a700",
   "metadata": {},
   "outputs": [
    {
     "data": {
      "text/html": [
       "<div>\n",
       "<style scoped>\n",
       "    .dataframe tbody tr th:only-of-type {\n",
       "        vertical-align: middle;\n",
       "    }\n",
       "\n",
       "    .dataframe tbody tr th {\n",
       "        vertical-align: top;\n",
       "    }\n",
       "\n",
       "    .dataframe thead th {\n",
       "        text-align: right;\n",
       "    }\n",
       "</style>\n",
       "<table border=\"1\" class=\"dataframe\">\n",
       "  <thead>\n",
       "    <tr style=\"text-align: right;\">\n",
       "      <th></th>\n",
       "      <th>0</th>\n",
       "      <th>1</th>\n",
       "    </tr>\n",
       "  </thead>\n",
       "  <tbody>\n",
       "    <tr>\n",
       "      <th>0</th>\n",
       "      <td>831</td>\n",
       "      <td>15</td>\n",
       "    </tr>\n",
       "    <tr>\n",
       "      <th>1</th>\n",
       "      <td>422</td>\n",
       "      <td>103</td>\n",
       "    </tr>\n",
       "    <tr>\n",
       "      <th>2</th>\n",
       "      <td>441</td>\n",
       "      <td>73</td>\n",
       "    </tr>\n",
       "  </tbody>\n",
       "</table>\n",
       "</div>"
      ],
      "text/plain": [
       "     0    1\n",
       "0  831   15\n",
       "1  422  103\n",
       "2  441   73"
      ]
     },
     "execution_count": 59,
     "metadata": {},
     "output_type": "execute_result"
    }
   ],
   "source": [
    "crack = pd.DataFrame({\"0\":df[df[\"Addiction\"] == 0][\"Crack\"].value_counts(), \n",
    "              \"1\":df[df[\"Addiction\"] == 1][\"Crack\"].value_counts(), \n",
    "              \"2\":df[df[\"Addiction\"] == 2][\"Crack\"].value_counts()}).fillna(0).transpose()\n",
    "crack"
   ]
  },
  {
   "cell_type": "code",
   "execution_count": 60,
   "id": "a2329c9f",
   "metadata": {},
   "outputs": [
    {
     "data": {
      "text/plain": [
       "<AxesSubplot:>"
      ]
     },
     "execution_count": 60,
     "metadata": {},
     "output_type": "execute_result"
    },
    {
     "data": {
      "image/png": "[encoded data removed]",
      "text/plain": [
       "<Figure size 432x288 with 1 Axes>"
      ]
     },
     "metadata": {
      "needs_background": "light"
     },
     "output_type": "display_data"
    }
   ],
   "source": [
    "crack.plot.bar()"
   ]
  },
  {
   "cell_type": "markdown",
   "id": "f039f781",
   "metadata": {},
   "source": [
    "## Ecstasy"
   ]
  },
  {
   "cell_type": "code",
   "execution_count": 61,
   "id": "cbd27954",
   "metadata": {},
   "outputs": [
    {
     "data": {
      "text/plain": [
       "0    1134\n",
       "1     751\n",
       "Name: Ecstasy, dtype: int64"
      ]
     },
     "execution_count": 61,
     "metadata": {},
     "output_type": "execute_result"
    }
   ],
   "source": [
    "df[\"Ecstasy\"].value_counts()"
   ]
  },
  {
   "cell_type": "code",
   "execution_count": 62,
   "id": "471dd216",
   "metadata": {},
   "outputs": [
    {
     "data": {
      "text/html": [
       "<div>\n",
       "<style scoped>\n",
       "    .dataframe tbody tr th:only-of-type {\n",
       "        vertical-align: middle;\n",
       "    }\n",
       "\n",
       "    .dataframe tbody tr th {\n",
       "        vertical-align: top;\n",
       "    }\n",
       "\n",
       "    .dataframe thead th {\n",
       "        text-align: right;\n",
       "    }\n",
       "</style>\n",
       "<table border=\"1\" class=\"dataframe\">\n",
       "  <thead>\n",
       "    <tr style=\"text-align: right;\">\n",
       "      <th></th>\n",
       "      <th>0</th>\n",
       "      <th>1</th>\n",
       "    </tr>\n",
       "  </thead>\n",
       "  <tbody>\n",
       "    <tr>\n",
       "      <th>0</th>\n",
       "      <td>778</td>\n",
       "      <td>68</td>\n",
       "    </tr>\n",
       "    <tr>\n",
       "      <th>1</th>\n",
       "      <td>205</td>\n",
       "      <td>320</td>\n",
       "    </tr>\n",
       "    <tr>\n",
       "      <th>2</th>\n",
       "      <td>151</td>\n",
       "      <td>363</td>\n",
       "    </tr>\n",
       "  </tbody>\n",
       "</table>\n",
       "</div>"
      ],
      "text/plain": [
       "     0    1\n",
       "0  778   68\n",
       "1  205  320\n",
       "2  151  363"
      ]
     },
     "execution_count": 62,
     "metadata": {},
     "output_type": "execute_result"
    }
   ],
   "source": [
    "ecsta = pd.DataFrame({\"0\":df[df[\"Addiction\"] == 0][\"Ecstasy\"].value_counts(), \n",
    "              \"1\":df[df[\"Addiction\"] == 1][\"Ecstasy\"].value_counts(), \n",
    "              \"2\":df[df[\"Addiction\"] == 2][\"Ecstasy\"].value_counts()}).fillna(0).transpose()\n",
    "ecsta"
   ]
  },
  {
   "cell_type": "code",
   "execution_count": 63,
   "id": "556cb280",
   "metadata": {},
   "outputs": [
    {
     "data": {
      "text/plain": [
       "<AxesSubplot:>"
      ]
     },
     "execution_count": 63,
     "metadata": {},
     "output_type": "execute_result"
    },
    {
     "data": {
      "image/png": "[encoded data removed]",
      "text/plain": [
       "<Figure size 432x288 with 1 Axes>"
      ]
     },
     "metadata": {
      "needs_background": "light"
     },
     "output_type": "display_data"
    }
   ],
   "source": [
    "ecsta.plot.bar()"
   ]
  },
  {
   "cell_type": "markdown",
   "id": "3834db53",
   "metadata": {},
   "source": [
    "## Heroin"
   ]
  },
  {
   "cell_type": "code",
   "execution_count": 64,
   "id": "e986d2ae",
   "metadata": {},
   "outputs": [
    {
     "data": {
      "text/plain": [
       "0    1673\n",
       "1     212\n",
       "Name: Heroin, dtype: int64"
      ]
     },
     "execution_count": 64,
     "metadata": {},
     "output_type": "execute_result"
    }
   ],
   "source": [
    "df[\"Heroin\"].value_counts()"
   ]
  },
  {
   "cell_type": "code",
   "execution_count": 65,
   "id": "123a6af7",
   "metadata": {},
   "outputs": [
    {
     "data": {
      "text/html": [
       "<div>\n",
       "<style scoped>\n",
       "    .dataframe tbody tr th:only-of-type {\n",
       "        vertical-align: middle;\n",
       "    }\n",
       "\n",
       "    .dataframe tbody tr th {\n",
       "        vertical-align: top;\n",
       "    }\n",
       "\n",
       "    .dataframe thead th {\n",
       "        text-align: right;\n",
       "    }\n",
       "</style>\n",
       "<table border=\"1\" class=\"dataframe\">\n",
       "  <thead>\n",
       "    <tr style=\"text-align: right;\">\n",
       "      <th></th>\n",
       "      <th>0</th>\n",
       "      <th>1</th>\n",
       "    </tr>\n",
       "  </thead>\n",
       "  <tbody>\n",
       "    <tr>\n",
       "      <th>0</th>\n",
       "      <td>836</td>\n",
       "      <td>10</td>\n",
       "    </tr>\n",
       "    <tr>\n",
       "      <th>1</th>\n",
       "      <td>399</td>\n",
       "      <td>126</td>\n",
       "    </tr>\n",
       "    <tr>\n",
       "      <th>2</th>\n",
       "      <td>438</td>\n",
       "      <td>76</td>\n",
       "    </tr>\n",
       "  </tbody>\n",
       "</table>\n",
       "</div>"
      ],
      "text/plain": [
       "     0    1\n",
       "0  836   10\n",
       "1  399  126\n",
       "2  438   76"
      ]
     },
     "execution_count": 65,
     "metadata": {},
     "output_type": "execute_result"
    }
   ],
   "source": [
    "Heroin = pd.DataFrame({\"0\":df[df[\"Addiction\"] == 0][\"Heroin\"].value_counts(), \n",
    "              \"1\":df[df[\"Addiction\"] == 1][\"Heroin\"].value_counts(), \n",
    "              \"2\":df[df[\"Addiction\"] == 2][\"Heroin\"].value_counts()}).fillna(0).transpose()\n",
    "Heroin"
   ]
  },
  {
   "cell_type": "code",
   "execution_count": 66,
   "id": "6d457690",
   "metadata": {},
   "outputs": [
    {
     "data": {
      "text/plain": [
       "<AxesSubplot:>"
      ]
     },
     "execution_count": 66,
     "metadata": {},
     "output_type": "execute_result"
    },
    {
     "data": {
      "image/png": "[encoded data removed]",
      "text/plain": [
       "<Figure size 432x288 with 1 Axes>"
      ]
     },
     "metadata": {
      "needs_background": "light"
     },
     "output_type": "display_data"
    }
   ],
   "source": [
    "Heroin.plot.bar()"
   ]
  },
  {
   "cell_type": "markdown",
   "id": "a283ad88",
   "metadata": {},
   "source": [
    "## Ketamine"
   ]
  },
  {
   "cell_type": "code",
   "execution_count": 67,
   "id": "5319b14c",
   "metadata": {},
   "outputs": [
    {
     "data": {
      "text/plain": [
       "0    1535\n",
       "1     350\n",
       "Name: Ketamine, dtype: int64"
      ]
     },
     "execution_count": 67,
     "metadata": {},
     "output_type": "execute_result"
    }
   ],
   "source": [
    "df[\"Ketamine\"].value_counts()"
   ]
  },
  {
   "cell_type": "code",
   "execution_count": 68,
   "id": "a8faf4ee",
   "metadata": {},
   "outputs": [
    {
     "data": {
      "text/html": [
       "<div>\n",
       "<style scoped>\n",
       "    .dataframe tbody tr th:only-of-type {\n",
       "        vertical-align: middle;\n",
       "    }\n",
       "\n",
       "    .dataframe tbody tr th {\n",
       "        vertical-align: top;\n",
       "    }\n",
       "\n",
       "    .dataframe thead th {\n",
       "        text-align: right;\n",
       "    }\n",
       "</style>\n",
       "<table border=\"1\" class=\"dataframe\">\n",
       "  <thead>\n",
       "    <tr style=\"text-align: right;\">\n",
       "      <th></th>\n",
       "      <th>0</th>\n",
       "      <th>1</th>\n",
       "    </tr>\n",
       "  </thead>\n",
       "  <tbody>\n",
       "    <tr>\n",
       "      <th>0</th>\n",
       "      <td>826</td>\n",
       "      <td>20</td>\n",
       "    </tr>\n",
       "    <tr>\n",
       "      <th>1</th>\n",
       "      <td>378</td>\n",
       "      <td>147</td>\n",
       "    </tr>\n",
       "    <tr>\n",
       "      <th>2</th>\n",
       "      <td>331</td>\n",
       "      <td>183</td>\n",
       "    </tr>\n",
       "  </tbody>\n",
       "</table>\n",
       "</div>"
      ],
      "text/plain": [
       "     0    1\n",
       "0  826   20\n",
       "1  378  147\n",
       "2  331  183"
      ]
     },
     "execution_count": 68,
     "metadata": {},
     "output_type": "execute_result"
    }
   ],
   "source": [
    "keta = pd.DataFrame({\"0\":df[df[\"Addiction\"] == 0][\"Ketamine\"].value_counts(), \n",
    "              \"1\":df[df[\"Addiction\"] == 1][\"Ketamine\"].value_counts(), \n",
    "              \"2\":df[df[\"Addiction\"] == 2][\"Ketamine\"].value_counts()}).fillna(0).transpose()\n",
    "keta"
   ]
  },
  {
   "cell_type": "code",
   "execution_count": 69,
   "id": "72ab23ae",
   "metadata": {},
   "outputs": [
    {
     "data": {
      "text/plain": [
       "<AxesSubplot:>"
      ]
     },
     "execution_count": 69,
     "metadata": {},
     "output_type": "execute_result"
    },
    {
     "data": {
      "image/png": "[encoded data removed]",
      "text/plain": [
       "<Figure size 432x288 with 1 Axes>"
      ]
     },
     "metadata": {
      "needs_background": "light"
     },
     "output_type": "display_data"
    }
   ],
   "source": [
    "keta.plot.bar()"
   ]
  },
  {
   "cell_type": "markdown",
   "id": "6b834e77",
   "metadata": {},
   "source": [
    "## Legalh"
   ]
  },
  {
   "cell_type": "code",
   "execution_count": 70,
   "id": "d904cbbf",
   "metadata": {},
   "outputs": [
    {
     "data": {
      "text/plain": [
       "0    1123\n",
       "1     762\n",
       "Name: Legalh, dtype: int64"
      ]
     },
     "execution_count": 70,
     "metadata": {},
     "output_type": "execute_result"
    }
   ],
   "source": [
    "df[\"Legalh\"].value_counts()"
   ]
  },
  {
   "cell_type": "code",
   "execution_count": 71,
   "id": "5c6b6b21",
   "metadata": {},
   "outputs": [
    {
     "data": {
      "text/html": [
       "<div>\n",
       "<style scoped>\n",
       "    .dataframe tbody tr th:only-of-type {\n",
       "        vertical-align: middle;\n",
       "    }\n",
       "\n",
       "    .dataframe tbody tr th {\n",
       "        vertical-align: top;\n",
       "    }\n",
       "\n",
       "    .dataframe thead th {\n",
       "        text-align: right;\n",
       "    }\n",
       "</style>\n",
       "<table border=\"1\" class=\"dataframe\">\n",
       "  <thead>\n",
       "    <tr style=\"text-align: right;\">\n",
       "      <th></th>\n",
       "      <th>0</th>\n",
       "      <th>1</th>\n",
       "    </tr>\n",
       "  </thead>\n",
       "  <tbody>\n",
       "    <tr>\n",
       "      <th>0</th>\n",
       "      <td>776</td>\n",
       "      <td>70</td>\n",
       "    </tr>\n",
       "    <tr>\n",
       "      <th>1</th>\n",
       "      <td>185</td>\n",
       "      <td>340</td>\n",
       "    </tr>\n",
       "    <tr>\n",
       "      <th>2</th>\n",
       "      <td>162</td>\n",
       "      <td>352</td>\n",
       "    </tr>\n",
       "  </tbody>\n",
       "</table>\n",
       "</div>"
      ],
      "text/plain": [
       "     0    1\n",
       "0  776   70\n",
       "1  185  340\n",
       "2  162  352"
      ]
     },
     "execution_count": 71,
     "metadata": {},
     "output_type": "execute_result"
    }
   ],
   "source": [
    "legalh = pd.DataFrame({\"0\":df[df[\"Addiction\"] == 0][\"Legalh\"].value_counts(), \n",
    "              \"1\":df[df[\"Addiction\"] == 1][\"Legalh\"].value_counts(), \n",
    "              \"2\":df[df[\"Addiction\"] == 2][\"Legalh\"].value_counts()}).fillna(0).transpose()\n",
    "legalh"
   ]
  },
  {
   "cell_type": "code",
   "execution_count": 72,
   "id": "a910ae7c",
   "metadata": {},
   "outputs": [
    {
     "data": {
      "text/plain": [
       "<AxesSubplot:>"
      ]
     },
     "execution_count": 72,
     "metadata": {},
     "output_type": "execute_result"
    },
    {
     "data": {
      "image/png": "[encoded data removed]",
      "text/plain": [
       "<Figure size 432x288 with 1 Axes>"
      ]
     },
     "metadata": {
      "needs_background": "light"
     },
     "output_type": "display_data"
    }
   ],
   "source": [
    "legalh.plot.bar()"
   ]
  },
  {
   "cell_type": "markdown",
   "id": "9449804c",
   "metadata": {},
   "source": [
    "## LSD"
   ]
  },
  {
   "cell_type": "code",
   "execution_count": 73,
   "id": "8747bf3b",
   "metadata": {},
   "outputs": [
    {
     "data": {
      "text/plain": [
       "0    1328\n",
       "1     557\n",
       "Name: LSD, dtype: int64"
      ]
     },
     "execution_count": 73,
     "metadata": {},
     "output_type": "execute_result"
    }
   ],
   "source": [
    "df[\"LSD\"].value_counts()"
   ]
  },
  {
   "cell_type": "code",
   "execution_count": 74,
   "id": "bbe9af00",
   "metadata": {},
   "outputs": [
    {
     "data": {
      "text/html": [
       "<div>\n",
       "<style scoped>\n",
       "    .dataframe tbody tr th:only-of-type {\n",
       "        vertical-align: middle;\n",
       "    }\n",
       "\n",
       "    .dataframe tbody tr th {\n",
       "        vertical-align: top;\n",
       "    }\n",
       "\n",
       "    .dataframe thead th {\n",
       "        text-align: right;\n",
       "    }\n",
       "</style>\n",
       "<table border=\"1\" class=\"dataframe\">\n",
       "  <thead>\n",
       "    <tr style=\"text-align: right;\">\n",
       "      <th></th>\n",
       "      <th>0</th>\n",
       "      <th>1</th>\n",
       "    </tr>\n",
       "  </thead>\n",
       "  <tbody>\n",
       "    <tr>\n",
       "      <th>0</th>\n",
       "      <td>822</td>\n",
       "      <td>24</td>\n",
       "    </tr>\n",
       "    <tr>\n",
       "      <th>1</th>\n",
       "      <td>283</td>\n",
       "      <td>242</td>\n",
       "    </tr>\n",
       "    <tr>\n",
       "      <th>2</th>\n",
       "      <td>223</td>\n",
       "      <td>291</td>\n",
       "    </tr>\n",
       "  </tbody>\n",
       "</table>\n",
       "</div>"
      ],
      "text/plain": [
       "     0    1\n",
       "0  822   24\n",
       "1  283  242\n",
       "2  223  291"
      ]
     },
     "execution_count": 74,
     "metadata": {},
     "output_type": "execute_result"
    }
   ],
   "source": [
    "lsd = pd.DataFrame({\"0\":df[df[\"Addiction\"] == 0][\"LSD\"].value_counts(), \n",
    "              \"1\":df[df[\"Addiction\"] == 1][\"LSD\"].value_counts(), \n",
    "              \"2\":df[df[\"Addiction\"] == 2][\"LSD\"].value_counts()}).fillna(0).transpose()\n",
    "lsd"
   ]
  },
  {
   "cell_type": "code",
   "execution_count": 75,
   "id": "3290de64",
   "metadata": {},
   "outputs": [
    {
     "data": {
      "text/plain": [
       "<AxesSubplot:>"
      ]
     },
     "execution_count": 75,
     "metadata": {},
     "output_type": "execute_result"
    },
    {
     "data": {
      "image/png": "[encoded data removed]",
      "text/plain": [
       "<Figure size 432x288 with 1 Axes>"
      ]
     },
     "metadata": {
      "needs_background": "light"
     },
     "output_type": "display_data"
    }
   ],
   "source": [
    "lsd.plot.bar()"
   ]
  },
  {
   "cell_type": "markdown",
   "id": "54522add",
   "metadata": {},
   "source": [
    "## Meth"
   ]
  },
  {
   "cell_type": "code",
   "execution_count": 76,
   "id": "13aabef6",
   "metadata": {},
   "outputs": [
    {
     "data": {
      "text/plain": [
       "0    1468\n",
       "1     417\n",
       "Name: Meth, dtype: int64"
      ]
     },
     "execution_count": 76,
     "metadata": {},
     "output_type": "execute_result"
    }
   ],
   "source": [
    "df[\"Meth\"].value_counts()"
   ]
  },
  {
   "cell_type": "code",
   "execution_count": 77,
   "id": "0564ae6b",
   "metadata": {},
   "outputs": [
    {
     "data": {
      "text/html": [
       "<div>\n",
       "<style scoped>\n",
       "    .dataframe tbody tr th:only-of-type {\n",
       "        vertical-align: middle;\n",
       "    }\n",
       "\n",
       "    .dataframe tbody tr th {\n",
       "        vertical-align: top;\n",
       "    }\n",
       "\n",
       "    .dataframe thead th {\n",
       "        text-align: right;\n",
       "    }\n",
       "</style>\n",
       "<table border=\"1\" class=\"dataframe\">\n",
       "  <thead>\n",
       "    <tr style=\"text-align: right;\">\n",
       "      <th></th>\n",
       "      <th>0</th>\n",
       "      <th>1</th>\n",
       "    </tr>\n",
       "  </thead>\n",
       "  <tbody>\n",
       "    <tr>\n",
       "      <th>0</th>\n",
       "      <td>801</td>\n",
       "      <td>45</td>\n",
       "    </tr>\n",
       "    <tr>\n",
       "      <th>1</th>\n",
       "      <td>308</td>\n",
       "      <td>217</td>\n",
       "    </tr>\n",
       "    <tr>\n",
       "      <th>2</th>\n",
       "      <td>359</td>\n",
       "      <td>155</td>\n",
       "    </tr>\n",
       "  </tbody>\n",
       "</table>\n",
       "</div>"
      ],
      "text/plain": [
       "     0    1\n",
       "0  801   45\n",
       "1  308  217\n",
       "2  359  155"
      ]
     },
     "execution_count": 77,
     "metadata": {},
     "output_type": "execute_result"
    }
   ],
   "source": [
    "meth = pd.DataFrame({\"0\":df[df[\"Addiction\"] == 0][\"Meth\"].value_counts(), \n",
    "              \"1\":df[df[\"Addiction\"] == 1][\"Meth\"].value_counts(), \n",
    "              \"2\":df[df[\"Addiction\"] == 2][\"Meth\"].value_counts()}).fillna(0).transpose()\n",
    "meth"
   ]
  },
  {
   "cell_type": "code",
   "execution_count": 78,
   "id": "19af389b",
   "metadata": {},
   "outputs": [
    {
     "data": {
      "text/plain": [
       "<AxesSubplot:>"
      ]
     },
     "execution_count": 78,
     "metadata": {},
     "output_type": "execute_result"
    },
    {
     "data": {
      "image/png": "[encoded data removed]",
      "text/plain": [
       "<Figure size 432x288 with 1 Axes>"
      ]
     },
     "metadata": {
      "needs_background": "light"
     },
     "output_type": "display_data"
    }
   ],
   "source": [
    "meth.plot.bar()"
   ]
  },
  {
   "cell_type": "markdown",
   "id": "4eccac4c",
   "metadata": {},
   "source": [
    "## Mushrooms"
   ]
  },
  {
   "cell_type": "code",
   "execution_count": 79,
   "id": "97f209f9",
   "metadata": {},
   "outputs": [
    {
     "data": {
      "text/plain": [
       "0    1191\n",
       "1     694\n",
       "Name: Mushrooms, dtype: int64"
      ]
     },
     "execution_count": 79,
     "metadata": {},
     "output_type": "execute_result"
    }
   ],
   "source": [
    "df[\"Mushrooms\"].value_counts()"
   ]
  },
  {
   "cell_type": "code",
   "execution_count": 80,
   "id": "8ca62ce9",
   "metadata": {},
   "outputs": [
    {
     "data": {
      "text/html": [
       "<div>\n",
       "<style scoped>\n",
       "    .dataframe tbody tr th:only-of-type {\n",
       "        vertical-align: middle;\n",
       "    }\n",
       "\n",
       "    .dataframe tbody tr th {\n",
       "        vertical-align: top;\n",
       "    }\n",
       "\n",
       "    .dataframe thead th {\n",
       "        text-align: right;\n",
       "    }\n",
       "</style>\n",
       "<table border=\"1\" class=\"dataframe\">\n",
       "  <thead>\n",
       "    <tr style=\"text-align: right;\">\n",
       "      <th></th>\n",
       "      <th>0</th>\n",
       "      <th>1</th>\n",
       "    </tr>\n",
       "  </thead>\n",
       "  <tbody>\n",
       "    <tr>\n",
       "      <th>0</th>\n",
       "      <td>790</td>\n",
       "      <td>56</td>\n",
       "    </tr>\n",
       "    <tr>\n",
       "      <th>1</th>\n",
       "      <td>233</td>\n",
       "      <td>292</td>\n",
       "    </tr>\n",
       "    <tr>\n",
       "      <th>2</th>\n",
       "      <td>168</td>\n",
       "      <td>346</td>\n",
       "    </tr>\n",
       "  </tbody>\n",
       "</table>\n",
       "</div>"
      ],
      "text/plain": [
       "     0    1\n",
       "0  790   56\n",
       "1  233  292\n",
       "2  168  346"
      ]
     },
     "execution_count": 80,
     "metadata": {},
     "output_type": "execute_result"
    }
   ],
   "source": [
    "mush = pd.DataFrame({\"0\":df[df[\"Addiction\"] == 0][\"Mushrooms\"].value_counts(), \n",
    "              \"1\":df[df[\"Addiction\"] == 1][\"Mushrooms\"].value_counts(), \n",
    "              \"2\":df[df[\"Addiction\"] == 2][\"Mushrooms\"].value_counts()}).fillna(0).transpose()\n",
    "mush"
   ]
  },
  {
   "cell_type": "code",
   "execution_count": 81,
   "id": "aa87869a",
   "metadata": {},
   "outputs": [
    {
     "data": {
      "text/plain": [
       "<AxesSubplot:>"
      ]
     },
     "execution_count": 81,
     "metadata": {},
     "output_type": "execute_result"
    },
    {
     "data": {
      "image/png": "[encoded data removed]",
      "text/plain": [
       "<Figure size 432x288 with 1 Axes>"
      ]
     },
     "metadata": {
      "needs_background": "light"
     },
     "output_type": "display_data"
    }
   ],
   "source": [
    "mush.plot.bar()"
   ]
  },
  {
   "cell_type": "markdown",
   "id": "b41fdd93",
   "metadata": {},
   "source": [
    "## Nicotine"
   ]
  },
  {
   "cell_type": "code",
   "execution_count": 82,
   "id": "a616f9f9",
   "metadata": {},
   "outputs": [
    {
     "data": {
      "text/plain": [
       "1    1264\n",
       "0     621\n",
       "Name: Nicotine, dtype: int64"
      ]
     },
     "execution_count": 82,
     "metadata": {},
     "output_type": "execute_result"
    }
   ],
   "source": [
    "df[\"Nicotine\"].value_counts()"
   ]
  },
  {
   "cell_type": "code",
   "execution_count": 83,
   "id": "eecf5835",
   "metadata": {},
   "outputs": [
    {
     "data": {
      "text/html": [
       "<div>\n",
       "<style scoped>\n",
       "    .dataframe tbody tr th:only-of-type {\n",
       "        vertical-align: middle;\n",
       "    }\n",
       "\n",
       "    .dataframe tbody tr th {\n",
       "        vertical-align: top;\n",
       "    }\n",
       "\n",
       "    .dataframe thead th {\n",
       "        text-align: right;\n",
       "    }\n",
       "</style>\n",
       "<table border=\"1\" class=\"dataframe\">\n",
       "  <thead>\n",
       "    <tr style=\"text-align: right;\">\n",
       "      <th></th>\n",
       "      <th>0</th>\n",
       "      <th>1</th>\n",
       "    </tr>\n",
       "  </thead>\n",
       "  <tbody>\n",
       "    <tr>\n",
       "      <th>0</th>\n",
       "      <td>475</td>\n",
       "      <td>371</td>\n",
       "    </tr>\n",
       "    <tr>\n",
       "      <th>1</th>\n",
       "      <td>71</td>\n",
       "      <td>454</td>\n",
       "    </tr>\n",
       "    <tr>\n",
       "      <th>2</th>\n",
       "      <td>75</td>\n",
       "      <td>439</td>\n",
       "    </tr>\n",
       "  </tbody>\n",
       "</table>\n",
       "</div>"
      ],
      "text/plain": [
       "     0    1\n",
       "0  475  371\n",
       "1   71  454\n",
       "2   75  439"
      ]
     },
     "execution_count": 83,
     "metadata": {},
     "output_type": "execute_result"
    }
   ],
   "source": [
    "nico = pd.DataFrame({\"0\":df[df[\"Addiction\"] == 0][\"Nicotine\"].value_counts(), \n",
    "              \"1\":df[df[\"Addiction\"] == 1][\"Nicotine\"].value_counts(), \n",
    "              \"2\":df[df[\"Addiction\"] == 2][\"Nicotine\"].value_counts()}).fillna(0).transpose()\n",
    "nico"
   ]
  },
  {
   "cell_type": "code",
   "execution_count": 84,
   "id": "47c7b59c",
   "metadata": {},
   "outputs": [
    {
     "data": {
      "text/plain": [
       "<AxesSubplot:>"
      ]
     },
     "execution_count": 84,
     "metadata": {},
     "output_type": "execute_result"
    },
    {
     "data": {
      "image/png": "[encoded data removed]",
      "text/plain": [
       "<Figure size 432x288 with 1 Axes>"
      ]
     },
     "metadata": {
      "needs_background": "light"
     },
     "output_type": "display_data"
    }
   ],
   "source": [
    "nico.plot.bar()"
   ]
  },
  {
   "cell_type": "markdown",
   "id": "30b9e1d1",
   "metadata": {},
   "source": [
    "## VSA"
   ]
  },
  {
   "cell_type": "code",
   "execution_count": 85,
   "id": "1d564399",
   "metadata": {},
   "outputs": [
    {
     "data": {
      "text/plain": [
       "0    1655\n",
       "1     230\n",
       "Name: VSA, dtype: int64"
      ]
     },
     "execution_count": 85,
     "metadata": {},
     "output_type": "execute_result"
    }
   ],
   "source": [
    "df[\"VSA\"].value_counts()"
   ]
  },
  {
   "cell_type": "code",
   "execution_count": 86,
   "id": "a47cb5a6",
   "metadata": {},
   "outputs": [
    {
     "data": {
      "text/html": [
       "<div>\n",
       "<style scoped>\n",
       "    .dataframe tbody tr th:only-of-type {\n",
       "        vertical-align: middle;\n",
       "    }\n",
       "\n",
       "    .dataframe tbody tr th {\n",
       "        vertical-align: top;\n",
       "    }\n",
       "\n",
       "    .dataframe thead th {\n",
       "        text-align: right;\n",
       "    }\n",
       "</style>\n",
       "<table border=\"1\" class=\"dataframe\">\n",
       "  <thead>\n",
       "    <tr style=\"text-align: right;\">\n",
       "      <th></th>\n",
       "      <th>0</th>\n",
       "      <th>1</th>\n",
       "    </tr>\n",
       "  </thead>\n",
       "  <tbody>\n",
       "    <tr>\n",
       "      <th>0</th>\n",
       "      <td>842</td>\n",
       "      <td>4</td>\n",
       "    </tr>\n",
       "    <tr>\n",
       "      <th>1</th>\n",
       "      <td>395</td>\n",
       "      <td>130</td>\n",
       "    </tr>\n",
       "    <tr>\n",
       "      <th>2</th>\n",
       "      <td>418</td>\n",
       "      <td>96</td>\n",
       "    </tr>\n",
       "  </tbody>\n",
       "</table>\n",
       "</div>"
      ],
      "text/plain": [
       "     0    1\n",
       "0  842    4\n",
       "1  395  130\n",
       "2  418   96"
      ]
     },
     "execution_count": 86,
     "metadata": {},
     "output_type": "execute_result"
    }
   ],
   "source": [
    "nico = pd.DataFrame({\"0\":df[df[\"Addiction\"] == 0][\"VSA\"].value_counts(), \n",
    "              \"1\":df[df[\"Addiction\"] == 1][\"VSA\"].value_counts(), \n",
    "              \"2\":df[df[\"Addiction\"] == 2][\"VSA\"].value_counts()}).fillna(0).transpose()\n",
    "nico"
   ]
  },
  {
   "cell_type": "code",
   "execution_count": 87,
   "id": "6e71ea08",
   "metadata": {},
   "outputs": [
    {
     "data": {
      "text/plain": [
       "<AxesSubplot:>"
      ]
     },
     "execution_count": 87,
     "metadata": {},
     "output_type": "execute_result"
    },
    {
     "data": {
      "image/png": "[encoded data removed]",
      "text/plain": [
       "<Figure size 432x288 with 1 Axes>"
      ]
     },
     "metadata": {
      "needs_background": "light"
     },
     "output_type": "display_data"
    }
   ],
   "source": [
    "nico.plot.bar()"
   ]
  },
  {
   "cell_type": "markdown",
   "id": "9da20d4f",
   "metadata": {},
   "source": [
    "#  Conclusion"
   ]
  },
  {
   "cell_type": "markdown",
   "id": "0d545501",
   "metadata": {},
   "source": [
    "- Values that seems to have an impact:\n",
    "1. Age\n",
    "2. Education\n",
    "3. Nscore\n",
    "4. Oscore\n",
    "5. Cscore\n",
    "6. Impulsive\n",
    "7. SS"
   ]
  },
  {
   "cell_type": "markdown",
   "id": "a0b0bb41",
   "metadata": {},
   "source": [
    "- Values that seems to NOT have an impact:\n",
    "1. Ethnicity"
   ]
  },
  {
   "cell_type": "markdown",
   "id": "139afaa4",
   "metadata": {},
   "source": [
    "- About the drugs https://fr.wikipedia.org/wiki/Classification_des_psychotropes:\n",
    "\n",
    "| Drug | Type | Observations | Dependency |Most group|\n",
    "|:----:|:----:|:----:|:----:|:----:|\n",
    "|Semer||In each group few people was interested in each Cluster, so this drug seems to not have impact, not useful| NaN ||\n",
    "|Alcohol||This drug is spread in the population, therefore there is no impact on the cluster, not useful| High Risk||\n",
    "|Amphet|Stimulating| 0 group is not addicted, The 1 and 2 are quite similar, but 2 more| High Risk|2|\n",
    "|Amyl |Depressant| 0 group is not addicted, The 1 and 2 are quite similar, but 2 more|Low Risk|2|\n",
    "|Benzos|Neuroleptics/Depressant|0 group is not addicted, the group 1 have more|Medium Risk|1|\n",
    "|Caff|Stimulating|As Alcohol, Cafféine is spread in the population, it suggests that there is no impact|NaN||\n",
    "|Cannabis |Halluconigenic/Depressant/Stimulating/Stimulating| 0 group not addicted, The 1 and 2 are quite similar, but 1 more|Medium Risk|1 (2 similar)|\n",
    "|Chocolate|| Spread, no utility for our study||\n",
    "|Coke|Stimulating| 0 group is not addicted, The 1 and 2 are quite similar, but 1 more|High Risk|1|\n",
    "|Crack|Stimulating| 0 group is not addicted, 1 is the most|High Risk|1|\n",
    "|Ecstasy|Stimulating/Neuroleptics/Halluconigenics| group 2 is a little more than group 1|Low Risk|2|\n",
    "|Heroin |Depressant| group 1 is a little more|High Risk|1|\n",
    "|Ketamine |Depressant/Halluconigenic| group 2 more|High Risk|2|\n",
    "|Legalh|Drug substitute|group 0 low,  group 1 and 2 similar|Medium Risk|2|\n",
    "|LSD|Stimulating/Halluconigenics| group 2 the most|Low Risk|2|\n",
    "|Meth|Stimulating| group 1 the most |High Risk|1|\n",
    "|Mushrooms|Halluconigenic|group 2 the most|Low Risk|2|\n",
    "|Nicotine |Neuroleptics/Stimulating/Depressant|group 1 |High Risk|1|\n",
    "|VSA |???|: group 1 the most|???|1"
   ]
  },
  {
   "cell_type": "markdown",
   "id": "52e6d5d0",
   "metadata": {},
   "source": [
    "- Group 0 clearly show people who are not addicted\n",
    "- Group 1 and Group 2 aren't well defined with the univariate analysis, but for now we can make the hypothesis that group 1 represents people who use more dependant drugs than group 1\n",
    "- Need of a Multivariate Analysis\n",
    "- Semer, Alcohol, Caff and Choc have to be retired because of beeing too popular or not popular\n",
    "- Ethnicity can be dropped also because it doesn't have any effect"
   ]
  },
  {
   "cell_type": "code",
   "execution_count": 88,
   "id": "683c76a2",
   "metadata": {},
   "outputs": [],
   "source": [
    "df.drop(columns = [\"Semer\",\"Alcohol\", \"Caff\", \"Choc\", \"Ethnicity\"], inplace = True)"
   ]
  },
  {
   "cell_type": "code",
   "execution_count": 89,
   "id": "7a8ce37d",
   "metadata": {},
   "outputs": [
    {
     "data": {
      "text/plain": [
       "(1885, 26)"
      ]
     },
     "execution_count": 89,
     "metadata": {},
     "output_type": "execute_result"
    }
   ],
   "source": [
    "df.shape"
   ]
  },
  {
   "cell_type": "code",
   "execution_count": 90,
   "id": "38482207",
   "metadata": {},
   "outputs": [],
   "source": [
    "df.to_csv(\"../Analyse_Exploratoire/data_univariate.csv\", index = False)"
   ]
  },
  {
   "cell_type": "code",
   "execution_count": null,
   "id": "1a8fc525",
   "metadata": {},
   "outputs": [],
   "source": []
  }
 ],
 "metadata": {
  "kernelspec": {
   "display_name": "Python 3",
   "language": "python",
   "name": "python3"
  },
  "language_info": {
   "codemirror_mode": {
    "name": "ipython",
    "version": 3
   },
   "file_extension": ".py",
   "mimetype": "text/x-python",
   "name": "python",
   "nbconvert_exporter": "python",
   "pygments_lexer": "ipython3",
   "version": "3.8.8"
  }
 },
 "nbformat": 4,
 "nbformat_minor": 5
}
