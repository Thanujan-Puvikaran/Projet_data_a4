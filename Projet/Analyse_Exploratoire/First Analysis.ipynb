{
 "cells": [
  {
   "cell_type": "markdown",
   "id": "fa6762fa",
   "metadata": {},
   "source": [
    "# Library"
   ]
  },
  {
   "cell_type": "code",
   "execution_count": 46,
   "id": "8365c942",
   "metadata": {},
   "outputs": [],
   "source": [
    "import pandas as pd\n",
    "from IPython.display import HTML, display\n",
    "import matplotlib.pyplot as plt\n",
    "import seaborn as sns\n",
    "import numpy as np"
   ]
  },
  {
   "cell_type": "code",
   "execution_count": 47,
   "id": "bbd099c3",
   "metadata": {},
   "outputs": [],
   "source": [
    "#Reading csv file preprocessed\n",
    "df = pd.read_csv(\"data_preproc.csv\")"
   ]
  },
  {
   "cell_type": "code",
   "execution_count": 48,
   "id": "c5cc6ca9",
   "metadata": {},
   "outputs": [
    {
     "data": {
      "text/html": [
       "<div>\n",
       "<style scoped>\n",
       "    .dataframe tbody tr th:only-of-type {\n",
       "        vertical-align: middle;\n",
       "    }\n",
       "\n",
       "    .dataframe tbody tr th {\n",
       "        vertical-align: top;\n",
       "    }\n",
       "\n",
       "    .dataframe thead th {\n",
       "        text-align: right;\n",
       "    }\n",
       "</style>\n",
       "<table border=\"1\" class=\"dataframe\">\n",
       "  <thead>\n",
       "    <tr style=\"text-align: right;\">\n",
       "      <th></th>\n",
       "      <th>Age</th>\n",
       "      <th>Gender</th>\n",
       "      <th>Education</th>\n",
       "      <th>Ethnicity</th>\n",
       "      <th>Nscore</th>\n",
       "      <th>Escore</th>\n",
       "      <th>Oscore</th>\n",
       "      <th>Ascore</th>\n",
       "      <th>Cscore</th>\n",
       "      <th>Impulsive</th>\n",
       "      <th>...</th>\n",
       "      <th>Heroin</th>\n",
       "      <th>Ketamine</th>\n",
       "      <th>Legalh</th>\n",
       "      <th>LSD</th>\n",
       "      <th>Meth</th>\n",
       "      <th>Mushrooms</th>\n",
       "      <th>Nicotine</th>\n",
       "      <th>Semer</th>\n",
       "      <th>VSA</th>\n",
       "      <th>Addiction</th>\n",
       "    </tr>\n",
       "  </thead>\n",
       "  <tbody>\n",
       "    <tr>\n",
       "      <th>0</th>\n",
       "      <td>0.49788</td>\n",
       "      <td>0.48246</td>\n",
       "      <td>-0.05921</td>\n",
       "      <td>0.12600</td>\n",
       "      <td>0.31287</td>\n",
       "      <td>-0.57545</td>\n",
       "      <td>-0.58331</td>\n",
       "      <td>-0.91699</td>\n",
       "      <td>-0.00665</td>\n",
       "      <td>-0.21712</td>\n",
       "      <td>...</td>\n",
       "      <td>0</td>\n",
       "      <td>0</td>\n",
       "      <td>0</td>\n",
       "      <td>0</td>\n",
       "      <td>0</td>\n",
       "      <td>0</td>\n",
       "      <td>1</td>\n",
       "      <td>0</td>\n",
       "      <td>0</td>\n",
       "      <td>0</td>\n",
       "    </tr>\n",
       "    <tr>\n",
       "      <th>1</th>\n",
       "      <td>-0.07854</td>\n",
       "      <td>-0.48246</td>\n",
       "      <td>1.98437</td>\n",
       "      <td>-0.31685</td>\n",
       "      <td>-0.67825</td>\n",
       "      <td>1.93886</td>\n",
       "      <td>1.43533</td>\n",
       "      <td>0.76096</td>\n",
       "      <td>-0.14277</td>\n",
       "      <td>-0.71126</td>\n",
       "      <td>...</td>\n",
       "      <td>0</td>\n",
       "      <td>1</td>\n",
       "      <td>0</td>\n",
       "      <td>1</td>\n",
       "      <td>1</td>\n",
       "      <td>0</td>\n",
       "      <td>1</td>\n",
       "      <td>0</td>\n",
       "      <td>0</td>\n",
       "      <td>2</td>\n",
       "    </tr>\n",
       "    <tr>\n",
       "      <th>2</th>\n",
       "      <td>0.49788</td>\n",
       "      <td>-0.48246</td>\n",
       "      <td>-0.05921</td>\n",
       "      <td>-0.31685</td>\n",
       "      <td>-0.46725</td>\n",
       "      <td>0.80523</td>\n",
       "      <td>-0.84732</td>\n",
       "      <td>-1.62090</td>\n",
       "      <td>-1.01450</td>\n",
       "      <td>-1.37983</td>\n",
       "      <td>...</td>\n",
       "      <td>0</td>\n",
       "      <td>0</td>\n",
       "      <td>0</td>\n",
       "      <td>0</td>\n",
       "      <td>0</td>\n",
       "      <td>0</td>\n",
       "      <td>0</td>\n",
       "      <td>0</td>\n",
       "      <td>0</td>\n",
       "      <td>0</td>\n",
       "    </tr>\n",
       "    <tr>\n",
       "      <th>3</th>\n",
       "      <td>-0.95197</td>\n",
       "      <td>0.48246</td>\n",
       "      <td>1.16365</td>\n",
       "      <td>-0.31685</td>\n",
       "      <td>-0.14882</td>\n",
       "      <td>-0.80615</td>\n",
       "      <td>-0.01928</td>\n",
       "      <td>0.59042</td>\n",
       "      <td>0.58489</td>\n",
       "      <td>-1.37983</td>\n",
       "      <td>...</td>\n",
       "      <td>0</td>\n",
       "      <td>1</td>\n",
       "      <td>0</td>\n",
       "      <td>0</td>\n",
       "      <td>0</td>\n",
       "      <td>0</td>\n",
       "      <td>1</td>\n",
       "      <td>0</td>\n",
       "      <td>0</td>\n",
       "      <td>0</td>\n",
       "    </tr>\n",
       "    <tr>\n",
       "      <th>4</th>\n",
       "      <td>0.49788</td>\n",
       "      <td>0.48246</td>\n",
       "      <td>1.98437</td>\n",
       "      <td>-0.31685</td>\n",
       "      <td>0.73545</td>\n",
       "      <td>-1.63340</td>\n",
       "      <td>-0.45174</td>\n",
       "      <td>-0.30172</td>\n",
       "      <td>1.30612</td>\n",
       "      <td>-0.21712</td>\n",
       "      <td>...</td>\n",
       "      <td>0</td>\n",
       "      <td>0</td>\n",
       "      <td>0</td>\n",
       "      <td>0</td>\n",
       "      <td>0</td>\n",
       "      <td>1</td>\n",
       "      <td>1</td>\n",
       "      <td>0</td>\n",
       "      <td>0</td>\n",
       "      <td>0</td>\n",
       "    </tr>\n",
       "    <tr>\n",
       "      <th>...</th>\n",
       "      <td>...</td>\n",
       "      <td>...</td>\n",
       "      <td>...</td>\n",
       "      <td>...</td>\n",
       "      <td>...</td>\n",
       "      <td>...</td>\n",
       "      <td>...</td>\n",
       "      <td>...</td>\n",
       "      <td>...</td>\n",
       "      <td>...</td>\n",
       "      <td>...</td>\n",
       "      <td>...</td>\n",
       "      <td>...</td>\n",
       "      <td>...</td>\n",
       "      <td>...</td>\n",
       "      <td>...</td>\n",
       "      <td>...</td>\n",
       "      <td>...</td>\n",
       "      <td>...</td>\n",
       "      <td>...</td>\n",
       "      <td>...</td>\n",
       "    </tr>\n",
       "    <tr>\n",
       "      <th>1880</th>\n",
       "      <td>-0.95197</td>\n",
       "      <td>0.48246</td>\n",
       "      <td>-0.61113</td>\n",
       "      <td>-0.31685</td>\n",
       "      <td>-1.19430</td>\n",
       "      <td>1.74091</td>\n",
       "      <td>1.88511</td>\n",
       "      <td>0.76096</td>\n",
       "      <td>-1.13788</td>\n",
       "      <td>0.88113</td>\n",
       "      <td>...</td>\n",
       "      <td>0</td>\n",
       "      <td>0</td>\n",
       "      <td>1</td>\n",
       "      <td>1</td>\n",
       "      <td>0</td>\n",
       "      <td>0</td>\n",
       "      <td>0</td>\n",
       "      <td>0</td>\n",
       "      <td>1</td>\n",
       "      <td>2</td>\n",
       "    </tr>\n",
       "    <tr>\n",
       "      <th>1881</th>\n",
       "      <td>-0.95197</td>\n",
       "      <td>-0.48246</td>\n",
       "      <td>-0.61113</td>\n",
       "      <td>-0.31685</td>\n",
       "      <td>-0.24649</td>\n",
       "      <td>1.74091</td>\n",
       "      <td>0.58331</td>\n",
       "      <td>0.76096</td>\n",
       "      <td>-1.51840</td>\n",
       "      <td>0.88113</td>\n",
       "      <td>...</td>\n",
       "      <td>0</td>\n",
       "      <td>0</td>\n",
       "      <td>1</td>\n",
       "      <td>1</td>\n",
       "      <td>1</td>\n",
       "      <td>1</td>\n",
       "      <td>1</td>\n",
       "      <td>0</td>\n",
       "      <td>0</td>\n",
       "      <td>2</td>\n",
       "    </tr>\n",
       "    <tr>\n",
       "      <th>1882</th>\n",
       "      <td>-0.07854</td>\n",
       "      <td>0.48246</td>\n",
       "      <td>0.45468</td>\n",
       "      <td>-0.31685</td>\n",
       "      <td>1.13281</td>\n",
       "      <td>-1.37639</td>\n",
       "      <td>-1.27553</td>\n",
       "      <td>-1.77200</td>\n",
       "      <td>-1.38502</td>\n",
       "      <td>0.52975</td>\n",
       "      <td>...</td>\n",
       "      <td>0</td>\n",
       "      <td>1</td>\n",
       "      <td>0</td>\n",
       "      <td>1</td>\n",
       "      <td>0</td>\n",
       "      <td>1</td>\n",
       "      <td>1</td>\n",
       "      <td>0</td>\n",
       "      <td>0</td>\n",
       "      <td>1</td>\n",
       "    </tr>\n",
       "    <tr>\n",
       "      <th>1883</th>\n",
       "      <td>-0.95197</td>\n",
       "      <td>0.48246</td>\n",
       "      <td>-0.61113</td>\n",
       "      <td>-0.31685</td>\n",
       "      <td>0.91093</td>\n",
       "      <td>-1.92173</td>\n",
       "      <td>0.29338</td>\n",
       "      <td>-1.62090</td>\n",
       "      <td>-2.57309</td>\n",
       "      <td>1.29221</td>\n",
       "      <td>...</td>\n",
       "      <td>0</td>\n",
       "      <td>0</td>\n",
       "      <td>1</td>\n",
       "      <td>1</td>\n",
       "      <td>0</td>\n",
       "      <td>1</td>\n",
       "      <td>1</td>\n",
       "      <td>0</td>\n",
       "      <td>0</td>\n",
       "      <td>1</td>\n",
       "    </tr>\n",
       "    <tr>\n",
       "      <th>1884</th>\n",
       "      <td>-0.95197</td>\n",
       "      <td>-0.48246</td>\n",
       "      <td>-0.61113</td>\n",
       "      <td>-0.31685</td>\n",
       "      <td>-0.46725</td>\n",
       "      <td>2.12700</td>\n",
       "      <td>1.65653</td>\n",
       "      <td>1.11406</td>\n",
       "      <td>0.41594</td>\n",
       "      <td>0.88113</td>\n",
       "      <td>...</td>\n",
       "      <td>0</td>\n",
       "      <td>0</td>\n",
       "      <td>1</td>\n",
       "      <td>1</td>\n",
       "      <td>0</td>\n",
       "      <td>1</td>\n",
       "      <td>1</td>\n",
       "      <td>0</td>\n",
       "      <td>1</td>\n",
       "      <td>2</td>\n",
       "    </tr>\n",
       "  </tbody>\n",
       "</table>\n",
       "<p>1885 rows × 31 columns</p>\n",
       "</div>"
      ],
      "text/plain": [
       "          Age   Gender  Education  Ethnicity   Nscore   Escore   Oscore  \\\n",
       "0     0.49788  0.48246   -0.05921    0.12600  0.31287 -0.57545 -0.58331   \n",
       "1    -0.07854 -0.48246    1.98437   -0.31685 -0.67825  1.93886  1.43533   \n",
       "2     0.49788 -0.48246   -0.05921   -0.31685 -0.46725  0.80523 -0.84732   \n",
       "3    -0.95197  0.48246    1.16365   -0.31685 -0.14882 -0.80615 -0.01928   \n",
       "4     0.49788  0.48246    1.98437   -0.31685  0.73545 -1.63340 -0.45174   \n",
       "...       ...      ...        ...        ...      ...      ...      ...   \n",
       "1880 -0.95197  0.48246   -0.61113   -0.31685 -1.19430  1.74091  1.88511   \n",
       "1881 -0.95197 -0.48246   -0.61113   -0.31685 -0.24649  1.74091  0.58331   \n",
       "1882 -0.07854  0.48246    0.45468   -0.31685  1.13281 -1.37639 -1.27553   \n",
       "1883 -0.95197  0.48246   -0.61113   -0.31685  0.91093 -1.92173  0.29338   \n",
       "1884 -0.95197 -0.48246   -0.61113   -0.31685 -0.46725  2.12700  1.65653   \n",
       "\n",
       "       Ascore   Cscore  Impulsive  ...  Heroin  Ketamine  Legalh  LSD  Meth  \\\n",
       "0    -0.91699 -0.00665   -0.21712  ...       0         0       0    0     0   \n",
       "1     0.76096 -0.14277   -0.71126  ...       0         1       0    1     1   \n",
       "2    -1.62090 -1.01450   -1.37983  ...       0         0       0    0     0   \n",
       "3     0.59042  0.58489   -1.37983  ...       0         1       0    0     0   \n",
       "4    -0.30172  1.30612   -0.21712  ...       0         0       0    0     0   \n",
       "...       ...      ...        ...  ...     ...       ...     ...  ...   ...   \n",
       "1880  0.76096 -1.13788    0.88113  ...       0         0       1    1     0   \n",
       "1881  0.76096 -1.51840    0.88113  ...       0         0       1    1     1   \n",
       "1882 -1.77200 -1.38502    0.52975  ...       0         1       0    1     0   \n",
       "1883 -1.62090 -2.57309    1.29221  ...       0         0       1    1     0   \n",
       "1884  1.11406  0.41594    0.88113  ...       0         0       1    1     0   \n",
       "\n",
       "      Mushrooms  Nicotine  Semer  VSA  Addiction  \n",
       "0             0         1      0    0          0  \n",
       "1             0         1      0    0          2  \n",
       "2             0         0      0    0          0  \n",
       "3             0         1      0    0          0  \n",
       "4             1         1      0    0          0  \n",
       "...         ...       ...    ...  ...        ...  \n",
       "1880          0         0      0    1          2  \n",
       "1881          1         1      0    0          2  \n",
       "1882          1         1      0    0          1  \n",
       "1883          1         1      0    0          1  \n",
       "1884          1         1      0    1          2  \n",
       "\n",
       "[1885 rows x 31 columns]"
      ]
     },
     "execution_count": 48,
     "metadata": {},
     "output_type": "execute_result"
    }
   ],
   "source": [
    "df"
   ]
  },
  {
   "cell_type": "markdown",
   "id": "a87fe0cb",
   "metadata": {},
   "source": [
    "# Target analysis"
   ]
  },
  {
   "cell_type": "code",
   "execution_count": 49,
   "id": "d8e5369c",
   "metadata": {},
   "outputs": [
    {
     "data": {
      "text/plain": [
       "0    0.448806\n",
       "1    0.278515\n",
       "2    0.272679\n",
       "Name: Addiction, dtype: float64"
      ]
     },
     "execution_count": 49,
     "metadata": {},
     "output_type": "execute_result"
    }
   ],
   "source": [
    "df[\"Addiction\"].value_counts(normalize = True)"
   ]
  },
  {
   "cell_type": "code",
   "execution_count": 50,
   "id": "4c4c1d17",
   "metadata": {},
   "outputs": [],
   "source": [
    "target_per = pd.DataFrame(df[\"Addiction\"].value_counts(normalize = True))"
   ]
  },
  {
   "cell_type": "code",
   "execution_count": 51,
   "id": "938db517",
   "metadata": {},
   "outputs": [
    {
     "data": {
      "text/html": [
       "<div>\n",
       "<style scoped>\n",
       "    .dataframe tbody tr th:only-of-type {\n",
       "        vertical-align: middle;\n",
       "    }\n",
       "\n",
       "    .dataframe tbody tr th {\n",
       "        vertical-align: top;\n",
       "    }\n",
       "\n",
       "    .dataframe thead th {\n",
       "        text-align: right;\n",
       "    }\n",
       "</style>\n",
       "<table border=\"1\" class=\"dataframe\">\n",
       "  <thead>\n",
       "    <tr style=\"text-align: right;\">\n",
       "      <th></th>\n",
       "      <th>Addiction</th>\n",
       "    </tr>\n",
       "  </thead>\n",
       "  <tbody>\n",
       "    <tr>\n",
       "      <th>0</th>\n",
       "      <td>0.448806</td>\n",
       "    </tr>\n",
       "    <tr>\n",
       "      <th>1</th>\n",
       "      <td>0.278515</td>\n",
       "    </tr>\n",
       "    <tr>\n",
       "      <th>2</th>\n",
       "      <td>0.272679</td>\n",
       "    </tr>\n",
       "  </tbody>\n",
       "</table>\n",
       "</div>"
      ],
      "text/plain": [
       "   Addiction\n",
       "0   0.448806\n",
       "1   0.278515\n",
       "2   0.272679"
      ]
     },
     "execution_count": 51,
     "metadata": {},
     "output_type": "execute_result"
    }
   ],
   "source": [
    "target_per"
   ]
  },
  {
   "cell_type": "code",
   "execution_count": 52,
   "id": "5ed66cd6",
   "metadata": {},
   "outputs": [
    {
     "data": {
      "text/plain": [
       "<matplotlib.legend.Legend at 0x25bd2011f10>"
      ]
     },
     "execution_count": 52,
     "metadata": {},
     "output_type": "execute_result"
    },
    {
     "data": {
      "image/png": "[encoded data removed]",
      "text/plain": [
       "<Figure size 576x576 with 1 Axes>"
      ]
     },
     "metadata": {},
     "output_type": "display_data"
    }
   ],
   "source": [
    "plt.rcParams['axes.labelsize'] = 15\n",
    "plt.rcParams['xtick.labelsize'] = 11\n",
    "plt.rcParams['ytick.labelsize'] = 11\n",
    "plt.rcParams['font.size'] = 22\n",
    "plt.figure(figsize=(8, 8))\n",
    "\n",
    "plt.pie(x = target_per[\"Addiction\"], startangle=45, autopct='%.1f%%', pctdistance = 1.18)\n",
    "\n",
    "plt.title('Target Composition', fontsize=18)\n",
    "plt.legend(labels=target_per.index.sort_values(), loc='upper right', prop={'size': 20},\\\n",
    "bbox_to_anchor=(1.5, 0.7))"
   ]
  },
  {
   "cell_type": "markdown",
   "id": "6bebf7c4",
   "metadata": {},
   "source": [
    "# Univariate"
   ]
  },
  {
   "cell_type": "markdown",
   "id": "423646c9",
   "metadata": {},
   "source": [
    "## Age"
   ]
  },
  {
   "cell_type": "code",
   "execution_count": 53,
   "id": "45c2137e",
   "metadata": {},
   "outputs": [
    {
     "data": {
      "text/plain": [
       "Text(0, 0.5, 'Age')"
      ]
     },
     "execution_count": 53,
     "metadata": {},
     "output_type": "execute_result"
    },
    {
     "data": {
      "image/png": "[encoded data removed]",
      "text/plain": [
       "<Figure size 720x504 with 1 Axes>"
      ]
     },
     "metadata": {
      "needs_background": "light"
     },
     "output_type": "display_data"
    }
   ],
   "source": [
    "# Boxplot Age\n",
    "\n",
    "plt.rcParams['axes.labelsize'] = 20\n",
    "plt.rcParams['xtick.labelsize'] = 20\n",
    "plt.rcParams['ytick.labelsize'] = 18\n",
    "plt.rcParams['font.size'] = 26\n",
    "plt.figure(figsize=(10, 7))\n",
    "\n",
    "plt.title('Age', fontsize=20)\n",
    "\n",
    "sns.boxplot(y ='Age', data = df)\n",
    "\n",
    "plt.ylabel('Age')"
   ]
  },
  {
   "cell_type": "code",
   "execution_count": 54,
   "id": "615c54ca",
   "metadata": {},
   "outputs": [
    {
     "data": {
      "text/plain": [
       "Text(0, 0.5, 'Age')"
      ]
     },
     "execution_count": 54,
     "metadata": {},
     "output_type": "execute_result"
    },
    {
     "data": {
      "image/png": "[encoded data removed]",
      "text/plain": [
       "<Figure size 720x504 with 1 Axes>"
      ]
     },
     "metadata": {
      "needs_background": "light"
     },
     "output_type": "display_data"
    }
   ],
   "source": [
    "# Boxplot Age vs Target\n",
    "\n",
    "plt.rcParams['axes.labelsize'] = 20\n",
    "plt.rcParams['xtick.labelsize'] = 20\n",
    "plt.rcParams['ytick.labelsize'] = 18\n",
    "plt.rcParams['font.size'] = 26\n",
    "plt.figure(figsize=(10, 7))\n",
    "\n",
    "plt.title('Age and Addiction', fontsize=20)\n",
    "\n",
    "sns.boxplot(x = \"Addiction\", y ='Age', data = df)\n",
    "\n",
    "plt.ylabel('Age')"
   ]
  },
  {
   "cell_type": "markdown",
   "id": "0a525238",
   "metadata": {},
   "source": [
    "## Gender"
   ]
  },
  {
   "cell_type": "code",
   "execution_count": 55,
   "id": "48699b46",
   "metadata": {},
   "outputs": [
    {
     "data": {
      "text/plain": [
       "Text(0, 0.5, 'Gender')"
      ]
     },
     "execution_count": 55,
     "metadata": {},
     "output_type": "execute_result"
    },
    {
     "data": {
      "image/png": "[encoded data removed]",
      "text/plain": [
       "<Figure size 720x504 with 1 Axes>"
      ]
     },
     "metadata": {
      "needs_background": "light"
     },
     "output_type": "display_data"
    }
   ],
   "source": [
    "# Boxplot Age\n",
    "\n",
    "plt.rcParams['axes.labelsize'] = 20\n",
    "plt.rcParams['xtick.labelsize'] = 20\n",
    "plt.rcParams['ytick.labelsize'] = 18\n",
    "plt.rcParams['font.size'] = 26\n",
    "plt.figure(figsize=(10, 7))\n",
    "\n",
    "plt.title('Gender', fontsize=20)\n",
    "\n",
    "sns.boxplot(y ='Gender', data = df)\n",
    "\n",
    "plt.ylabel('Gender')"
   ]
  },
  {
   "cell_type": "code",
   "execution_count": 56,
   "id": "90c8eb55",
   "metadata": {},
   "outputs": [
    {
     "data": {
      "text/plain": [
       "Text(0, 0.5, 'Gender')"
      ]
     },
     "execution_count": 56,
     "metadata": {},
     "output_type": "execute_result"
    },
    {
     "data": {
      "image/png": "[encoded data removed]",
      "text/plain": [
       "<Figure size 720x504 with 1 Axes>"
      ]
     },
     "metadata": {
      "needs_background": "light"
     },
     "output_type": "display_data"
    }
   ],
   "source": [
    "# Boxplot Age vs Target\n",
    "\n",
    "plt.rcParams['axes.labelsize'] = 20\n",
    "plt.rcParams['xtick.labelsize'] = 20\n",
    "plt.rcParams['ytick.labelsize'] = 18\n",
    "plt.rcParams['font.size'] = 26\n",
    "plt.figure(figsize=(10, 7))\n",
    "\n",
    "plt.title('Gender and Addiction', fontsize=20)\n",
    "\n",
    "sns.boxplot(x = \"Addiction\", y ='Gender', data = df)\n",
    "\n",
    "plt.ylabel('Gender')"
   ]
  },
  {
   "cell_type": "markdown",
   "id": "a3d83ddd",
   "metadata": {},
   "source": [
    "## Education"
   ]
  },
  {
   "cell_type": "code",
   "execution_count": 57,
   "id": "edd4bc95",
   "metadata": {},
   "outputs": [
    {
     "data": {
      "text/plain": [
       "Text(0, 0.5, 'Education')"
      ]
     },
     "execution_count": 57,
     "metadata": {},
     "output_type": "execute_result"
    },
    {
     "data": {
      "image/png": "[encoded data removed]",
      "text/plain": [
       "<Figure size 720x504 with 1 Axes>"
      ]
     },
     "metadata": {
      "needs_background": "light"
     },
     "output_type": "display_data"
    }
   ],
   "source": [
    "# Boxplot Education\n",
    "\n",
    "plt.rcParams['axes.labelsize'] = 20\n",
    "plt.rcParams['xtick.labelsize'] = 20\n",
    "plt.rcParams['ytick.labelsize'] = 18\n",
    "plt.rcParams['font.size'] = 26\n",
    "plt.figure(figsize=(10, 7))\n",
    "\n",
    "plt.title('Education', fontsize=20)\n",
    "\n",
    "sns.boxplot(y ='Education', data = df)\n",
    "\n",
    "plt.ylabel('Education')"
   ]
  },
  {
   "cell_type": "code",
   "execution_count": 58,
   "id": "4031047a",
   "metadata": {},
   "outputs": [
    {
     "data": {
      "text/plain": [
       "Text(0, 0.5, 'Education')"
      ]
     },
     "execution_count": 58,
     "metadata": {},
     "output_type": "execute_result"
    },
    {
     "data": {
      "image/png": "[encoded data removed]",
      "text/plain": [
       "<Figure size 720x504 with 1 Axes>"
      ]
     },
     "metadata": {
      "needs_background": "light"
     },
     "output_type": "display_data"
    }
   ],
   "source": [
    "# Boxplot Education vs Target\n",
    "\n",
    "plt.rcParams['axes.labelsize'] = 20\n",
    "plt.rcParams['xtick.labelsize'] = 20\n",
    "plt.rcParams['ytick.labelsize'] = 18\n",
    "plt.rcParams['font.size'] = 26\n",
    "plt.figure(figsize=(10, 7))\n",
    "\n",
    "plt.title('Education and Addiction', fontsize=20)\n",
    "\n",
    "sns.boxplot(x = \"Addiction\", y ='Education', data = df)\n",
    "\n",
    "plt.ylabel('Education')"
   ]
  },
  {
   "cell_type": "markdown",
   "id": "ae7ca8f2",
   "metadata": {},
   "source": [
    "## Ethnicity"
   ]
  },
  {
   "cell_type": "code",
   "execution_count": 59,
   "id": "0fe3e14a",
   "metadata": {},
   "outputs": [
    {
     "data": {
      "text/plain": [
       "Text(0, 0.5, 'Ethnicity')"
      ]
     },
     "execution_count": 59,
     "metadata": {},
     "output_type": "execute_result"
    },
    {
     "data": {
      "image/png": "[encoded data removed]",
      "text/plain": [
       "<Figure size 720x504 with 1 Axes>"
      ]
     },
     "metadata": {
      "needs_background": "light"
     },
     "output_type": "display_data"
    }
   ],
   "source": [
    "# Boxplot Education\n",
    "\n",
    "plt.rcParams['axes.labelsize'] = 20\n",
    "plt.rcParams['xtick.labelsize'] = 20\n",
    "plt.rcParams['ytick.labelsize'] = 18\n",
    "plt.rcParams['font.size'] = 26\n",
    "plt.figure(figsize=(10, 7))\n",
    "\n",
    "plt.title('Ethnicity', fontsize=20)\n",
    "\n",
    "sns.boxplot(y ='Ethnicity', data = df, showfliers = False)\n",
    "\n",
    "plt.ylabel('Ethnicity')"
   ]
  },
  {
   "cell_type": "code",
   "execution_count": 60,
   "id": "c52ee961",
   "metadata": {},
   "outputs": [
    {
     "data": {
      "text/plain": [
       "Text(0, 0.5, 'Ethnicity')"
      ]
     },
     "execution_count": 60,
     "metadata": {},
     "output_type": "execute_result"
    },
    {
     "data": {
      "image/png": "[encoded data removed]",
      "text/plain": [
       "<Figure size 720x504 with 1 Axes>"
      ]
     },
     "metadata": {
      "needs_background": "light"
     },
     "output_type": "display_data"
    }
   ],
   "source": [
    "# Boxplot Education vs Target\n",
    "\n",
    "plt.rcParams['axes.labelsize'] = 20\n",
    "plt.rcParams['xtick.labelsize'] = 20\n",
    "plt.rcParams['ytick.labelsize'] = 18\n",
    "plt.rcParams['font.size'] = 26\n",
    "plt.figure(figsize=(10, 7))\n",
    "\n",
    "plt.title('Ethnicity and Addiction', fontsize=20)\n",
    "\n",
    "sns.boxplot(x = \"Addiction\", y ='Ethnicity', data = df, showfliers = False)\n",
    "\n",
    "plt.ylabel('Ethnicity')"
   ]
  },
  {
   "cell_type": "markdown",
   "id": "6f966436",
   "metadata": {},
   "source": [
    "## NScore"
   ]
  },
  {
   "cell_type": "markdown",
   "id": "500316ec",
   "metadata": {},
   "source": [
    "Neurotism level"
   ]
  },
  {
   "cell_type": "code",
   "execution_count": 61,
   "id": "b44dd8e5",
   "metadata": {},
   "outputs": [
    {
     "data": {
      "text/plain": [
       "Text(0, 0.5, 'Nscore')"
      ]
     },
     "execution_count": 61,
     "metadata": {},
     "output_type": "execute_result"
    },
    {
     "data": {
      "image/png": "[encoded data removed]",
      "text/plain": [
       "<Figure size 720x504 with 1 Axes>"
      ]
     },
     "metadata": {
      "needs_background": "light"
     },
     "output_type": "display_data"
    }
   ],
   "source": [
    "# Boxplot NScore\n",
    "\n",
    "plt.rcParams['axes.labelsize'] = 20\n",
    "plt.rcParams['xtick.labelsize'] = 20\n",
    "plt.rcParams['ytick.labelsize'] = 18\n",
    "plt.rcParams['font.size'] = 26\n",
    "plt.figure(figsize=(10, 7))\n",
    "\n",
    "plt.title('Nscore', fontsize=20)\n",
    "\n",
    "sns.boxplot(y ='Nscore', data = df)\n",
    "\n",
    "plt.ylabel('Nscore')"
   ]
  },
  {
   "cell_type": "code",
   "execution_count": 62,
   "id": "782db7c2",
   "metadata": {},
   "outputs": [
    {
     "data": {
      "text/plain": [
       "Text(0, 0.5, 'Nscore')"
      ]
     },
     "execution_count": 62,
     "metadata": {},
     "output_type": "execute_result"
    },
    {
     "data": {
      "image/png": "[encoded data removed]",
      "text/plain": [
       "<Figure size 720x504 with 1 Axes>"
      ]
     },
     "metadata": {
      "needs_background": "light"
     },
     "output_type": "display_data"
    }
   ],
   "source": [
    "# Boxplot NScore vs Target\n",
    "\n",
    "plt.rcParams['axes.labelsize'] = 20\n",
    "plt.rcParams['xtick.labelsize'] = 20\n",
    "plt.rcParams['ytick.labelsize'] = 18\n",
    "plt.rcParams['font.size'] = 26\n",
    "plt.figure(figsize=(10, 7))\n",
    "\n",
    "plt.title('Nscore and Addiction', fontsize=20)\n",
    "\n",
    "sns.boxplot(x = \"Addiction\", y ='Nscore', data = df)\n",
    "\n",
    "plt.ylabel('Nscore')"
   ]
  },
  {
   "cell_type": "markdown",
   "id": "080084bf",
   "metadata": {},
   "source": [
    "# Escore"
   ]
  },
  {
   "cell_type": "markdown",
   "id": "a3e0a339",
   "metadata": {},
   "source": [
    "Extraversion level"
   ]
  },
  {
   "cell_type": "code",
   "execution_count": 63,
   "id": "e82850c0",
   "metadata": {},
   "outputs": [
    {
     "data": {
      "text/plain": [
       "Text(0, 0.5, 'Escore')"
      ]
     },
     "execution_count": 63,
     "metadata": {},
     "output_type": "execute_result"
    },
    {
     "data": {
      "image/png": "[encoded data removed]",
      "text/plain": [
       "<Figure size 720x504 with 1 Axes>"
      ]
     },
     "metadata": {
      "needs_background": "light"
     },
     "output_type": "display_data"
    }
   ],
   "source": [
    "# Boxplot Escore\n",
    "\n",
    "plt.rcParams['axes.labelsize'] = 20\n",
    "plt.rcParams['xtick.labelsize'] = 20\n",
    "plt.rcParams['ytick.labelsize'] = 18\n",
    "plt.rcParams['font.size'] = 26\n",
    "plt.figure(figsize=(10, 7))\n",
    "\n",
    "plt.title('Escore', fontsize=20)\n",
    "\n",
    "sns.boxplot(y ='Escore', data = df)\n",
    "\n",
    "plt.ylabel('Escore')"
   ]
  },
  {
   "cell_type": "code",
   "execution_count": 64,
   "id": "4feb20d9",
   "metadata": {},
   "outputs": [
    {
     "data": {
      "text/plain": [
       "Text(0, 0.5, 'Escore')"
      ]
     },
     "execution_count": 64,
     "metadata": {},
     "output_type": "execute_result"
    },
    {
     "data": {
      "image/png": "[encoded data removed]",
      "text/plain": [
       "<Figure size 720x504 with 1 Axes>"
      ]
     },
     "metadata": {
      "needs_background": "light"
     },
     "output_type": "display_data"
    }
   ],
   "source": [
    "# Boxplot Escore vs Target\n",
    "\n",
    "plt.rcParams['axes.labelsize'] = 20\n",
    "plt.rcParams['xtick.labelsize'] = 20\n",
    "plt.rcParams['ytick.labelsize'] = 18\n",
    "plt.rcParams['font.size'] = 26\n",
    "plt.figure(figsize=(10, 7))\n",
    "\n",
    "plt.title('Escore and Addiction', fontsize=20)\n",
    "\n",
    "sns.boxplot(x = \"Addiction\", y ='Escore', data = df)\n",
    "\n",
    "plt.ylabel('Escore')"
   ]
  },
  {
   "cell_type": "markdown",
   "id": "3f6cf52c",
   "metadata": {},
   "source": [
    "# Oscore"
   ]
  },
  {
   "cell_type": "markdown",
   "id": "fb82dfd0",
   "metadata": {},
   "source": [
    "Open minded level"
   ]
  },
  {
   "cell_type": "code",
   "execution_count": 65,
   "id": "0b1b4b26",
   "metadata": {},
   "outputs": [
    {
     "data": {
      "text/plain": [
       "Text(0, 0.5, 'Oscore')"
      ]
     },
     "execution_count": 65,
     "metadata": {},
     "output_type": "execute_result"
    },
    {
     "data": {
      "image/png": "[encoded data removed]",
      "text/plain": [
       "<Figure size 720x504 with 1 Axes>"
      ]
     },
     "metadata": {
      "needs_background": "light"
     },
     "output_type": "display_data"
    }
   ],
   "source": [
    "# Boxplot Oscore\n",
    "\n",
    "plt.rcParams['axes.labelsize'] = 20\n",
    "plt.rcParams['xtick.labelsize'] = 20\n",
    "plt.rcParams['ytick.labelsize'] = 18\n",
    "plt.rcParams['font.size'] = 26\n",
    "plt.figure(figsize=(10, 7))\n",
    "\n",
    "plt.title('Oscore', fontsize=20)\n",
    "\n",
    "sns.boxplot(y ='Oscore', data = df)\n",
    "\n",
    "plt.ylabel('Oscore')"
   ]
  },
  {
   "cell_type": "code",
   "execution_count": 66,
   "id": "3ff636de",
   "metadata": {},
   "outputs": [
    {
     "data": {
      "text/plain": [
       "Text(0, 0.5, 'Oscore')"
      ]
     },
     "execution_count": 66,
     "metadata": {},
     "output_type": "execute_result"
    },
    {
     "data": {
      "image/png": "[encoded data removed]",
      "text/plain": [
       "<Figure size 720x504 with 1 Axes>"
      ]
     },
     "metadata": {
      "needs_background": "light"
     },
     "output_type": "display_data"
    }
   ],
   "source": [
    "# Boxplot Oscore vs Target\n",
    "\n",
    "plt.rcParams['axes.labelsize'] = 20\n",
    "plt.rcParams['xtick.labelsize'] = 20\n",
    "plt.rcParams['ytick.labelsize'] = 18\n",
    "plt.rcParams['font.size'] = 26\n",
    "plt.figure(figsize=(10, 7))\n",
    "\n",
    "plt.title('Oscore and Addiction', fontsize=20)\n",
    "\n",
    "sns.boxplot(x = \"Addiction\", y ='Oscore', data = df)\n",
    "\n",
    "plt.ylabel('Oscore')"
   ]
  },
  {
   "cell_type": "markdown",
   "id": "261197b0",
   "metadata": {},
   "source": [
    "## Ascore"
   ]
  },
  {
   "cell_type": "markdown",
   "id": "54553b47",
   "metadata": {},
   "source": [
    "Agreability level"
   ]
  },
  {
   "cell_type": "code",
   "execution_count": 67,
   "id": "a1f4e4fc",
   "metadata": {},
   "outputs": [
    {
     "data": {
      "text/plain": [
       "Text(0, 0.5, 'Ascore')"
      ]
     },
     "execution_count": 67,
     "metadata": {},
     "output_type": "execute_result"
    },
    {
     "data": {
      "image/png": "[encoded data removed]",
      "text/plain": [
       "<Figure size 720x504 with 1 Axes>"
      ]
     },
     "metadata": {
      "needs_background": "light"
     },
     "output_type": "display_data"
    }
   ],
   "source": [
    "# Boxplot Ascore\n",
    "\n",
    "plt.rcParams['axes.labelsize'] = 20\n",
    "plt.rcParams['xtick.labelsize'] = 20\n",
    "plt.rcParams['ytick.labelsize'] = 18\n",
    "plt.rcParams['font.size'] = 26\n",
    "plt.figure(figsize=(10, 7))\n",
    "\n",
    "plt.title('Ascore', fontsize=20)\n",
    "\n",
    "sns.boxplot(y ='Ascore', data = df)\n",
    "\n",
    "plt.ylabel('Ascore')"
   ]
  },
  {
   "cell_type": "code",
   "execution_count": 68,
   "id": "5c4778c7",
   "metadata": {},
   "outputs": [
    {
     "data": {
      "text/plain": [
       "Text(0, 0.5, 'Ascore')"
      ]
     },
     "execution_count": 68,
     "metadata": {},
     "output_type": "execute_result"
    },
    {
     "data": {
      "image/png": "[encoded data removed]",
      "text/plain": [
       "<Figure size 720x504 with 1 Axes>"
      ]
     },
     "metadata": {
      "needs_background": "light"
     },
     "output_type": "display_data"
    }
   ],
   "source": [
    "# Boxplot Oscore vs Target\n",
    "\n",
    "plt.rcParams['axes.labelsize'] = 20\n",
    "plt.rcParams['xtick.labelsize'] = 20\n",
    "plt.rcParams['ytick.labelsize'] = 18\n",
    "plt.rcParams['font.size'] = 26\n",
    "plt.figure(figsize=(10, 7))\n",
    "\n",
    "plt.title('Ascore and Addiction', fontsize=20)\n",
    "\n",
    "sns.boxplot(x = \"Addiction\", y ='Ascore', data = df)\n",
    "\n",
    "plt.ylabel('Ascore')"
   ]
  },
  {
   "cell_type": "markdown",
   "id": "cb6e985c",
   "metadata": {},
   "source": [
    "## Cscore"
   ]
  },
  {
   "cell_type": "markdown",
   "id": "fe2898f3",
   "metadata": {},
   "source": [
    "Niveau de conscience"
   ]
  },
  {
   "cell_type": "code",
   "execution_count": 69,
   "id": "5d33525c",
   "metadata": {},
   "outputs": [
    {
     "data": {
      "text/plain": [
       "Text(0, 0.5, 'Cscore')"
      ]
     },
     "execution_count": 69,
     "metadata": {},
     "output_type": "execute_result"
    },
    {
     "data": {
      "image/png": "[encoded data removed]",
      "text/plain": [
       "<Figure size 720x504 with 1 Axes>"
      ]
     },
     "metadata": {
      "needs_background": "light"
     },
     "output_type": "display_data"
    }
   ],
   "source": [
    "# Boxplot Cscore\n",
    "\n",
    "plt.rcParams['axes.labelsize'] = 20\n",
    "plt.rcParams['xtick.labelsize'] = 20\n",
    "plt.rcParams['ytick.labelsize'] = 18\n",
    "plt.rcParams['font.size'] = 26\n",
    "plt.figure(figsize=(10, 7))\n",
    "\n",
    "plt.title('Cscore', fontsize=20)\n",
    "\n",
    "sns.boxplot(y ='Cscore', data = df)\n",
    "\n",
    "plt.ylabel('Cscore')"
   ]
  },
  {
   "cell_type": "code",
   "execution_count": 70,
   "id": "e1f60a50",
   "metadata": {},
   "outputs": [
    {
     "data": {
      "text/plain": [
       "Text(0, 0.5, 'Cscore')"
      ]
     },
     "execution_count": 70,
     "metadata": {},
     "output_type": "execute_result"
    },
    {
     "data": {
      "image/png": "[encoded data removed]",
      "text/plain": [
       "<Figure size 720x504 with 1 Axes>"
      ]
     },
     "metadata": {
      "needs_background": "light"
     },
     "output_type": "display_data"
    }
   ],
   "source": [
    "# Boxplot Oscore vs Target\n",
    "\n",
    "plt.rcParams['axes.labelsize'] = 20\n",
    "plt.rcParams['xtick.labelsize'] = 20\n",
    "plt.rcParams['ytick.labelsize'] = 18\n",
    "plt.rcParams['font.size'] = 26\n",
    "plt.figure(figsize=(10, 7))\n",
    "\n",
    "plt.title('Cscore and Addiction', fontsize=20)\n",
    "\n",
    "sns.boxplot(x = \"Addiction\", y ='Cscore', data = df)\n",
    "\n",
    "plt.ylabel('Cscore')"
   ]
  },
  {
   "cell_type": "markdown",
   "id": "32d569e8",
   "metadata": {},
   "source": [
    "## Impulsive"
   ]
  },
  {
   "cell_type": "code",
   "execution_count": 71,
   "id": "bbf76276",
   "metadata": {},
   "outputs": [
    {
     "data": {
      "text/plain": [
       "Text(0, 0.5, 'Impulsive')"
      ]
     },
     "execution_count": 71,
     "metadata": {},
     "output_type": "execute_result"
    },
    {
     "data": {
      "image/png": "[encoded data removed]",
      "text/plain": [
       "<Figure size 720x504 with 1 Axes>"
      ]
     },
     "metadata": {
      "needs_background": "light"
     },
     "output_type": "display_data"
    }
   ],
   "source": [
    "# Boxplot Impulsive\n",
    "\n",
    "plt.rcParams['axes.labelsize'] = 20\n",
    "plt.rcParams['xtick.labelsize'] = 20\n",
    "plt.rcParams['ytick.labelsize'] = 18\n",
    "plt.rcParams['font.size'] = 26\n",
    "plt.figure(figsize=(10, 7))\n",
    "\n",
    "plt.title('Impulsive', fontsize=20)\n",
    "\n",
    "sns.boxplot(y ='Impulsive', data = df)\n",
    "\n",
    "plt.ylabel('Impulsive')"
   ]
  },
  {
   "cell_type": "code",
   "execution_count": 72,
   "id": "688e6443",
   "metadata": {},
   "outputs": [
    {
     "data": {
      "text/plain": [
       "Text(0, 0.5, 'Impulsive')"
      ]
     },
     "execution_count": 72,
     "metadata": {},
     "output_type": "execute_result"
    },
    {
     "data": {
      "image/png": "[encoded data removed]",
      "text/plain": [
       "<Figure size 720x504 with 1 Axes>"
      ]
     },
     "metadata": {
      "needs_background": "light"
     },
     "output_type": "display_data"
    }
   ],
   "source": [
    "# Boxplot Impulsive vs Target\n",
    "\n",
    "plt.rcParams['axes.labelsize'] = 20\n",
    "plt.rcParams['xtick.labelsize'] = 20\n",
    "plt.rcParams['ytick.labelsize'] = 18\n",
    "plt.rcParams['font.size'] = 26\n",
    "plt.figure(figsize=(10, 7))\n",
    "\n",
    "plt.title('Impulsive and Addiction', fontsize=20)\n",
    "\n",
    "sns.boxplot(x = \"Addiction\", y ='Impulsive', data = df)\n",
    "\n",
    "plt.ylabel('Impulsive')"
   ]
  },
  {
   "cell_type": "markdown",
   "id": "f42e12c3",
   "metadata": {},
   "source": [
    "## SS"
   ]
  },
  {
   "cell_type": "code",
   "execution_count": 73,
   "id": "120411d5",
   "metadata": {},
   "outputs": [
    {
     "data": {
      "text/plain": [
       "Text(0, 0.5, 'SS')"
      ]
     },
     "execution_count": 73,
     "metadata": {},
     "output_type": "execute_result"
    },
    {
     "data": {
      "image/png": "[encoded data removed]",
      "text/plain": [
       "<Figure size 720x504 with 1 Axes>"
      ]
     },
     "metadata": {
      "needs_background": "light"
     },
     "output_type": "display_data"
    }
   ],
   "source": [
    "# Boxplot SS\n",
    "\n",
    "plt.rcParams['axes.labelsize'] = 20\n",
    "plt.rcParams['xtick.labelsize'] = 20\n",
    "plt.rcParams['ytick.labelsize'] = 18\n",
    "plt.rcParams['font.size'] = 26\n",
    "plt.figure(figsize=(10, 7))\n",
    "\n",
    "plt.title('SS', fontsize=20)\n",
    "\n",
    "sns.boxplot(y ='SS', data = df)\n",
    "\n",
    "plt.ylabel('SS')"
   ]
  },
  {
   "cell_type": "code",
   "execution_count": 74,
   "id": "17f35a61",
   "metadata": {},
   "outputs": [
    {
     "data": {
      "text/plain": [
       "Text(0, 0.5, 'Impulsive')"
      ]
     },
     "execution_count": 74,
     "metadata": {},
     "output_type": "execute_result"
    },
    {
     "data": {
      "image/png": "[encoded data removed]",
      "text/plain": [
       "<Figure size 720x504 with 1 Axes>"
      ]
     },
     "metadata": {
      "needs_background": "light"
     },
     "output_type": "display_data"
    }
   ],
   "source": [
    "# Boxplot SS vs Target\n",
    "\n",
    "plt.rcParams['axes.labelsize'] = 20\n",
    "plt.rcParams['xtick.labelsize'] = 20\n",
    "plt.rcParams['ytick.labelsize'] = 18\n",
    "plt.rcParams['font.size'] = 26\n",
    "plt.figure(figsize=(10, 7))\n",
    "\n",
    "plt.title('Impulsive and Addiction', fontsize=20)\n",
    "\n",
    "sns.boxplot(x = \"Addiction\", y ='Impulsive', data = df)\n",
    "\n",
    "plt.ylabel('Impulsive')"
   ]
  },
  {
   "cell_type": "markdown",
   "id": "48127057",
   "metadata": {},
   "source": [
    "## Semer"
   ]
  },
  {
   "cell_type": "code",
   "execution_count": 75,
   "id": "7f29e898",
   "metadata": {},
   "outputs": [
    {
     "data": {
      "text/plain": [
       "0    1879\n",
       "1       6\n",
       "Name: Semer, dtype: int64"
      ]
     },
     "execution_count": 75,
     "metadata": {},
     "output_type": "execute_result"
    }
   ],
   "source": [
    "df[\"Semer\"].value_counts()"
   ]
  },
  {
   "cell_type": "code",
   "execution_count": 76,
   "id": "294d4bce",
   "metadata": {},
   "outputs": [
    {
     "data": {
      "text/plain": [
       "0    523\n",
       "1      2\n",
       "Name: Semer, dtype: int64"
      ]
     },
     "execution_count": 76,
     "metadata": {},
     "output_type": "execute_result"
    }
   ],
   "source": [
    "df[df[\"Addiction\"] == 1][\"Semer\"].value_counts()"
   ]
  },
  {
   "cell_type": "code",
   "execution_count": 77,
   "id": "4cd5600c",
   "metadata": {},
   "outputs": [
    {
     "data": {
      "text/plain": [
       "0    846\n",
       "Name: Semer, dtype: int64"
      ]
     },
     "execution_count": 77,
     "metadata": {},
     "output_type": "execute_result"
    }
   ],
   "source": [
    "df[df[\"Addiction\"] == 0][\"Semer\"].value_counts()"
   ]
  },
  {
   "cell_type": "code",
   "execution_count": 79,
   "id": "93310bf2",
   "metadata": {},
   "outputs": [
    {
     "data": {
      "text/plain": [
       "0    510\n",
       "1      4\n",
       "Name: Semer, dtype: int64"
      ]
     },
     "execution_count": 79,
     "metadata": {},
     "output_type": "execute_result"
    }
   ],
   "source": [
    "df[df[\"Addiction\"] == 2][\"Semer\"].value_counts()"
   ]
  },
  {
   "cell_type": "markdown",
   "id": "43e3f4b8",
   "metadata": {},
   "source": [
    "## Alcohol"
   ]
  },
  {
   "cell_type": "code",
   "execution_count": 92,
   "id": "0e8f10f0",
   "metadata": {},
   "outputs": [
    {
     "data": {
      "text/plain": [
       "1    1817\n",
       "0      68\n",
       "Name: Alcohol, dtype: int64"
      ]
     },
     "execution_count": 92,
     "metadata": {},
     "output_type": "execute_result"
    }
   ],
   "source": [
    "df[\"Alcohol\"].value_counts()"
   ]
  },
  {
   "cell_type": "code",
   "execution_count": 93,
   "id": "54b18c86",
   "metadata": {},
   "outputs": [
    {
     "data": {
      "text/plain": [
       "1    799\n",
       "0     47\n",
       "Name: Alcohol, dtype: int64"
      ]
     },
     "execution_count": 93,
     "metadata": {},
     "output_type": "execute_result"
    }
   ],
   "source": [
    "df[df[\"Addiction\"] == 0][\"Alcohol\"].value_counts()"
   ]
  },
  {
   "cell_type": "code",
   "execution_count": 94,
   "id": "442baf4c",
   "metadata": {},
   "outputs": [
    {
     "data": {
      "text/plain": [
       "1    514\n",
       "0     11\n",
       "Name: Alcohol, dtype: int64"
      ]
     },
     "execution_count": 94,
     "metadata": {},
     "output_type": "execute_result"
    }
   ],
   "source": [
    "df[df[\"Addiction\"] == 1][\"Alcohol\"].value_counts()"
   ]
  },
  {
   "cell_type": "code",
   "execution_count": 95,
   "id": "08a84ebf",
   "metadata": {},
   "outputs": [
    {
     "data": {
      "text/plain": [
       "1    504\n",
       "0     10\n",
       "Name: Alcohol, dtype: int64"
      ]
     },
     "execution_count": 95,
     "metadata": {},
     "output_type": "execute_result"
    }
   ],
   "source": [
    "df[df[\"Addiction\"] == 2][\"Alcohol\"].value_counts()"
   ]
  },
  {
   "cell_type": "markdown",
   "id": "f3214ee4",
   "metadata": {},
   "source": [
    "## Amphet"
   ]
  },
  {
   "cell_type": "code",
   "execution_count": 96,
   "id": "d0eac3ea",
   "metadata": {},
   "outputs": [
    {
     "data": {
      "text/plain": [
       "0    1206\n",
       "1     679\n",
       "Name: Amphet, dtype: int64"
      ]
     },
     "execution_count": 96,
     "metadata": {},
     "output_type": "execute_result"
    }
   ],
   "source": [
    "df[\"Amphet\"].value_counts()"
   ]
  },
  {
   "cell_type": "code",
   "execution_count": 97,
   "id": "806c6607",
   "metadata": {},
   "outputs": [
    {
     "data": {
      "text/plain": [
       "0    787\n",
       "1     59\n",
       "Name: Amphet, dtype: int64"
      ]
     },
     "execution_count": 97,
     "metadata": {},
     "output_type": "execute_result"
    }
   ],
   "source": [
    "df[df[\"Addiction\"] == 0][\"Amphet\"].value_counts()"
   ]
  },
  {
   "cell_type": "code",
   "execution_count": 98,
   "id": "ac5fe9e0",
   "metadata": {},
   "outputs": [
    {
     "data": {
      "text/plain": [
       "1    308\n",
       "0    217\n",
       "Name: Amphet, dtype: int64"
      ]
     },
     "execution_count": 98,
     "metadata": {},
     "output_type": "execute_result"
    }
   ],
   "source": [
    "df[df[\"Addiction\"] == 1][\"Amphet\"].value_counts()"
   ]
  },
  {
   "cell_type": "code",
   "execution_count": 91,
   "id": "01a33a4f",
   "metadata": {},
   "outputs": [
    {
     "data": {
      "text/plain": [
       "1    312\n",
       "0    202\n",
       "Name: Amphet, dtype: int64"
      ]
     },
     "execution_count": 91,
     "metadata": {},
     "output_type": "execute_result"
    }
   ],
   "source": [
    "df[df[\"Addiction\"] == 2][\"Amphet\"].value_counts()"
   ]
  },
  {
   "cell_type": "markdown",
   "id": "f782aec1",
   "metadata": {},
   "source": [
    "## Amyl"
   ]
  },
  {
   "cell_type": "code",
   "execution_count": 99,
   "id": "e42d04c3",
   "metadata": {},
   "outputs": [
    {
     "data": {
      "text/plain": [
       "0    1515\n",
       "1     370\n",
       "Name: Amyl, dtype: int64"
      ]
     },
     "execution_count": 99,
     "metadata": {},
     "output_type": "execute_result"
    }
   ],
   "source": [
    "df[\"Amyl\"].value_counts()"
   ]
  },
  {
   "cell_type": "code",
   "execution_count": 100,
   "id": "2750a395",
   "metadata": {},
   "outputs": [
    {
     "data": {
      "text/plain": [
       "0    789\n",
       "1     57\n",
       "Name: Amyl, dtype: int64"
      ]
     },
     "execution_count": 100,
     "metadata": {},
     "output_type": "execute_result"
    }
   ],
   "source": [
    "df[df[\"Addiction\"] == 0][\"Amyl\"].value_counts()"
   ]
  },
  {
   "cell_type": "code",
   "execution_count": 101,
   "id": "4d1c82b5",
   "metadata": {},
   "outputs": [
    {
     "data": {
      "text/plain": [
       "0    381\n",
       "1    144\n",
       "Name: Amyl, dtype: int64"
      ]
     },
     "execution_count": 101,
     "metadata": {},
     "output_type": "execute_result"
    }
   ],
   "source": [
    "df[df[\"Addiction\"] == 1][\"Amyl\"].value_counts()"
   ]
  },
  {
   "cell_type": "code",
   "execution_count": 102,
   "id": "ca0c199d",
   "metadata": {},
   "outputs": [
    {
     "data": {
      "text/plain": [
       "0    345\n",
       "1    169\n",
       "Name: Amyl, dtype: int64"
      ]
     },
     "execution_count": 102,
     "metadata": {},
     "output_type": "execute_result"
    }
   ],
   "source": [
    "df[df[\"Addiction\"] == 2][\"Amyl\"].value_counts()"
   ]
  },
  {
   "cell_type": "markdown",
   "id": "648f9f48",
   "metadata": {},
   "source": [
    "## Benzos"
   ]
  },
  {
   "cell_type": "code",
   "execution_count": 103,
   "id": "5f13557b",
   "metadata": {},
   "outputs": [
    {
     "data": {
      "text/plain": [
       "0    1116\n",
       "1     769\n",
       "Name: Benzos, dtype: int64"
      ]
     },
     "execution_count": 103,
     "metadata": {},
     "output_type": "execute_result"
    }
   ],
   "source": [
    "df[\"Benzos\"].value_counts()"
   ]
  },
  {
   "cell_type": "code",
   "execution_count": 104,
   "id": "e18767cd",
   "metadata": {},
   "outputs": [
    {
     "data": {
      "text/plain": [
       "0    689\n",
       "1    157\n",
       "Name: Benzos, dtype: int64"
      ]
     },
     "execution_count": 104,
     "metadata": {},
     "output_type": "execute_result"
    }
   ],
   "source": [
    "df[df[\"Addiction\"] == 0][\"Benzos\"].value_counts()"
   ]
  },
  {
   "cell_type": "code",
   "execution_count": 105,
   "id": "e6ab4e24",
   "metadata": {},
   "outputs": [
    {
     "data": {
      "text/plain": [
       "1    334\n",
       "0    191\n",
       "Name: Benzos, dtype: int64"
      ]
     },
     "execution_count": 105,
     "metadata": {},
     "output_type": "execute_result"
    }
   ],
   "source": [
    "df[df[\"Addiction\"] == 1][\"Benzos\"].value_counts()"
   ]
  },
  {
   "cell_type": "code",
   "execution_count": 106,
   "id": "8e53838b",
   "metadata": {},
   "outputs": [
    {
     "data": {
      "text/plain": [
       "1    278\n",
       "0    236\n",
       "Name: Benzos, dtype: int64"
      ]
     },
     "execution_count": 106,
     "metadata": {},
     "output_type": "execute_result"
    }
   ],
   "source": [
    "df[df[\"Addiction\"] == 2][\"Benzos\"].value_counts()"
   ]
  },
  {
   "cell_type": "markdown",
   "id": "022fad05",
   "metadata": {},
   "source": [
    "## Caff"
   ]
  },
  {
   "cell_type": "code",
   "execution_count": 107,
   "id": "cb67e47d",
   "metadata": {},
   "outputs": [
    {
     "data": {
      "text/plain": [
       "1    1848\n",
       "0      37\n",
       "Name: Caff, dtype: int64"
      ]
     },
     "execution_count": 107,
     "metadata": {},
     "output_type": "execute_result"
    }
   ],
   "source": [
    "df[\"Caff\"].value_counts()"
   ]
  },
  {
   "cell_type": "code",
   "execution_count": 108,
   "id": "9d5ddcef",
   "metadata": {},
   "outputs": [
    {
     "data": {
      "text/plain": [
       "1    816\n",
       "0     30\n",
       "Name: Caff, dtype: int64"
      ]
     },
     "execution_count": 108,
     "metadata": {},
     "output_type": "execute_result"
    }
   ],
   "source": [
    "df[df[\"Addiction\"] == 0][\"Caff\"].value_counts()"
   ]
  },
  {
   "cell_type": "code",
   "execution_count": 109,
   "id": "f37b2e9f",
   "metadata": {},
   "outputs": [
    {
     "data": {
      "text/plain": [
       "1    519\n",
       "0      6\n",
       "Name: Caff, dtype: int64"
      ]
     },
     "execution_count": 109,
     "metadata": {},
     "output_type": "execute_result"
    }
   ],
   "source": [
    "df[df[\"Addiction\"] == 1][\"Caff\"].value_counts()"
   ]
  },
  {
   "cell_type": "code",
   "execution_count": 110,
   "id": "79df3d13",
   "metadata": {},
   "outputs": [
    {
     "data": {
      "text/plain": [
       "1    513\n",
       "0      1\n",
       "Name: Caff, dtype: int64"
      ]
     },
     "execution_count": 110,
     "metadata": {},
     "output_type": "execute_result"
    }
   ],
   "source": [
    "df[df[\"Addiction\"] == 2][\"Caff\"].value_counts()"
   ]
  },
  {
   "cell_type": "code",
   "execution_count": null,
   "id": "34c2992d",
   "metadata": {},
   "outputs": [],
   "source": [
    "## Cannabis"
   ]
  },
  {
   "cell_type": "markdown",
   "id": "9da20d4f",
   "metadata": {},
   "source": [
    "#  Conclusion"
   ]
  },
  {
   "cell_type": "markdown",
   "id": "52e6d5d0",
   "metadata": {},
   "source": [
    "Drop Semer because it is too unbalanced"
   ]
  },
  {
   "cell_type": "code",
   "execution_count": 45,
   "id": "683c76a2",
   "metadata": {},
   "outputs": [],
   "source": [
    "df.drop(columns = [\"Semer\"], inplace = True)"
   ]
  }
 ],
 "metadata": {
  "kernelspec": {
   "display_name": "Python 3",
   "language": "python",
   "name": "python3"
  },
  "language_info": {
   "codemirror_mode": {
    "name": "ipython",
    "version": 3
   },
   "file_extension": ".py",
   "mimetype": "text/x-python",
   "name": "python",
   "nbconvert_exporter": "python",
   "pygments_lexer": "ipython3",
   "version": "3.8.8"
  }
 },
 "nbformat": 4,
 "nbformat_minor": 5
}
