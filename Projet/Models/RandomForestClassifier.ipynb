{
 "cells": [
  {
   "cell_type": "markdown",
   "id": "4ee07b8d",
   "metadata": {},
   "source": [
    "# Library"
   ]
  },
  {
   "cell_type": "code",
   "execution_count": 1,
   "id": "42a5fde4",
   "metadata": {},
   "outputs": [],
   "source": [
    "import pandas as pd\n",
    "import numpy as np\n",
    "import matplotlib.pyplot as plt\n",
    "import seaborn as sns\n",
    "from sklearn.ensemble import RandomForestClassifier\n",
    "from sklearn.metrics import classification_report, accuracy_score, roc_auc_score, plot_confusion_matrix, f1_score\n",
    "from sklearn.model_selection import GridSearchCV\n",
    "from sklearn.model_selection import StratifiedKFold, KFold\n",
    "from sklearn.model_selection import train_test_split"
   ]
  },
  {
   "cell_type": "markdown",
   "id": "af44dc02",
   "metadata": {},
   "source": [
    "# Dataset"
   ]
  },
  {
   "cell_type": "code",
   "execution_count": 2,
   "id": "8bac3c61",
   "metadata": {},
   "outputs": [
    {
     "data": {
      "text/html": [
       "<div>\n",
       "<style scoped>\n",
       "    .dataframe tbody tr th:only-of-type {\n",
       "        vertical-align: middle;\n",
       "    }\n",
       "\n",
       "    .dataframe tbody tr th {\n",
       "        vertical-align: top;\n",
       "    }\n",
       "\n",
       "    .dataframe thead th {\n",
       "        text-align: right;\n",
       "    }\n",
       "</style>\n",
       "<table border=\"1\" class=\"dataframe\">\n",
       "  <thead>\n",
       "    <tr style=\"text-align: right;\">\n",
       "      <th></th>\n",
       "      <th>Age</th>\n",
       "      <th>Gender</th>\n",
       "      <th>Education</th>\n",
       "      <th>Nscore</th>\n",
       "      <th>Escore</th>\n",
       "      <th>Oscore</th>\n",
       "      <th>Ascore</th>\n",
       "      <th>Cscore</th>\n",
       "      <th>SS</th>\n",
       "      <th>Amphet</th>\n",
       "      <th>Amyl</th>\n",
       "      <th>Benzos</th>\n",
       "      <th>Cannabis</th>\n",
       "      <th>Heroin</th>\n",
       "      <th>Ketamine</th>\n",
       "      <th>LSD</th>\n",
       "      <th>Meth</th>\n",
       "      <th>VSA</th>\n",
       "      <th>Addiction</th>\n",
       "    </tr>\n",
       "  </thead>\n",
       "  <tbody>\n",
       "    <tr>\n",
       "      <th>0</th>\n",
       "      <td>0.49788</td>\n",
       "      <td>0.48246</td>\n",
       "      <td>-0.05921</td>\n",
       "      <td>0.31287</td>\n",
       "      <td>-0.57545</td>\n",
       "      <td>-0.58331</td>\n",
       "      <td>-0.91699</td>\n",
       "      <td>-0.00665</td>\n",
       "      <td>-1.18084</td>\n",
       "      <td>1</td>\n",
       "      <td>0</td>\n",
       "      <td>1</td>\n",
       "      <td>0</td>\n",
       "      <td>0</td>\n",
       "      <td>0</td>\n",
       "      <td>0</td>\n",
       "      <td>0</td>\n",
       "      <td>0</td>\n",
       "      <td>No Addiction</td>\n",
       "    </tr>\n",
       "    <tr>\n",
       "      <th>1</th>\n",
       "      <td>-0.07854</td>\n",
       "      <td>-0.48246</td>\n",
       "      <td>1.98437</td>\n",
       "      <td>-0.67825</td>\n",
       "      <td>1.93886</td>\n",
       "      <td>1.43533</td>\n",
       "      <td>0.76096</td>\n",
       "      <td>-0.14277</td>\n",
       "      <td>-0.21575</td>\n",
       "      <td>1</td>\n",
       "      <td>1</td>\n",
       "      <td>0</td>\n",
       "      <td>1</td>\n",
       "      <td>0</td>\n",
       "      <td>1</td>\n",
       "      <td>1</td>\n",
       "      <td>1</td>\n",
       "      <td>0</td>\n",
       "      <td>Addiction without psychologic effect</td>\n",
       "    </tr>\n",
       "    <tr>\n",
       "      <th>2</th>\n",
       "      <td>0.49788</td>\n",
       "      <td>-0.48246</td>\n",
       "      <td>-0.05921</td>\n",
       "      <td>-0.46725</td>\n",
       "      <td>0.80523</td>\n",
       "      <td>-0.84732</td>\n",
       "      <td>-1.62090</td>\n",
       "      <td>-1.01450</td>\n",
       "      <td>0.40148</td>\n",
       "      <td>0</td>\n",
       "      <td>0</td>\n",
       "      <td>0</td>\n",
       "      <td>1</td>\n",
       "      <td>0</td>\n",
       "      <td>0</td>\n",
       "      <td>0</td>\n",
       "      <td>0</td>\n",
       "      <td>0</td>\n",
       "      <td>No Addiction</td>\n",
       "    </tr>\n",
       "    <tr>\n",
       "      <th>3</th>\n",
       "      <td>-0.95197</td>\n",
       "      <td>0.48246</td>\n",
       "      <td>1.16365</td>\n",
       "      <td>-0.14882</td>\n",
       "      <td>-0.80615</td>\n",
       "      <td>-0.01928</td>\n",
       "      <td>0.59042</td>\n",
       "      <td>0.58489</td>\n",
       "      <td>-1.18084</td>\n",
       "      <td>0</td>\n",
       "      <td>0</td>\n",
       "      <td>1</td>\n",
       "      <td>1</td>\n",
       "      <td>0</td>\n",
       "      <td>1</td>\n",
       "      <td>0</td>\n",
       "      <td>0</td>\n",
       "      <td>0</td>\n",
       "      <td>No Addiction</td>\n",
       "    </tr>\n",
       "    <tr>\n",
       "      <th>4</th>\n",
       "      <td>0.49788</td>\n",
       "      <td>0.48246</td>\n",
       "      <td>1.98437</td>\n",
       "      <td>0.73545</td>\n",
       "      <td>-1.63340</td>\n",
       "      <td>-0.45174</td>\n",
       "      <td>-0.30172</td>\n",
       "      <td>1.30612</td>\n",
       "      <td>-0.21575</td>\n",
       "      <td>0</td>\n",
       "      <td>0</td>\n",
       "      <td>0</td>\n",
       "      <td>1</td>\n",
       "      <td>0</td>\n",
       "      <td>0</td>\n",
       "      <td>0</td>\n",
       "      <td>0</td>\n",
       "      <td>0</td>\n",
       "      <td>No Addiction</td>\n",
       "    </tr>\n",
       "    <tr>\n",
       "      <th>...</th>\n",
       "      <td>...</td>\n",
       "      <td>...</td>\n",
       "      <td>...</td>\n",
       "      <td>...</td>\n",
       "      <td>...</td>\n",
       "      <td>...</td>\n",
       "      <td>...</td>\n",
       "      <td>...</td>\n",
       "      <td>...</td>\n",
       "      <td>...</td>\n",
       "      <td>...</td>\n",
       "      <td>...</td>\n",
       "      <td>...</td>\n",
       "      <td>...</td>\n",
       "      <td>...</td>\n",
       "      <td>...</td>\n",
       "      <td>...</td>\n",
       "      <td>...</td>\n",
       "      <td>...</td>\n",
       "    </tr>\n",
       "    <tr>\n",
       "      <th>1880</th>\n",
       "      <td>-0.95197</td>\n",
       "      <td>0.48246</td>\n",
       "      <td>-0.61113</td>\n",
       "      <td>-1.19430</td>\n",
       "      <td>1.74091</td>\n",
       "      <td>1.88511</td>\n",
       "      <td>0.76096</td>\n",
       "      <td>-1.13788</td>\n",
       "      <td>1.92173</td>\n",
       "      <td>0</td>\n",
       "      <td>0</td>\n",
       "      <td>0</td>\n",
       "      <td>1</td>\n",
       "      <td>0</td>\n",
       "      <td>0</td>\n",
       "      <td>1</td>\n",
       "      <td>0</td>\n",
       "      <td>1</td>\n",
       "      <td>Addiction without psychologic effect</td>\n",
       "    </tr>\n",
       "    <tr>\n",
       "      <th>1881</th>\n",
       "      <td>-0.95197</td>\n",
       "      <td>-0.48246</td>\n",
       "      <td>-0.61113</td>\n",
       "      <td>-0.24649</td>\n",
       "      <td>1.74091</td>\n",
       "      <td>0.58331</td>\n",
       "      <td>0.76096</td>\n",
       "      <td>-1.51840</td>\n",
       "      <td>0.76540</td>\n",
       "      <td>0</td>\n",
       "      <td>0</td>\n",
       "      <td>0</td>\n",
       "      <td>1</td>\n",
       "      <td>0</td>\n",
       "      <td>0</td>\n",
       "      <td>1</td>\n",
       "      <td>1</td>\n",
       "      <td>0</td>\n",
       "      <td>Addiction without psychologic effect</td>\n",
       "    </tr>\n",
       "    <tr>\n",
       "      <th>1882</th>\n",
       "      <td>-0.07854</td>\n",
       "      <td>0.48246</td>\n",
       "      <td>0.45468</td>\n",
       "      <td>1.13281</td>\n",
       "      <td>-1.37639</td>\n",
       "      <td>-1.27553</td>\n",
       "      <td>-1.77200</td>\n",
       "      <td>-1.38502</td>\n",
       "      <td>-0.52593</td>\n",
       "      <td>1</td>\n",
       "      <td>1</td>\n",
       "      <td>1</td>\n",
       "      <td>1</td>\n",
       "      <td>0</td>\n",
       "      <td>1</td>\n",
       "      <td>1</td>\n",
       "      <td>0</td>\n",
       "      <td>0</td>\n",
       "      <td>Addiction with psychologic effect</td>\n",
       "    </tr>\n",
       "    <tr>\n",
       "      <th>1883</th>\n",
       "      <td>-0.95197</td>\n",
       "      <td>0.48246</td>\n",
       "      <td>-0.61113</td>\n",
       "      <td>0.91093</td>\n",
       "      <td>-1.92173</td>\n",
       "      <td>0.29338</td>\n",
       "      <td>-1.62090</td>\n",
       "      <td>-2.57309</td>\n",
       "      <td>1.22470</td>\n",
       "      <td>0</td>\n",
       "      <td>0</td>\n",
       "      <td>0</td>\n",
       "      <td>1</td>\n",
       "      <td>0</td>\n",
       "      <td>0</td>\n",
       "      <td>1</td>\n",
       "      <td>0</td>\n",
       "      <td>0</td>\n",
       "      <td>Addiction with psychologic effect</td>\n",
       "    </tr>\n",
       "    <tr>\n",
       "      <th>1884</th>\n",
       "      <td>-0.95197</td>\n",
       "      <td>-0.48246</td>\n",
       "      <td>-0.61113</td>\n",
       "      <td>-0.46725</td>\n",
       "      <td>2.12700</td>\n",
       "      <td>1.65653</td>\n",
       "      <td>1.11406</td>\n",
       "      <td>0.41594</td>\n",
       "      <td>1.22470</td>\n",
       "      <td>1</td>\n",
       "      <td>0</td>\n",
       "      <td>1</td>\n",
       "      <td>1</td>\n",
       "      <td>0</td>\n",
       "      <td>0</td>\n",
       "      <td>1</td>\n",
       "      <td>0</td>\n",
       "      <td>1</td>\n",
       "      <td>Addiction without psychologic effect</td>\n",
       "    </tr>\n",
       "  </tbody>\n",
       "</table>\n",
       "<p>1885 rows × 19 columns</p>\n",
       "</div>"
      ],
      "text/plain": [
       "          Age   Gender  Education   Nscore   Escore   Oscore   Ascore  \\\n",
       "0     0.49788  0.48246   -0.05921  0.31287 -0.57545 -0.58331 -0.91699   \n",
       "1    -0.07854 -0.48246    1.98437 -0.67825  1.93886  1.43533  0.76096   \n",
       "2     0.49788 -0.48246   -0.05921 -0.46725  0.80523 -0.84732 -1.62090   \n",
       "3    -0.95197  0.48246    1.16365 -0.14882 -0.80615 -0.01928  0.59042   \n",
       "4     0.49788  0.48246    1.98437  0.73545 -1.63340 -0.45174 -0.30172   \n",
       "...       ...      ...        ...      ...      ...      ...      ...   \n",
       "1880 -0.95197  0.48246   -0.61113 -1.19430  1.74091  1.88511  0.76096   \n",
       "1881 -0.95197 -0.48246   -0.61113 -0.24649  1.74091  0.58331  0.76096   \n",
       "1882 -0.07854  0.48246    0.45468  1.13281 -1.37639 -1.27553 -1.77200   \n",
       "1883 -0.95197  0.48246   -0.61113  0.91093 -1.92173  0.29338 -1.62090   \n",
       "1884 -0.95197 -0.48246   -0.61113 -0.46725  2.12700  1.65653  1.11406   \n",
       "\n",
       "       Cscore       SS  Amphet  Amyl  Benzos  Cannabis  Heroin  Ketamine  LSD  \\\n",
       "0    -0.00665 -1.18084       1     0       1         0       0         0    0   \n",
       "1    -0.14277 -0.21575       1     1       0         1       0         1    1   \n",
       "2    -1.01450  0.40148       0     0       0         1       0         0    0   \n",
       "3     0.58489 -1.18084       0     0       1         1       0         1    0   \n",
       "4     1.30612 -0.21575       0     0       0         1       0         0    0   \n",
       "...       ...      ...     ...   ...     ...       ...     ...       ...  ...   \n",
       "1880 -1.13788  1.92173       0     0       0         1       0         0    1   \n",
       "1881 -1.51840  0.76540       0     0       0         1       0         0    1   \n",
       "1882 -1.38502 -0.52593       1     1       1         1       0         1    1   \n",
       "1883 -2.57309  1.22470       0     0       0         1       0         0    1   \n",
       "1884  0.41594  1.22470       1     0       1         1       0         0    1   \n",
       "\n",
       "      Meth  VSA                             Addiction  \n",
       "0        0    0                          No Addiction  \n",
       "1        1    0  Addiction without psychologic effect  \n",
       "2        0    0                          No Addiction  \n",
       "3        0    0                          No Addiction  \n",
       "4        0    0                          No Addiction  \n",
       "...    ...  ...                                   ...  \n",
       "1880     0    1  Addiction without psychologic effect  \n",
       "1881     1    0  Addiction without psychologic effect  \n",
       "1882     0    0     Addiction with psychologic effect  \n",
       "1883     0    0     Addiction with psychologic effect  \n",
       "1884     0    1  Addiction without psychologic effect  \n",
       "\n",
       "[1885 rows x 19 columns]"
      ]
     },
     "execution_count": 2,
     "metadata": {},
     "output_type": "execute_result"
    }
   ],
   "source": [
    "df = pd.read_csv(\"../Models/data_tofit.csv\")\n",
    "df"
   ]
  },
  {
   "cell_type": "markdown",
   "id": "00199293",
   "metadata": {},
   "source": [
    "# Test/train"
   ]
  },
  {
   "cell_type": "code",
   "execution_count": 3,
   "id": "d6ce84c2",
   "metadata": {},
   "outputs": [],
   "source": [
    "# Split train test\n",
    "X_train, X_test, y_train, y_test = train_test_split(df.drop(\"Addiction\", axis = 1), df[\"Addiction\"], test_size=0.35, random_state = 42,\\\n",
    "                                                   stratify = df[\"Addiction\"])"
   ]
  },
  {
   "cell_type": "markdown",
   "id": "11dff70a",
   "metadata": {},
   "source": [
    "# Random Forest Model"
   ]
  },
  {
   "cell_type": "code",
   "execution_count": 6,
   "id": "287954ca",
   "metadata": {},
   "outputs": [],
   "source": [
    "param = {\"max_depth\": [2,6,8] ,\\\n",
    "        \"min_samples_leaf\": [5,10,15],\\\n",
    "        \"n_estimators\": [500,800,1500],\\\n",
    "        \"max_features\":[\"auto\", \"sqrt\",\"log2\"]}"
   ]
  },
  {
   "cell_type": "code",
   "execution_count": 7,
   "id": "9c605962",
   "metadata": {},
   "outputs": [
    {
     "data": {
      "text/plain": [
       "GridSearchCV(cv=KFold(n_splits=5, random_state=42, shuffle=True),\n",
       "             estimator=RandomForestClassifier(),\n",
       "             param_grid={'max_depth': [2, 6, 8],\n",
       "                         'max_features': ['auto', 'sqrt', 'log2'],\n",
       "                         'min_samples_leaf': [5, 10, 15],\n",
       "                         'n_estimators': [500, 800, 1500]},\n",
       "             scoring='accuracy')"
      ]
     },
     "execution_count": 7,
     "metadata": {},
     "output_type": "execute_result"
    }
   ],
   "source": [
    "rf_grid = GridSearchCV(RandomForestClassifier(), param, cv= KFold(n_splits=5, random_state=42, shuffle = True),scoring = \"accuracy\")\n",
    "rf_grid.fit(X_train, y_train)\n",
    "rf_grid"
   ]
  },
  {
   "cell_type": "code",
   "execution_count": 8,
   "id": "4a05a9b3",
   "metadata": {},
   "outputs": [
    {
     "name": "stdout",
     "output_type": "stream",
     "text": [
      "Best parameters {'max_depth': 8, 'max_features': 'log2', 'min_samples_leaf': 5, 'n_estimators': 1500} with best score 0.9012244897959183 \n"
     ]
    }
   ],
   "source": [
    "print(\"Best parameters {} with best score {} \".format(rf_grid.best_params_,\\\n",
    "rf_grid.best_score_))"
   ]
  },
  {
   "cell_type": "markdown",
   "id": "ca1e6244",
   "metadata": {},
   "source": [
    "## Testing model"
   ]
  },
  {
   "cell_type": "code",
   "execution_count": 9,
   "id": "c789c94a",
   "metadata": {},
   "outputs": [
    {
     "data": {
      "text/plain": [
       "0.8909090909090909"
      ]
     },
     "execution_count": 9,
     "metadata": {},
     "output_type": "execute_result"
    }
   ],
   "source": [
    "# Testing model\n",
    "y_pred = rf_grid.predict(X_test)\n",
    "accuracy_score(y_test, y_pred)"
   ]
  },
  {
   "cell_type": "code",
   "execution_count": 10,
   "id": "7b39f46a",
   "metadata": {},
   "outputs": [
    {
     "data": {
      "text/html": [
       "<div>\n",
       "<style scoped>\n",
       "    .dataframe tbody tr th:only-of-type {\n",
       "        vertical-align: middle;\n",
       "    }\n",
       "\n",
       "    .dataframe tbody tr th {\n",
       "        vertical-align: top;\n",
       "    }\n",
       "\n",
       "    .dataframe thead th {\n",
       "        text-align: right;\n",
       "    }\n",
       "</style>\n",
       "<table border=\"1\" class=\"dataframe\">\n",
       "  <thead>\n",
       "    <tr style=\"text-align: right;\">\n",
       "      <th>Predicted</th>\n",
       "      <th>Addiction with psychologic effect</th>\n",
       "      <th>Addiction without psychologic effect</th>\n",
       "      <th>No Addiction</th>\n",
       "      <th>All</th>\n",
       "    </tr>\n",
       "    <tr>\n",
       "      <th>Real</th>\n",
       "      <th></th>\n",
       "      <th></th>\n",
       "      <th></th>\n",
       "      <th></th>\n",
       "    </tr>\n",
       "  </thead>\n",
       "  <tbody>\n",
       "    <tr>\n",
       "      <th>Addiction with psychologic effect</th>\n",
       "      <td>161</td>\n",
       "      <td>12</td>\n",
       "      <td>10</td>\n",
       "      <td>183</td>\n",
       "    </tr>\n",
       "    <tr>\n",
       "      <th>Addiction without psychologic effect</th>\n",
       "      <td>16</td>\n",
       "      <td>152</td>\n",
       "      <td>11</td>\n",
       "      <td>179</td>\n",
       "    </tr>\n",
       "    <tr>\n",
       "      <th>No Addiction</th>\n",
       "      <td>14</td>\n",
       "      <td>9</td>\n",
       "      <td>275</td>\n",
       "      <td>298</td>\n",
       "    </tr>\n",
       "    <tr>\n",
       "      <th>All</th>\n",
       "      <td>191</td>\n",
       "      <td>173</td>\n",
       "      <td>296</td>\n",
       "      <td>660</td>\n",
       "    </tr>\n",
       "  </tbody>\n",
       "</table>\n",
       "</div>"
      ],
      "text/plain": [
       "Predicted                             Addiction with psychologic effect  \\\n",
       "Real                                                                      \n",
       "Addiction with psychologic effect                                   161   \n",
       "Addiction without psychologic effect                                 16   \n",
       "No Addiction                                                         14   \n",
       "All                                                                 191   \n",
       "\n",
       "Predicted                             Addiction without psychologic effect  \\\n",
       "Real                                                                         \n",
       "Addiction with psychologic effect                                       12   \n",
       "Addiction without psychologic effect                                   152   \n",
       "No Addiction                                                             9   \n",
       "All                                                                    173   \n",
       "\n",
       "Predicted                             No Addiction  All  \n",
       "Real                                                     \n",
       "Addiction with psychologic effect               10  183  \n",
       "Addiction without psychologic effect            11  179  \n",
       "No Addiction                                   275  298  \n",
       "All                                            296  660  "
      ]
     },
     "execution_count": 10,
     "metadata": {},
     "output_type": "execute_result"
    }
   ],
   "source": [
    "cross = pd.crosstab(y_test, y_pred, rownames=['Real'], colnames=['Predicted'], margins=True)\n",
    "cross"
   ]
  },
  {
   "cell_type": "code",
   "execution_count": 11,
   "id": "cd80bbc3",
   "metadata": {},
   "outputs": [
    {
     "data": {
      "image/png": "[encoded data removed]",
      "text/plain": [
       "<Figure size 720x504 with 2 Axes>"
      ]
     },
     "metadata": {
      "needs_background": "light"
     },
     "output_type": "display_data"
    }
   ],
   "source": [
    "# Confusion Matrix\n",
    "\n",
    "plt.rcParams['axes.labelsize'] = 20\n",
    "plt.rcParams['xtick.labelsize'] = 16\n",
    "plt.rcParams['ytick.labelsize'] = 20\n",
    "plt.rcParams.update({'font.size': 22})\n",
    "fig, ax = plt.subplots(1, 1, figsize=(10,7))\n",
    "fig.suptitle('Confusion Matrix', fontsize=15)\n",
    "plot_confusion_matrix(rf_grid, X_test, y_test, normalize='true', cmap=plt.cm.Blues, ax=ax)\n",
    "plt.xlabel('Predicted')\n",
    "plt.xticks(rotation =90)\n",
    "plt.ylabel('Real')\n",
    "plt.show() "
   ]
  },
  {
   "cell_type": "code",
   "execution_count": 12,
   "id": "63ba7274",
   "metadata": {},
   "outputs": [
    {
     "data": {
      "text/html": [
       "<div>\n",
       "<style scoped>\n",
       "    .dataframe tbody tr th:only-of-type {\n",
       "        vertical-align: middle;\n",
       "    }\n",
       "\n",
       "    .dataframe tbody tr th {\n",
       "        vertical-align: top;\n",
       "    }\n",
       "\n",
       "    .dataframe thead th {\n",
       "        text-align: right;\n",
       "    }\n",
       "</style>\n",
       "<table border=\"1\" class=\"dataframe\">\n",
       "  <thead>\n",
       "    <tr style=\"text-align: right;\">\n",
       "      <th></th>\n",
       "      <th>Variable</th>\n",
       "      <th>Value</th>\n",
       "      <th>%</th>\n",
       "    </tr>\n",
       "  </thead>\n",
       "  <tbody>\n",
       "    <tr>\n",
       "      <th>0</th>\n",
       "      <td>Heroin</td>\n",
       "      <td>0.002304</td>\n",
       "      <td>0.230399</td>\n",
       "    </tr>\n",
       "    <tr>\n",
       "      <th>1</th>\n",
       "      <td>Amyl</td>\n",
       "      <td>0.003839</td>\n",
       "      <td>0.383865</td>\n",
       "    </tr>\n",
       "    <tr>\n",
       "      <th>2</th>\n",
       "      <td>VSA</td>\n",
       "      <td>0.003964</td>\n",
       "      <td>0.396412</td>\n",
       "    </tr>\n",
       "    <tr>\n",
       "      <th>3</th>\n",
       "      <td>Ketamine</td>\n",
       "      <td>0.008350</td>\n",
       "      <td>0.835040</td>\n",
       "    </tr>\n",
       "    <tr>\n",
       "      <th>4</th>\n",
       "      <td>Meth</td>\n",
       "      <td>0.008559</td>\n",
       "      <td>0.855911</td>\n",
       "    </tr>\n",
       "    <tr>\n",
       "      <th>5</th>\n",
       "      <td>Gender</td>\n",
       "      <td>0.009215</td>\n",
       "      <td>0.921488</td>\n",
       "    </tr>\n",
       "    <tr>\n",
       "      <th>6</th>\n",
       "      <td>Benzos</td>\n",
       "      <td>0.016416</td>\n",
       "      <td>1.641580</td>\n",
       "    </tr>\n",
       "    <tr>\n",
       "      <th>7</th>\n",
       "      <td>Ascore</td>\n",
       "      <td>0.027105</td>\n",
       "      <td>2.710499</td>\n",
       "    </tr>\n",
       "    <tr>\n",
       "      <th>8</th>\n",
       "      <td>Education</td>\n",
       "      <td>0.028873</td>\n",
       "      <td>2.887284</td>\n",
       "    </tr>\n",
       "    <tr>\n",
       "      <th>9</th>\n",
       "      <td>Age</td>\n",
       "      <td>0.038309</td>\n",
       "      <td>3.830921</td>\n",
       "    </tr>\n",
       "    <tr>\n",
       "      <th>10</th>\n",
       "      <td>LSD</td>\n",
       "      <td>0.059601</td>\n",
       "      <td>5.960081</td>\n",
       "    </tr>\n",
       "    <tr>\n",
       "      <th>11</th>\n",
       "      <td>Oscore</td>\n",
       "      <td>0.077014</td>\n",
       "      <td>7.701404</td>\n",
       "    </tr>\n",
       "    <tr>\n",
       "      <th>12</th>\n",
       "      <td>Amphet</td>\n",
       "      <td>0.083978</td>\n",
       "      <td>8.397814</td>\n",
       "    </tr>\n",
       "    <tr>\n",
       "      <th>13</th>\n",
       "      <td>Cscore</td>\n",
       "      <td>0.108929</td>\n",
       "      <td>10.892948</td>\n",
       "    </tr>\n",
       "    <tr>\n",
       "      <th>14</th>\n",
       "      <td>Cannabis</td>\n",
       "      <td>0.125845</td>\n",
       "      <td>12.584547</td>\n",
       "    </tr>\n",
       "    <tr>\n",
       "      <th>15</th>\n",
       "      <td>Escore</td>\n",
       "      <td>0.129265</td>\n",
       "      <td>12.926521</td>\n",
       "    </tr>\n",
       "    <tr>\n",
       "      <th>16</th>\n",
       "      <td>SS</td>\n",
       "      <td>0.132029</td>\n",
       "      <td>13.202907</td>\n",
       "    </tr>\n",
       "    <tr>\n",
       "      <th>17</th>\n",
       "      <td>Nscore</td>\n",
       "      <td>0.136404</td>\n",
       "      <td>13.640381</td>\n",
       "    </tr>\n",
       "  </tbody>\n",
       "</table>\n",
       "</div>"
      ],
      "text/plain": [
       "     Variable     Value          %\n",
       "0      Heroin  0.002304   0.230399\n",
       "1        Amyl  0.003839   0.383865\n",
       "2         VSA  0.003964   0.396412\n",
       "3    Ketamine  0.008350   0.835040\n",
       "4        Meth  0.008559   0.855911\n",
       "5      Gender  0.009215   0.921488\n",
       "6      Benzos  0.016416   1.641580\n",
       "7      Ascore  0.027105   2.710499\n",
       "8   Education  0.028873   2.887284\n",
       "9         Age  0.038309   3.830921\n",
       "10        LSD  0.059601   5.960081\n",
       "11     Oscore  0.077014   7.701404\n",
       "12     Amphet  0.083978   8.397814\n",
       "13     Cscore  0.108929  10.892948\n",
       "14   Cannabis  0.125845  12.584547\n",
       "15     Escore  0.129265  12.926521\n",
       "16         SS  0.132029  13.202907\n",
       "17     Nscore  0.136404  13.640381"
      ]
     },
     "execution_count": 12,
     "metadata": {},
     "output_type": "execute_result"
    }
   ],
   "source": [
    "# Importance Featuring\n",
    "\n",
    "importance = pd.DataFrame(data=rf_grid.best_estimator_.feature_importances_, columns = ['Value'],\\\n",
    "index=X_test.columns).reset_index().rename(columns={'index':'Variable'}).sort_values('Value').reset_index(drop=True)\n",
    "importance['%'] = importance['Value']*100\n",
    "importance"
   ]
  },
  {
   "cell_type": "code",
   "execution_count": 13,
   "id": "793f2b1f",
   "metadata": {},
   "outputs": [
    {
     "data": {
      "text/plain": [
       "<BarContainer object of 18 artists>"
      ]
     },
     "execution_count": 13,
     "metadata": {},
     "output_type": "execute_result"
    },
    {
     "data": {
      "image/png": "[encoded data removed]",
      "text/plain": [
       "<Figure size 720x504 with 1 Axes>"
      ]
     },
     "metadata": {
      "needs_background": "light"
     },
     "output_type": "display_data"
    }
   ],
   "source": [
    "# Model importance\n",
    "plt.rcParams['axes.labelsize'] = 12\n",
    "plt.rcParams['xtick.labelsize'] = 12\n",
    "plt.rcParams['ytick.labelsize'] = 15\n",
    "plt.rcParams.update({'font.size': 20})\n",
    "plt.figure(figsize=(10,7))\n",
    "plt.barh(importance['Variable'], importance['Value'])"
   ]
  },
  {
   "cell_type": "markdown",
   "id": "2657a73e",
   "metadata": {},
   "source": [
    "We can Remove Amyl, Benzos, Heroin"
   ]
  },
  {
   "cell_type": "markdown",
   "id": "63e7e9c9",
   "metadata": {},
   "source": [
    "## Removing features"
   ]
  },
  {
   "cell_type": "code",
   "execution_count": 14,
   "id": "8895bf81",
   "metadata": {},
   "outputs": [],
   "source": [
    "# Split train test\n",
    "df_important = df.drop([\"Amyl\", \"VSA\",\"Heroin\"], axis = 1)\n",
    "X_train, X_test, y_train, y_test = train_test_split(df_important.drop(\"Addiction\", axis = 1), df_important[\"Addiction\"], test_size=0.35, random_state = 42,\\\n",
    "                                                   stratify = df_important[\"Addiction\"])"
   ]
  },
  {
   "cell_type": "code",
   "execution_count": 15,
   "id": "d56a33de",
   "metadata": {},
   "outputs": [
    {
     "data": {
      "text/plain": [
       "GridSearchCV(cv=KFold(n_splits=5, random_state=42, shuffle=True),\n",
       "             estimator=RandomForestClassifier(),\n",
       "             param_grid={'max_depth': [2, 6, 8],\n",
       "                         'max_features': ['auto', 'sqrt', 'log2'],\n",
       "                         'min_samples_leaf': [5, 10, 15],\n",
       "                         'n_estimators': [500, 800, 1500]},\n",
       "             scoring='accuracy')"
      ]
     },
     "execution_count": 15,
     "metadata": {},
     "output_type": "execute_result"
    }
   ],
   "source": [
    "rf_grid = GridSearchCV(RandomForestClassifier(), param, cv= KFold(n_splits=5, random_state=42, shuffle = True),scoring = \"accuracy\")\n",
    "rf_grid.fit(X_train, y_train)\n",
    "rf_grid"
   ]
  },
  {
   "cell_type": "code",
   "execution_count": 17,
   "id": "82fafe00",
   "metadata": {},
   "outputs": [
    {
     "name": "stdout",
     "output_type": "stream",
     "text": [
      "Best parameters {'max_depth': 8, 'max_features': 'auto', 'min_samples_leaf': 5, 'n_estimators': 800} with best score 0.8979591836734693 \n"
     ]
    }
   ],
   "source": [
    "print(\"Best parameters {} with best score {} \".format(rf_grid.best_params_,\\\n",
    "rf_grid.best_score_))"
   ]
  },
  {
   "cell_type": "code",
   "execution_count": 19,
   "id": "4af0f076",
   "metadata": {},
   "outputs": [
    {
     "data": {
      "text/html": [
       "<div>\n",
       "<style scoped>\n",
       "    .dataframe tbody tr th:only-of-type {\n",
       "        vertical-align: middle;\n",
       "    }\n",
       "\n",
       "    .dataframe tbody tr th {\n",
       "        vertical-align: top;\n",
       "    }\n",
       "\n",
       "    .dataframe thead th {\n",
       "        text-align: right;\n",
       "    }\n",
       "</style>\n",
       "<table border=\"1\" class=\"dataframe\">\n",
       "  <thead>\n",
       "    <tr style=\"text-align: right;\">\n",
       "      <th></th>\n",
       "      <th>mean_fit_time</th>\n",
       "      <th>std_fit_time</th>\n",
       "      <th>mean_score_time</th>\n",
       "      <th>std_score_time</th>\n",
       "      <th>param_max_depth</th>\n",
       "      <th>param_max_features</th>\n",
       "      <th>param_min_samples_leaf</th>\n",
       "      <th>param_n_estimators</th>\n",
       "      <th>params</th>\n",
       "      <th>split0_test_score</th>\n",
       "      <th>split1_test_score</th>\n",
       "      <th>split2_test_score</th>\n",
       "      <th>split3_test_score</th>\n",
       "      <th>split4_test_score</th>\n",
       "      <th>mean_test_score</th>\n",
       "      <th>std_test_score</th>\n",
       "      <th>rank_test_score</th>\n",
       "    </tr>\n",
       "  </thead>\n",
       "  <tbody>\n",
       "    <tr>\n",
       "      <th>0</th>\n",
       "      <td>0.610938</td>\n",
       "      <td>0.005155</td>\n",
       "      <td>0.046609</td>\n",
       "      <td>0.002497</td>\n",
       "      <td>2</td>\n",
       "      <td>auto</td>\n",
       "      <td>5</td>\n",
       "      <td>500</td>\n",
       "      <td>{'max_depth': 2, 'max_features': 'auto', 'min_...</td>\n",
       "      <td>0.861224</td>\n",
       "      <td>0.865306</td>\n",
       "      <td>0.828571</td>\n",
       "      <td>0.783673</td>\n",
       "      <td>0.816327</td>\n",
       "      <td>0.831020</td>\n",
       "      <td>0.030171</td>\n",
       "      <td>63</td>\n",
       "    </tr>\n",
       "    <tr>\n",
       "      <th>1</th>\n",
       "      <td>0.969017</td>\n",
       "      <td>0.013440</td>\n",
       "      <td>0.070416</td>\n",
       "      <td>0.002245</td>\n",
       "      <td>2</td>\n",
       "      <td>auto</td>\n",
       "      <td>5</td>\n",
       "      <td>800</td>\n",
       "      <td>{'max_depth': 2, 'max_features': 'auto', 'min_...</td>\n",
       "      <td>0.869388</td>\n",
       "      <td>0.869388</td>\n",
       "      <td>0.808163</td>\n",
       "      <td>0.775510</td>\n",
       "      <td>0.816327</td>\n",
       "      <td>0.827755</td>\n",
       "      <td>0.036635</td>\n",
       "      <td>73</td>\n",
       "    </tr>\n",
       "    <tr>\n",
       "      <th>2</th>\n",
       "      <td>1.854215</td>\n",
       "      <td>0.039406</td>\n",
       "      <td>0.139631</td>\n",
       "      <td>0.003499</td>\n",
       "      <td>2</td>\n",
       "      <td>auto</td>\n",
       "      <td>5</td>\n",
       "      <td>1500</td>\n",
       "      <td>{'max_depth': 2, 'max_features': 'auto', 'min_...</td>\n",
       "      <td>0.869388</td>\n",
       "      <td>0.865306</td>\n",
       "      <td>0.812245</td>\n",
       "      <td>0.783673</td>\n",
       "      <td>0.804082</td>\n",
       "      <td>0.826939</td>\n",
       "      <td>0.034305</td>\n",
       "      <td>74</td>\n",
       "    </tr>\n",
       "    <tr>\n",
       "      <th>3</th>\n",
       "      <td>0.620139</td>\n",
       "      <td>0.003034</td>\n",
       "      <td>0.047411</td>\n",
       "      <td>0.001855</td>\n",
       "      <td>2</td>\n",
       "      <td>auto</td>\n",
       "      <td>10</td>\n",
       "      <td>500</td>\n",
       "      <td>{'max_depth': 2, 'max_features': 'auto', 'min_...</td>\n",
       "      <td>0.869388</td>\n",
       "      <td>0.865306</td>\n",
       "      <td>0.804082</td>\n",
       "      <td>0.795918</td>\n",
       "      <td>0.828571</td>\n",
       "      <td>0.832653</td>\n",
       "      <td>0.030325</td>\n",
       "      <td>59</td>\n",
       "    </tr>\n",
       "    <tr>\n",
       "      <th>4</th>\n",
       "      <td>0.980220</td>\n",
       "      <td>0.017057</td>\n",
       "      <td>0.073016</td>\n",
       "      <td>0.002530</td>\n",
       "      <td>2</td>\n",
       "      <td>auto</td>\n",
       "      <td>10</td>\n",
       "      <td>800</td>\n",
       "      <td>{'max_depth': 2, 'max_features': 'auto', 'min_...</td>\n",
       "      <td>0.873469</td>\n",
       "      <td>0.861224</td>\n",
       "      <td>0.816327</td>\n",
       "      <td>0.791837</td>\n",
       "      <td>0.824490</td>\n",
       "      <td>0.833469</td>\n",
       "      <td>0.029927</td>\n",
       "      <td>56</td>\n",
       "    </tr>\n",
       "  </tbody>\n",
       "</table>\n",
       "</div>"
      ],
      "text/plain": [
       "   mean_fit_time  std_fit_time  mean_score_time  std_score_time  \\\n",
       "0       0.610938      0.005155         0.046609        0.002497   \n",
       "1       0.969017      0.013440         0.070416        0.002245   \n",
       "2       1.854215      0.039406         0.139631        0.003499   \n",
       "3       0.620139      0.003034         0.047411        0.001855   \n",
       "4       0.980220      0.017057         0.073016        0.002530   \n",
       "\n",
       "  param_max_depth param_max_features param_min_samples_leaf  \\\n",
       "0               2               auto                      5   \n",
       "1               2               auto                      5   \n",
       "2               2               auto                      5   \n",
       "3               2               auto                     10   \n",
       "4               2               auto                     10   \n",
       "\n",
       "  param_n_estimators                                             params  \\\n",
       "0                500  {'max_depth': 2, 'max_features': 'auto', 'min_...   \n",
       "1                800  {'max_depth': 2, 'max_features': 'auto', 'min_...   \n",
       "2               1500  {'max_depth': 2, 'max_features': 'auto', 'min_...   \n",
       "3                500  {'max_depth': 2, 'max_features': 'auto', 'min_...   \n",
       "4                800  {'max_depth': 2, 'max_features': 'auto', 'min_...   \n",
       "\n",
       "   split0_test_score  split1_test_score  split2_test_score  split3_test_score  \\\n",
       "0           0.861224           0.865306           0.828571           0.783673   \n",
       "1           0.869388           0.869388           0.808163           0.775510   \n",
       "2           0.869388           0.865306           0.812245           0.783673   \n",
       "3           0.869388           0.865306           0.804082           0.795918   \n",
       "4           0.873469           0.861224           0.816327           0.791837   \n",
       "\n",
       "   split4_test_score  mean_test_score  std_test_score  rank_test_score  \n",
       "0           0.816327         0.831020        0.030171               63  \n",
       "1           0.816327         0.827755        0.036635               73  \n",
       "2           0.804082         0.826939        0.034305               74  \n",
       "3           0.828571         0.832653        0.030325               59  \n",
       "4           0.824490         0.833469        0.029927               56  "
      ]
     },
     "execution_count": 19,
     "metadata": {},
     "output_type": "execute_result"
    }
   ],
   "source": [
    "# get the grid search results\n",
    "results = pd.DataFrame(rf_grid.cv_results_)\n",
    "results.head()"
   ]
  },
  {
   "cell_type": "code",
   "execution_count": 28,
   "id": "28a46e16",
   "metadata": {},
   "outputs": [
    {
     "data": {
      "text/plain": [
       "<seaborn.axisgrid.FacetGrid at 0x24a81a82580>"
      ]
     },
     "execution_count": 28,
     "metadata": {},
     "output_type": "execute_result"
    },
    {
     "data": {
      "image/png": "[encoded data removed]",
      "text/plain": [
       "<Figure size 432x144 with 3 Axes>"
      ]
     },
     "metadata": {},
     "output_type": "display_data"
    }
   ],
   "source": [
    "#Comparing scores by max depth and min samples\n",
    "sns.set()\n",
    "g = sns.FacetGrid(results, col=\"param_max_depth\", col_wrap=3, height=2)\n",
    "g.map(sns.pointplot, \"param_min_samples_leaf\", \"mean_test_score\", order=[5,10,15], color=\".3\", ci=None)"
   ]
  },
  {
   "cell_type": "code",
   "execution_count": 29,
   "id": "d8da71a0",
   "metadata": {},
   "outputs": [
    {
     "data": {
      "text/plain": [
       "<seaborn.axisgrid.FacetGrid at 0x24a81b49520>"
      ]
     },
     "execution_count": 29,
     "metadata": {},
     "output_type": "execute_result"
    },
    {
     "data": {
      "image/png": "[encoded data removed]",
      "text/plain": [
       "<Figure size 489.6x367.2 with 3 Axes>"
      ]
     },
     "metadata": {},
     "output_type": "display_data"
    }
   ],
   "source": [
    "#Looking features scores\n",
    "g = sns.FacetGrid(results, row=\"param_max_features\",\n",
    "                  height=1.7, aspect=4,)\n",
    "g.map(sns.kdeplot, \"mean_test_score\")"
   ]
  },
  {
   "cell_type": "code",
   "execution_count": 30,
   "id": "e7b0982a",
   "metadata": {},
   "outputs": [
    {
     "data": {
      "text/plain": [
       "<seaborn.axisgrid.FacetGrid at 0x24a81fbda30>"
      ]
     },
     "execution_count": 30,
     "metadata": {},
     "output_type": "execute_result"
    },
    {
     "data": {
      "image/png": "[encoded data removed]",
      "text/plain": [
       "<Figure size 432x144 with 3 Axes>"
      ]
     },
     "metadata": {},
     "output_type": "display_data"
    }
   ],
   "source": [
    "sns.set()\n",
    "g = sns.FacetGrid(results, col=\"param_n_estimators\", col_wrap=3, height=2)\n",
    "g.map(sns.pointplot, \"param_min_samples_leaf\", \"param_n_estimators\", order=[5,10,15], color=\".3\", ci=None)"
   ]
  },
  {
   "cell_type": "markdown",
   "id": "94980fa6",
   "metadata": {},
   "source": [
    "- n_estimator don't seem to have an impace\n",
    "- learning rate get a maximum between 0.1 and 1 "
   ]
  },
  {
   "cell_type": "markdown",
   "id": "2f284e62",
   "metadata": {},
   "source": [
    "## Testing model"
   ]
  },
  {
   "cell_type": "code",
   "execution_count": 18,
   "id": "f4568227",
   "metadata": {},
   "outputs": [
    {
     "data": {
      "text/plain": [
       "0.8939393939393939"
      ]
     },
     "execution_count": 18,
     "metadata": {},
     "output_type": "execute_result"
    }
   ],
   "source": [
    "# Testing model\n",
    "y_pred = rf_grid.predict(X_test)\n",
    "accuracy_score(y_test, y_pred)"
   ]
  },
  {
   "cell_type": "code",
   "execution_count": 21,
   "id": "b4ecb5c5",
   "metadata": {},
   "outputs": [
    {
     "data": {
      "text/html": [
       "<div>\n",
       "<style scoped>\n",
       "    .dataframe tbody tr th:only-of-type {\n",
       "        vertical-align: middle;\n",
       "    }\n",
       "\n",
       "    .dataframe tbody tr th {\n",
       "        vertical-align: top;\n",
       "    }\n",
       "\n",
       "    .dataframe thead th {\n",
       "        text-align: right;\n",
       "    }\n",
       "</style>\n",
       "<table border=\"1\" class=\"dataframe\">\n",
       "  <thead>\n",
       "    <tr style=\"text-align: right;\">\n",
       "      <th>Predicted</th>\n",
       "      <th>Addiction with psychologic effect</th>\n",
       "      <th>Addiction without psychologic effect</th>\n",
       "      <th>No Addiction</th>\n",
       "      <th>All</th>\n",
       "    </tr>\n",
       "    <tr>\n",
       "      <th>Real</th>\n",
       "      <th></th>\n",
       "      <th></th>\n",
       "      <th></th>\n",
       "      <th></th>\n",
       "    </tr>\n",
       "  </thead>\n",
       "  <tbody>\n",
       "    <tr>\n",
       "      <th>Addiction with psychologic effect</th>\n",
       "      <td>164</td>\n",
       "      <td>8</td>\n",
       "      <td>11</td>\n",
       "      <td>183</td>\n",
       "    </tr>\n",
       "    <tr>\n",
       "      <th>Addiction without psychologic effect</th>\n",
       "      <td>15</td>\n",
       "      <td>152</td>\n",
       "      <td>12</td>\n",
       "      <td>179</td>\n",
       "    </tr>\n",
       "    <tr>\n",
       "      <th>No Addiction</th>\n",
       "      <td>15</td>\n",
       "      <td>9</td>\n",
       "      <td>274</td>\n",
       "      <td>298</td>\n",
       "    </tr>\n",
       "    <tr>\n",
       "      <th>All</th>\n",
       "      <td>194</td>\n",
       "      <td>169</td>\n",
       "      <td>297</td>\n",
       "      <td>660</td>\n",
       "    </tr>\n",
       "  </tbody>\n",
       "</table>\n",
       "</div>"
      ],
      "text/plain": [
       "Predicted                             Addiction with psychologic effect  \\\n",
       "Real                                                                      \n",
       "Addiction with psychologic effect                                   164   \n",
       "Addiction without psychologic effect                                 15   \n",
       "No Addiction                                                         15   \n",
       "All                                                                 194   \n",
       "\n",
       "Predicted                             Addiction without psychologic effect  \\\n",
       "Real                                                                         \n",
       "Addiction with psychologic effect                                        8   \n",
       "Addiction without psychologic effect                                   152   \n",
       "No Addiction                                                             9   \n",
       "All                                                                    169   \n",
       "\n",
       "Predicted                             No Addiction  All  \n",
       "Real                                                     \n",
       "Addiction with psychologic effect               11  183  \n",
       "Addiction without psychologic effect            12  179  \n",
       "No Addiction                                   274  298  \n",
       "All                                            297  660  "
      ]
     },
     "execution_count": 21,
     "metadata": {},
     "output_type": "execute_result"
    }
   ],
   "source": [
    "cross = pd.crosstab(y_test, y_pred, rownames=['Real'], colnames=['Predicted'], margins=True)\n",
    "cross"
   ]
  },
  {
   "cell_type": "code",
   "execution_count": 24,
   "id": "46e062cb",
   "metadata": {},
   "outputs": [
    {
     "data": {
      "image/png": "[encoded data removed]",
      "text/plain": [
       "<Figure size 720x504 with 2 Axes>"
      ]
     },
     "metadata": {},
     "output_type": "display_data"
    }
   ],
   "source": [
    "# Confusion Matrix\n",
    "\n",
    "plt.rcParams['axes.labelsize'] = 20\n",
    "plt.rcParams['xtick.labelsize'] = 16\n",
    "plt.rcParams['ytick.labelsize'] = 20\n",
    "plt.rcParams.update({'font.size': 22})\n",
    "fig, ax = plt.subplots(1, 1, figsize=(10,7))\n",
    "plt.grid(False)\n",
    "fig.suptitle('Confusion Matrix', fontsize=15)\n",
    "plot_confusion_matrix(rf_grid, X_test, y_test, normalize='true', cmap=plt.cm.Blues, ax=ax)\n",
    "plt.xlabel('Predicted')\n",
    "plt.xticks(rotation =90)\n",
    "plt.ylabel('Real')\n",
    "plt.show() "
   ]
  },
  {
   "cell_type": "code",
   "execution_count": 25,
   "id": "93b02a46",
   "metadata": {},
   "outputs": [
    {
     "data": {
      "text/html": [
       "<div>\n",
       "<style scoped>\n",
       "    .dataframe tbody tr th:only-of-type {\n",
       "        vertical-align: middle;\n",
       "    }\n",
       "\n",
       "    .dataframe tbody tr th {\n",
       "        vertical-align: top;\n",
       "    }\n",
       "\n",
       "    .dataframe thead th {\n",
       "        text-align: right;\n",
       "    }\n",
       "</style>\n",
       "<table border=\"1\" class=\"dataframe\">\n",
       "  <thead>\n",
       "    <tr style=\"text-align: right;\">\n",
       "      <th></th>\n",
       "      <th>Variable</th>\n",
       "      <th>Value</th>\n",
       "      <th>%</th>\n",
       "    </tr>\n",
       "  </thead>\n",
       "  <tbody>\n",
       "    <tr>\n",
       "      <th>0</th>\n",
       "      <td>Ketamine</td>\n",
       "      <td>0.009280</td>\n",
       "      <td>0.927970</td>\n",
       "    </tr>\n",
       "    <tr>\n",
       "      <th>1</th>\n",
       "      <td>Meth</td>\n",
       "      <td>0.009436</td>\n",
       "      <td>0.943608</td>\n",
       "    </tr>\n",
       "    <tr>\n",
       "      <th>2</th>\n",
       "      <td>Gender</td>\n",
       "      <td>0.010161</td>\n",
       "      <td>1.016126</td>\n",
       "    </tr>\n",
       "    <tr>\n",
       "      <th>3</th>\n",
       "      <td>Benzos</td>\n",
       "      <td>0.019973</td>\n",
       "      <td>1.997280</td>\n",
       "    </tr>\n",
       "    <tr>\n",
       "      <th>4</th>\n",
       "      <td>Ascore</td>\n",
       "      <td>0.027540</td>\n",
       "      <td>2.754001</td>\n",
       "    </tr>\n",
       "    <tr>\n",
       "      <th>5</th>\n",
       "      <td>Education</td>\n",
       "      <td>0.032676</td>\n",
       "      <td>3.267630</td>\n",
       "    </tr>\n",
       "    <tr>\n",
       "      <th>6</th>\n",
       "      <td>Age</td>\n",
       "      <td>0.039960</td>\n",
       "      <td>3.995973</td>\n",
       "    </tr>\n",
       "    <tr>\n",
       "      <th>7</th>\n",
       "      <td>LSD</td>\n",
       "      <td>0.066670</td>\n",
       "      <td>6.666981</td>\n",
       "    </tr>\n",
       "    <tr>\n",
       "      <th>8</th>\n",
       "      <td>Oscore</td>\n",
       "      <td>0.078900</td>\n",
       "      <td>7.890016</td>\n",
       "    </tr>\n",
       "    <tr>\n",
       "      <th>9</th>\n",
       "      <td>Amphet</td>\n",
       "      <td>0.082664</td>\n",
       "      <td>8.266409</td>\n",
       "    </tr>\n",
       "    <tr>\n",
       "      <th>10</th>\n",
       "      <td>Cscore</td>\n",
       "      <td>0.107784</td>\n",
       "      <td>10.778358</td>\n",
       "    </tr>\n",
       "    <tr>\n",
       "      <th>11</th>\n",
       "      <td>Cannabis</td>\n",
       "      <td>0.119882</td>\n",
       "      <td>11.988191</td>\n",
       "    </tr>\n",
       "    <tr>\n",
       "      <th>12</th>\n",
       "      <td>Escore</td>\n",
       "      <td>0.127113</td>\n",
       "      <td>12.711255</td>\n",
       "    </tr>\n",
       "    <tr>\n",
       "      <th>13</th>\n",
       "      <td>SS</td>\n",
       "      <td>0.129216</td>\n",
       "      <td>12.921627</td>\n",
       "    </tr>\n",
       "    <tr>\n",
       "      <th>14</th>\n",
       "      <td>Nscore</td>\n",
       "      <td>0.138746</td>\n",
       "      <td>13.874575</td>\n",
       "    </tr>\n",
       "  </tbody>\n",
       "</table>\n",
       "</div>"
      ],
      "text/plain": [
       "     Variable     Value          %\n",
       "0    Ketamine  0.009280   0.927970\n",
       "1        Meth  0.009436   0.943608\n",
       "2      Gender  0.010161   1.016126\n",
       "3      Benzos  0.019973   1.997280\n",
       "4      Ascore  0.027540   2.754001\n",
       "5   Education  0.032676   3.267630\n",
       "6         Age  0.039960   3.995973\n",
       "7         LSD  0.066670   6.666981\n",
       "8      Oscore  0.078900   7.890016\n",
       "9      Amphet  0.082664   8.266409\n",
       "10     Cscore  0.107784  10.778358\n",
       "11   Cannabis  0.119882  11.988191\n",
       "12     Escore  0.127113  12.711255\n",
       "13         SS  0.129216  12.921627\n",
       "14     Nscore  0.138746  13.874575"
      ]
     },
     "execution_count": 25,
     "metadata": {},
     "output_type": "execute_result"
    }
   ],
   "source": [
    "# Importance Featuring\n",
    "\n",
    "importance = pd.DataFrame(data=rf_grid.best_estimator_.feature_importances_, columns = ['Value'],\\\n",
    "index=X_test.columns).reset_index().rename(columns={'index':'Variable'}).sort_values('Value').reset_index(drop=True)\n",
    "importance['%'] = importance['Value']*100\n",
    "importance"
   ]
  },
  {
   "cell_type": "code",
   "execution_count": 26,
   "id": "c402d9c1",
   "metadata": {},
   "outputs": [
    {
     "data": {
      "text/plain": [
       "<BarContainer object of 15 artists>"
      ]
     },
     "execution_count": 26,
     "metadata": {},
     "output_type": "execute_result"
    },
    {
     "data": {
      "image/png": "[encoded data removed]",
      "text/plain": [
       "<Figure size 720x504 with 1 Axes>"
      ]
     },
     "metadata": {},
     "output_type": "display_data"
    }
   ],
   "source": [
    "# Model importance\n",
    "plt.rcParams['axes.labelsize'] = 12\n",
    "plt.rcParams['xtick.labelsize'] = 12\n",
    "plt.rcParams['ytick.labelsize'] = 15\n",
    "plt.rcParams.update({'font.size': 20})\n",
    "plt.figure(figsize=(10,7))\n",
    "plt.barh(importance['Variable'], importance['Value'])"
   ]
  },
  {
   "cell_type": "markdown",
   "id": "f9a5f7d0",
   "metadata": {},
   "source": [
    "Removing features don't seem useful we can stop here"
   ]
  }
 ],
 "metadata": {
  "kernelspec": {
   "display_name": "Python 3",
   "language": "python",
   "name": "python3"
  },
  "language_info": {
   "codemirror_mode": {
    "name": "ipython",
    "version": 3
   },
   "file_extension": ".py",
   "mimetype": "text/x-python",
   "name": "python",
   "nbconvert_exporter": "python",
   "pygments_lexer": "ipython3",
   "version": "3.8.8"
  }
 },
 "nbformat": 4,
 "nbformat_minor": 5
}
